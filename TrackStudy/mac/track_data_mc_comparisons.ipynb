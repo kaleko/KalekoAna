{
 "cells": [
  {
   "cell_type": "code",
   "execution_count": null,
   "metadata": {
    "collapsed": true
   },
   "outputs": [],
   "source": [
    "%matplotlib inline\n",
    "from ROOT import TFile, TTree\n",
    "\n",
    "import numpy as np\n",
    "import matplotlib.pylab as plt\n",
    "import pandas as pd\n",
    "import re\n",
    "\n",
    "from root_numpy import root2array\n"
   ]
  },
  {
   "cell_type": "code",
   "execution_count": null,
   "metadata": {
    "collapsed": false
   },
   "outputs": [],
   "source": [
    "filedir = '/Users/davidkaleko/larlite/UserDev/KalekoAna/TrackStudy/mac/polished_output/'\n",
    "!ls $filedir"
   ]
  },
  {
   "cell_type": "code",
   "execution_count": null,
   "metadata": {
    "collapsed": false
   },
   "outputs": [],
   "source": [
    "mcnu = 'TrackDataMCComp_XiaoEvts_MCC7BNBCosmics_173400evts_out.root'\n",
    "mcbkg = 'TrackDataMCComp_XiaoEvts_INTIMECOSMICS_20602evts_out.root'\n",
    "datanu = 'TrackDataMCComp_XiaoEvts_BNBFILTER_545906evts_out.root'\n",
    "databkg = 'TrackDataMCComp_XiaoEvts_BNBEXT_379637evts_out.root'\n",
    "\n",
    "files = { 'mcnu' : filedir + mcnu, \n",
    "          'mcbkg' : filedir + mcbkg,\n",
    "         'datanu' : filedir + datanu, \n",
    "         'databkg' : filedir + databkg }\n",
    "\n",
    "n_evts_analyzed = { 'mcbkg' : 20602, 'databkg' : 379637, 'datanu' : 545906, 'mcnu' : 173400 }"
   ]
  },
  {
   "cell_type": "code",
   "execution_count": null,
   "metadata": {
    "collapsed": false
   },
   "outputs": [],
   "source": [
    "df_dict = {}\n",
    "\n",
    "for sample, filepath in files.iteritems():\n",
    "    df_dict[sample] = pd.DataFrame( root2array ( filepath, 'trk_tree' ) )"
   ]
  },
  {
   "cell_type": "code",
   "execution_count": null,
   "metadata": {
    "collapsed": false
   },
   "outputs": [],
   "source": [
    "pot_per_sample = {'datanu': (float(n_evts_analyzed['datanu']) / 545906) * 4.88e+19, \n",
    "                  'databkg': (float(n_evts_analyzed['databkg']) / 379637) * 5.922589105698338e+19, \n",
    "                  'mcbkg': (float(n_evts_analyzed['mcbkg']) / 20602) *9.56562114062697e+18, \n",
    "                  'mcnu': (float(n_evts_analyzed['mcnu']) / 173400) *2.099007e+20}"
   ]
  },
  {
   "cell_type": "code",
   "execution_count": null,
   "metadata": {
    "collapsed": false
   },
   "outputs": [],
   "source": [
    "print n_evts_analyzed\n",
    "print pot_per_sample"
   ]
  },
  {
   "cell_type": "code",
   "execution_count": null,
   "metadata": {
    "collapsed": false
   },
   "outputs": [],
   "source": [
    "print df_dict.keys()"
   ]
  },
  {
   "cell_type": "code",
   "execution_count": null,
   "metadata": {
    "collapsed": false
   },
   "outputs": [],
   "source": [
    "print df_dict['databkg'].columns.values"
   ]
  },
  {
   "cell_type": "code",
   "execution_count": null,
   "metadata": {
    "collapsed": true
   },
   "outputs": [],
   "source": [
    "def plotVariableComparisonBkg(myvar, mybins, myquery, mytitle, myshapeonly = False, myylims = None,\\\n",
    "                           myxlabel = 'test', myylabel = 'test'):\n",
    "\n",
    "    plt.figure(figsize=(10,6))\n",
    "    poop = plt.grid(True)\n",
    "    plt.title(mytitle,fontsize=16)\n",
    "  \n",
    "    mydict_intime = df_dict['mcbkg']\n",
    "    if myquery: mydict_intime = df_dict['mcbkg'].query(myquery)\n",
    "    myweight_intime = (5.e19) / pot_per_sample['mcbkg']\n",
    "    myvals_intime = mydict_intime[myvar].values\n",
    "    nphist = np.histogram(myvals_intime,bins=mybins,\n",
    "                          weights=[myweight_intime]*len(myvals_intime),\n",
    "                          normed=myshapeonly)\n",
    "    integral_intime = np.sum(nphist[0])\n",
    "    \n",
    "    poop = plt.hist(myvals_intime,bins=mybins,\n",
    "                    label='MC: Cosmic Bkg. from In Time Cosmic Entries = %0.2f' % integral_intime,\n",
    "                    alpha=0.5,\n",
    "                    weights=[myweight_intime]*len(myvals_intime),\n",
    "                    color='cyan',\n",
    "                    stacked=False,\n",
    "                    rwidth=1.)\n",
    "\n",
    "    myextvals = df_dict['databkg'][myvar].values\n",
    "    if myquery: myextvals = df_dict['databkg'].query(myquery)[myvar].values\n",
    "    myextweight = (5.e19) / pot_per_sample['databkg']\n",
    "    extintegral = 0.\n",
    "    if len(myextvals):\n",
    "        blah = plt.hist(myextvals,bins=mybins,color='g',\n",
    "                        alpha=0,weights=[myextweight]*len(myextvals),normed=myshapeonly)\n",
    "    \n",
    "        yextvals = blah[0]\n",
    "        xextvals = [blah[1][i]+(blah[1][i+1]-blah[1][i])/2. for i in xrange(len(blah[1][:-1]))]\n",
    "        yerrs = np.sqrt(np.array(yextvals)*myextweight)\n",
    "        extintegral = np.sum(blah[0])\n",
    "        awefia = plt.errorbar(xextvals,yextvals,fmt='ro', yerr=yerrs,\n",
    "                          label='BNB EXT DATA: Entries = %0.2f' % extintegral\n",
    "                         )\n",
    "\n",
    "    plt.ylim((0, plt.ylim()[1]))\n",
    "    if myylims is not None:\n",
    "        plt.ylim(myylims)\n",
    "    leg = plt.legend()\n",
    "    plt.xlabel(myxlabel,fontsize=16)\n",
    "    plt.ylabel(myylabel,fontsize=16)\n",
    "    dummy = leg.get_frame().set_alpha(0.5)"
   ]
  },
  {
   "cell_type": "code",
   "execution_count": null,
   "metadata": {
    "collapsed": false
   },
   "outputs": [],
   "source": [
    "myvar = 'trk_len'\n",
    "mybins = np.linspace(0,1000,20)\n",
    "mytitle = 'Length of All Tracks (>3cm) In Event [Xiao Selected Events]'\n",
    "myshapeonly = False\n",
    "myquery = ''\n",
    "myxlabel = 'Reco Track Length [cm]'\n",
    "myylabel = 'Events (5e19 POT Normalized)'\n",
    "myylims = (0,2000)\n",
    "plotVariableComparisonBkg(myvar,mybins,myquery,mytitle,myshapeonly,myylims,myxlabel,myylabel)"
   ]
  },
  {
   "cell_type": "code",
   "execution_count": null,
   "metadata": {
    "collapsed": true
   },
   "outputs": [],
   "source": [
    "def plotVariableComparison(myvar, mybins, myquery, mytitle, myshapeonly = False, myylims = None,\\\n",
    "                           myxlabel = 'test', myylabel = 'test'):\n",
    "\n",
    "    plt.figure(figsize=(10,6))\n",
    "    poop = plt.grid(True)\n",
    "    plt.title(mytitle,fontsize=16)\n",
    "    #plt.ylabel('Events: 5e19 POT Normalized',fontsize=16)\n",
    "    \n",
    "    mydict = df_dict['mcnu']\n",
    "    if myquery: mydict = df_dict['mcnu'].query(myquery)\n",
    "    #myvals = mydict[myvar].values\n",
    "    myweight = (5.e19) / pot_per_sample['mcnu']\n",
    "    \n",
    "    myvals = mydict[myvar].values\n",
    "    \n",
    "    #integral = float(len(myvals))*myweight\n",
    "    nphist = np.histogram(myvals,bins=mybins,\n",
    "                          weights=[myweight]*len(myvals),\n",
    "                          normed=myshapeonly)\n",
    "    integral = np.sum(nphist[0])  \n",
    "    \n",
    "    poop = plt.hist(myvals,bins=mybins,\n",
    "                    label='MC: BNB+Cosmic (Signal+Background): Entries = %0.2f' % integral,\n",
    "                    alpha=0.5,\n",
    "                    weights= [myweight]*len(myvals),\n",
    "                    normed=myshapeonly,\n",
    "                   color='b',\n",
    "                    stacked=True,\n",
    "                   rwidth=1.)\n",
    "\n",
    "    mybnbdict = df_dict['datanu']    \n",
    "    if myquery: mybnbdict = df_dict['datanu'].query(myquery)\n",
    "    mybnbvals = mybnbdict[myvar].values\n",
    "    mybnbweight = (5.e19) / pot_per_sample['datanu']\n",
    "    \n",
    "    blah = plt.hist(mybnbvals,bins=mybins,color='g',\n",
    "                    alpha=0,weights=[mybnbweight]*len(mybnbvals),normed=myshapeonly)\n",
    "    \n",
    "    ybnbvals = blah[0]\n",
    "    xbnbvals = [blah[1][i]+(blah[1][i+1]-blah[1][i])/2. for i in xrange(len(blah[1][:-1]))]\n",
    "    bnbintegral = np.sum(blah[0])\n",
    "    #awefia = plt.plot(xbnbvals,ybnbvals,'bo',\n",
    "    #                  label='BNB DATA: Entries = %0.2f' % bnbintegral\n",
    "    #                 )\n",
    "\n",
    "    myextvals = df_dict['databkg'][myvar].values\n",
    "    if myquery: myextvals = df_dict['databkg'].query(myquery)[myvar].values\n",
    "    myextweight = (5.e19) / pot_per_sample['databkg']\n",
    "    extintegral = 0.\n",
    "    if len(myextvals):\n",
    "        blah = plt.hist(myextvals,bins=mybins,color='g',\n",
    "                        alpha=0,weights=[myextweight]*len(myextvals),normed=myshapeonly)\n",
    "    \n",
    "        yextvals = blah[0]\n",
    "        xextvals = [blah[1][i]+(blah[1][i+1]-blah[1][i])/2. for i in xrange(len(blah[1][:-1]))]\n",
    "        yerrs = np.sqrt(np.array(yextvals)*myextweight)\n",
    "        #extintegral = float(len(myextvals))*myextweight\n",
    "        extintegral = np.sum(blah[0])\n",
    "        #awefia = plt.errorbar(xextvals,yextvals,fmt='ro', yerr=yerrs,\n",
    "        #                  label='BNB EXT DATA: Entries = %0.2f' % extintegral\n",
    "        #                 )\n",
    "\n",
    "        diffintegral = bnbintegral-extintegral\n",
    "        yerrs = np.sqrt(np.array(ybnbvals)*mybnbweight + np.array(yextvals)*myextweight)\n",
    "        #if yerrs is zero, set equal to 1 event\n",
    "        yerrs = [x if x else 1 for x in yerrs]\n",
    "        awefia = plt.errorbar(xextvals,ybnbvals-yextvals,fmt='mo',yerr = yerrs,\n",
    "                          label='BNB DATA - BNB EXT DATA (%0.2f)' % diffintegral\n",
    "                         )\n",
    "    else:\n",
    "        diffintegral = bnbintegral\n",
    "        yerrs = np.sqrt(np.array(ybnbvals)*mybnbweight)\n",
    "        #if yerrs is zero, set equal to 1 event\n",
    "        yerrs = [x if x else 1 for x in yerrs]\n",
    "        awefia = plt.errorbar(xbnbvals,ybnbvals,fmt='mo',yerr = yerrs,\n",
    "                          label='BNB DATA - BNB EXT DATA (%0.2f)' % diffintegral\n",
    "                         )\n",
    "    plt.ylim((0, plt.ylim()[1]))\n",
    "    if myylims is not None:\n",
    "        plt.ylim(myylims)\n",
    "    leg = plt.legend()\n",
    "    plt.xlabel(myxlabel,fontsize=16)\n",
    "    plt.ylabel(myylabel,fontsize=16)\n",
    "    leg.get_frame().set_alpha(0.5)"
   ]
  },
  {
   "cell_type": "code",
   "execution_count": null,
   "metadata": {
    "collapsed": false,
    "scrolled": false
   },
   "outputs": [],
   "source": [
    "myvar = 'trk_len'\n",
    "mybins = np.linspace(0,1000,20)\n",
    "mytitle = 'Length of All Tracks (>3cm) In Event [Xiao Selected Events]'\n",
    "myshapeonly = False\n",
    "myquery = ''\n",
    "myxlabel = 'Reco Track Length [cm]'\n",
    "myylabel = 'Events (5e19 POT Normalized)'\n",
    "myylims = (0,220)\n",
    "plotVariableComparison(myvar,mybins,myquery,mytitle,myshapeonly,myylims,myxlabel,myylabel)"
   ]
  },
  {
   "cell_type": "markdown",
   "metadata": {},
   "source": [
    "(onbeam - offbeam)                               vs mcc7bnbcosmic\n",
    "overall, (onbeam - offbeam) has too many short tracks\n",
    "just offbeam has too few short tracks\n",
    "that means onbeam has way too many short tracks\n",
    "\n",
    "let's say onbeam is 50 short tracks, offbeam has 30 short tracks.\n",
    "expect 40 short tracks in offbeam from mc\n",
    "onbeam minus offbeam is 20 short tracks, bnbcosmic has 15 short tracks"
   ]
  },
  {
   "cell_type": "markdown",
   "metadata": {},
   "source": [
    "RUN ON IN TIME COSMICS\n",
    "for events Xiao filter selects, histogram: all track lengths, all mctrack lengths\n",
    "since # tracks and # mctracks don't equal, maybe compare shape\n",
    "    -- this doesn't work because pandora removes its cosmic tracks automatically"
   ]
  }
 ],
 "metadata": {
  "kernelspec": {
   "display_name": "Python 2",
   "language": "python",
   "name": "python2"
  },
  "language_info": {
   "codemirror_mode": {
    "name": "ipython",
    "version": 2
   },
   "file_extension": ".py",
   "mimetype": "text/x-python",
   "name": "python",
   "nbconvert_exporter": "python",
   "pygments_lexer": "ipython2",
   "version": "2.7.5"
  }
 },
 "nbformat": 4,
 "nbformat_minor": 0
}
