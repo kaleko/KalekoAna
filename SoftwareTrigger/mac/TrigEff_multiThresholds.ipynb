{
 "cells": [
  {
   "cell_type": "code",
   "execution_count": null,
   "metadata": {
    "collapsed": false
   },
   "outputs": [],
   "source": [
    "%matplotlib inline\n",
    "import numpy as np\n",
    "import pandas as pd\n",
    "import matplotlib.pyplot as plt\n",
    "from root_numpy import root2array\n",
    "from ROOT import TEfficiency\n",
    "from collections import OrderedDict"
   ]
  },
  {
   "cell_type": "code",
   "execution_count": null,
   "metadata": {
    "collapsed": false
   },
   "outputs": [],
   "source": [
    "phmaxes = [ 90, 190, 410 ] #210\n",
    "mytypes = [ 'p', 'e', 'nu' ]\n",
    "filebase, filemiddle, fileend = 'output/','_reco_smallwindow_thres','.root'\n",
    "type_phmax_file = OrderedDict()\n",
    "for phmax in phmaxes:\n",
    "    for mytype in mytypes:\n",
    "        type_phmax_file.update( { (mytype,phmax) : filebase + mytype + filemiddle + str(phmax) + fileend } )\n",
    "  "
   ]
  },
  {
   "cell_type": "code",
   "execution_count": null,
   "metadata": {
    "collapsed": false
   },
   "outputs": [],
   "source": [
    "dfs = OrderedDict()\n",
    "for mytypephmax, myfile in type_phmax_file.iteritems():\n",
    "    dfs.update( { mytypephmax : pd.DataFrame( root2array( myfile, 'ana_tree' ) ) } )\n",
    "print dfs.keys()"
   ]
  },
  {
   "cell_type": "code",
   "execution_count": null,
   "metadata": {
    "collapsed": false
   },
   "outputs": [],
   "source": [
    "k = TEfficiency()\n",
    "k.SetStatisticOption(TEfficiency.kFFC)\n",
    "def genEffsVsNRecoPE(mytype,myphmax,myspace=1,mynum_points=20):\n",
    "    recoPE_threshs = np.linspace(0,mynum_points*myspace,mynum_points)\n",
    "    effs, errors_upper, errors_lower = [], [], []\n",
    "    for index in xrange(len(recoPE_threshs)):\n",
    "\n",
    "        this_val = recoPE_threshs[index]   \n",
    "        tmp_df = dfs[(mytype,myphmax)].query('%g < n_reco_PE and n_reco_PE < %g' % (this_val-myspace/2.,this_val+myspace/2.))\n",
    "        denominator = len(tmp_df)\n",
    "        tmp_df = tmp_df.query('n_trigs > 0')\n",
    "        numerator = len(tmp_df)  \n",
    "        if denominator: effs.append(float(numerator)/float(denominator))\n",
    "        else: effs.append(0)\n",
    "        errors_upper.append(k.FeldmanCousins(denominator,numerator,0.6827,True))\n",
    "        errors_lower.append(k.FeldmanCousins(denominator,numerator,0.6827,False))\n",
    "    return recoPE_threshs, effs, errors_upper, errors_lower"
   ]
  },
  {
   "cell_type": "code",
   "execution_count": null,
   "metadata": {
    "collapsed": false
   },
   "outputs": [],
   "source": [
    "def plotAllEffsVsNRecoPE(myxlabel='Reconstructed PE: OpHit PE within [-4us --> 10us] of True Interaction Time',myscale=1,myspace=1,mynum_points=20):\n",
    "    plt.figure(figsize=(10,6))\n",
    "    for mytype, myphmax in dfs.keys():\n",
    "        xs, ys, eup, elow = genEffsVsNRecoPE(mytype,myphmax,myspace,mynum_points)\n",
    "        xs *= myscale\n",
    "        elow = np.array(ys) - np.array(elow)\n",
    "        eup = np.array(eup) - np.array(ys)\n",
    "        plt.errorbar(xs,ys,yerr=[elow,eup],fmt='o--',label=\"%s: PEthres %0.1f\"%(mytype,myphmax/20.))\n",
    "        plt.ylim((0,1))\n",
    "        plt.xlabel(myxlabel)\n",
    "        plt.ylabel('Trigger Efficiency')\n",
    "        plt.title('Trigger Efficiency')\n",
    "        plt.legend(loc=4)\n",
    "        plt.grid(True)"
   ]
  },
  {
   "cell_type": "code",
   "execution_count": null,
   "metadata": {
    "collapsed": false
   },
   "outputs": [],
   "source": [
    "plotAllEffsVsNRecoPE(myxlabel='Summed OpHit PE within [-4us --> 10us] of True Interaction Time',myspace=8)"
   ]
  },
  {
   "cell_type": "code",
   "execution_count": null,
   "metadata": {
    "collapsed": true
   },
   "outputs": [],
   "source": []
  },
  {
   "cell_type": "code",
   "execution_count": null,
   "metadata": {
    "collapsed": true
   },
   "outputs": [],
   "source": [
    "def genEffsVsE(mytype, myphmax):\n",
    "    space = .0025\n",
    "    num_points = 40\n",
    "    threshs = np.linspace(0,num_points*space,num_points)\n",
    "    effs, errors_upper, errors_lower = [], [], []\n",
    "    for index in xrange(len(threshs)):\n",
    "        this_val = threshs[index]  \n",
    "        mass = 0     \n",
    "        if mytype == 'e': mass = 0.511/1000. \n",
    "        elif mytype == 'p': mass = 0.938\n",
    "            \n",
    "        myquery = 'energy - %f > %g and energy - %f < %g' % (mass, this_val-space/2.,mass,this_val+space/2.)\n",
    "         \n",
    "        tmp_df = dfs[(mytype,myphmax)].query(myquery)\n",
    "        denominator = len(tmp_df)\n",
    "        tmp_df = tmp_df.query('n_trigs > 0')\n",
    "        numerator = len(tmp_df)\n",
    "    \n",
    "        if denominator: effs.append(float(numerator)/float(denominator))\n",
    "        else: effs.append(0)\n",
    "        errors_upper.append(k.FeldmanCousins(denominator,numerator,0.6827,True))\n",
    "        errors_lower.append(k.FeldmanCousins(denominator,numerator,0.6827,False))\n",
    "    return threshs, effs, errors_upper, errors_lower\n",
    "\n",
    "def plotAllEffsVsE():\n",
    "    plt.figure(figsize=(10,6))\n",
    "    for myphmax in phmaxes:\n",
    "        for mytype in ['p']:#,'e']:\n",
    "            xs, ys, eup, elow = genEffsVsE(mytype, myphmax)\n",
    "            elow = np.array(ys) - np.array(elow)\n",
    "            eup = np.array(eup) - np.array(ys)\n",
    "            plt.errorbar(xs,ys,yerr=[elow,eup],fmt='o--',label=\"%s: PEthres %0.1f\"%(mytype,myphmax/20.))\n",
    "            plt.ylim((0,1))\n",
    "            plt.xlabel('Kinetic Energy of Interacting Particle [GEV]')\n",
    "            plt.ylabel('Trigger Efficiency')\n",
    "            plt.title('Trigger Efficiency vs. Single Particle Kinetic Energy [Single Protons]')\n",
    "            plt.legend(loc=4)\n",
    "            plt.grid(True)"
   ]
  },
  {
   "cell_type": "code",
   "execution_count": null,
   "metadata": {
    "collapsed": false
   },
   "outputs": [],
   "source": [
    "plotAllEffsVsE()"
   ]
  },
  {
   "cell_type": "code",
   "execution_count": null,
   "metadata": {
    "collapsed": true
   },
   "outputs": [],
   "source": []
  }
 ],
 "metadata": {
  "kernelspec": {
   "display_name": "Python 2",
   "language": "python",
   "name": "python2"
  },
  "language_info": {
   "codemirror_mode": {
    "name": "ipython",
    "version": 2
   },
   "file_extension": ".py",
   "mimetype": "text/x-python",
   "name": "python",
   "nbconvert_exporter": "python",
   "pygments_lexer": "ipython2",
   "version": "2.7.5"
  }
 },
 "nbformat": 4,
 "nbformat_minor": 0
}
