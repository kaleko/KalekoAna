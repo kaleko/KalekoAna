{
 "cells": [
  {
   "cell_type": "code",
   "execution_count": null,
   "metadata": {
    "collapsed": false
   },
   "outputs": [],
   "source": [
    "%matplotlib inline\n",
    "import numpy as np\n",
    "import pandas as pd\n",
    "import matplotlib.pyplot as plt\n",
    "from root_numpy import root2array"
   ]
  },
  {
   "cell_type": "code",
   "execution_count": null,
   "metadata": {
    "collapsed": false
   },
   "outputs": [],
   "source": [
    "infile = 'allelectrons_ana_out_TrigEffStudy.root'\n",
    "df = pd.DataFrame( root2array( infile, 'ana_tree' ) )"
   ]
  },
  {
   "cell_type": "code",
   "execution_count": null,
   "metadata": {
    "collapsed": false
   },
   "outputs": [],
   "source": [
    "print df.info()"
   ]
  },
  {
   "cell_type": "code",
   "execution_count": null,
   "metadata": {
    "collapsed": false
   },
   "outputs": [],
   "source": [
    "def genEffsVsNRecoPE():\n",
    "    space = 2\n",
    "    num_points = 15\n",
    "    recoPE_threshs = np.linspace(0,num_points*space,num_points)\n",
    "    effs = []\n",
    "    for index in xrange(len(recoPE_threshs)):\n",
    "\n",
    "        this_val = recoPE_threshs[index]   \n",
    "        tmp_df = df.query('%g < n_reco_PE and n_reco_PE < %g' % (this_val-space/2.,this_val+space/2.))\n",
    "        denominator = len(tmp_df)\n",
    "        tmp_df = tmp_df.query('n_trigs > 0')\n",
    "        numerator = len(tmp_df)\n",
    "    \n",
    "        if denominator: effs.append(float(numerator)/float(denominator))\n",
    "        else: effs.append(0)\n",
    "    return recoPE_threshs, effs"
   ]
  },
  {
   "cell_type": "code",
   "execution_count": null,
   "metadata": {
    "collapsed": false
   },
   "outputs": [],
   "source": [
    "def plotEffsVsNRecoPE():\n",
    "    xs, ys = genEffsVsNRecoPE()\n",
    "    plt.figure(figsize=(10,6))\n",
    "    plt.plot(xs,ys,'ro--')\n",
    "    #plt.ylim((0,1))\n",
    "    plt.xlabel('Reconstructed PE: OpHit Amp/20. within 1.6us of Simulation Trigger Time')\n",
    "    plt.ylabel('Trigger Efficiency')\n",
    "    plt.title('Trigger Efficiency vs. Reco PE')\n",
    "    plt.grid(True)"
   ]
  },
  {
   "cell_type": "code",
   "execution_count": null,
   "metadata": {
    "collapsed": true
   },
   "outputs": [],
   "source": [
    "def genEffsVsXPos():\n",
    "    space = 8\n",
    "    num_points = 40\n",
    "    x_threshs = np.linspace(-10,num_points*space,num_points)\n",
    "    effs = []\n",
    "    for index in xrange(len(x_threshs)):\n",
    "        \n",
    "        this_val = x_threshs[index]   \n",
    "        tmp_df = df.query('%g < x_pos and x_pos < %g' % (this_val-space/2.,this_val+space/2.))\n",
    "        #tmp_df = tmp_df.query('energy<0.5')\n",
    "        denominator = len(tmp_df)\n",
    "        tmp_df = tmp_df.query('n_trigs > 0')\n",
    "        numerator = len(tmp_df)\n",
    "    \n",
    "        if denominator: effs.append(float(numerator)/float(denominator))\n",
    "        else: effs.append(0)\n",
    "    return x_threshs, effs"
   ]
  },
  {
   "cell_type": "code",
   "execution_count": null,
   "metadata": {
    "collapsed": true
   },
   "outputs": [],
   "source": [
    "def plotEffsVsXPos():\n",
    "    xs, ys = genEffsVsXPos()\n",
    "    plt.figure(figsize=(10,6))\n",
    "    plt.plot(xs,ys,'ro--')\n",
    "    #plt.ylim((0,1))\n",
    "    plt.xlabel('X-Position of Interacting Particle')\n",
    "    plt.ylabel('Trigger Efficiency')\n",
    "    plt.title('Trigger Efficiency vs. X-Position')\n",
    "    plt.grid(True)"
   ]
  },
  {
   "cell_type": "code",
   "execution_count": null,
   "metadata": {
    "collapsed": false
   },
   "outputs": [],
   "source": [
    "plotEffsVsXPos()"
   ]
  },
  {
   "cell_type": "code",
   "execution_count": null,
   "metadata": {
    "collapsed": false
   },
   "outputs": [],
   "source": [
    "plotEffsVsNRecoPE()"
   ]
  },
  {
   "cell_type": "code",
   "execution_count": null,
   "metadata": {
    "collapsed": true
   },
   "outputs": [],
   "source": []
  }
 ],
 "metadata": {
  "kernelspec": {
   "display_name": "Python 2",
   "language": "python",
   "name": "python2"
  },
  "language_info": {
   "codemirror_mode": {
    "name": "ipython",
    "version": 2
   },
   "file_extension": ".py",
   "mimetype": "text/x-python",
   "name": "python",
   "nbconvert_exporter": "python",
   "pygments_lexer": "ipython2",
   "version": "2.7.5"
  }
 },
 "nbformat": 4,
 "nbformat_minor": 0
}
