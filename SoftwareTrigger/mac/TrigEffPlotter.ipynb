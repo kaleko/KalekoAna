{
 "cells": [
  {
   "cell_type": "code",
   "execution_count": null,
   "metadata": {
    "collapsed": false
   },
   "outputs": [],
   "source": [
    "%matplotlib inline\n",
    "import numpy as np\n",
    "import pandas as pd\n",
    "import matplotlib.pyplot as plt\n",
    "from root_numpy import root2array"
   ]
  },
  {
   "cell_type": "code",
   "execution_count": null,
   "metadata": {
    "collapsed": false
   },
   "outputs": [],
   "source": [
    "infile = 'ana_out_TrigEffStudy.root'\n",
    "df = pd.DataFrame( root2array( infile, 'ana_tree' ) )"
   ]
  },
  {
   "cell_type": "code",
   "execution_count": null,
   "metadata": {
    "collapsed": false
   },
   "outputs": [],
   "source": [
    "print df.info()"
   ]
  },
  {
   "cell_type": "code",
   "execution_count": null,
   "metadata": {
    "collapsed": false
   },
   "outputs": [],
   "source": [
    "space = 5\n",
    "num_points = 100\n",
    "recoPE_threshs = np.linspace(0,num_points*space,num_points)\n",
    "effs = []\n",
    "for index in xrange(len(recoPE_threshs)):\n",
    "\n",
    "    this_val = recoPE_threshs[index]\n",
    "    \n",
    "    tmp_df = df.query('%g < n_reco_PE and n_reco_PE < %g' % (this_val-space/2.,this_val+space/2.))\n",
    "    \n",
    "    denominator = len(tmp_df)\n",
    "    \n",
    "    tmp_df = tmp_df.query('n_trigs > 0')\n",
    "    \n",
    "    numerator = len(tmp_df)\n",
    "    \n",
    "    if denominator: effs.append(float(numerator)/float(denominator))\n",
    "    else: effs.append(0)\n",
    "    print numerator,'/',denominator,'@',this_val,'+/-',space/2.\n",
    "\n",
    "#for thres in recoPE_threshs:\n",
    "#    denominator = float(df.query('n_reco_PE > %f'%thres).shape[0])\n",
    "#    numerator   = float(df.query('n_reco_PE > %f and n_trigs > 0'%thres).shape[0])\n",
    "#    effs.append(numerator/denominator)"
   ]
  },
  {
   "cell_type": "code",
   "execution_count": null,
   "metadata": {
    "collapsed": false
   },
   "outputs": [],
   "source": [
    "plt.figure(figsize=(10,6))\n",
    "plt.plot(recoPE_threshs,effs,'ro--')\n",
    "#plt.ylim((0,1))\n",
    "plt.xlabel('Reconstructed PE: Summed over PMTs within 8us of Trigger')\n",
    "plt.ylabel('Trigger Efficiency')\n",
    "plt.title('Trigger Efficiency vs. Reco PE')\n",
    "plt.grid(True)"
   ]
  }
 ],
 "metadata": {
  "kernelspec": {
   "display_name": "Python 2",
   "language": "python",
   "name": "python2"
  },
  "language_info": {
   "codemirror_mode": {
    "name": "ipython",
    "version": 2
   },
   "file_extension": ".py",
   "mimetype": "text/x-python",
   "name": "python",
   "nbconvert_exporter": "python",
   "pygments_lexer": "ipython2",
   "version": "2.7.5"
  }
 },
 "nbformat": 4,
 "nbformat_minor": 0
}
