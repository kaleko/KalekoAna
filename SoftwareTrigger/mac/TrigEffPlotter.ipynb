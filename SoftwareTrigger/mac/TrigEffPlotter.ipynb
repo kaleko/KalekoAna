{
 "cells": [
  {
   "cell_type": "code",
   "execution_count": null,
   "metadata": {
    "collapsed": false
   },
   "outputs": [],
   "source": [
    "%matplotlib inline\n",
    "import numpy as np\n",
    "import pandas as pd\n",
    "import matplotlib.pyplot as plt\n",
    "from root_numpy import root2array"
   ]
  },
  {
   "cell_type": "code",
   "execution_count": null,
   "metadata": {
    "collapsed": false
   },
   "outputs": [],
   "source": [
    "type_file = { 'neutrino':'output/allneutrinos_ana_out_TrigEffStudy.root', \n",
    "         'electron':'output/allelectrons_ana_out_TrigEffStudy.root',\n",
    "         'proton':'output/allprotons_ana_out_TrigEffStudy.root' }\n",
    "dfs = {}\n",
    "for mytype, myfile in type_file.iteritems():\n",
    "    dfs[mytype] = pd.DataFrame( root2array( myfile, 'ana_tree' ) )"
   ]
  },
  {
   "cell_type": "code",
   "execution_count": null,
   "metadata": {
    "collapsed": false
   },
   "outputs": [],
   "source": [
    "def genEffsVsNRecoPE(mytype):\n",
    "    space = 1\n",
    "    num_points = 20\n",
    "    recoPE_threshs = np.linspace(0,num_points*space,num_points)\n",
    "    effs = []\n",
    "    for index in xrange(len(recoPE_threshs)):\n",
    "\n",
    "        this_val = recoPE_threshs[index]   \n",
    "        tmp_df = dfs[mytype].query('%g < n_reco_PE and n_reco_PE < %g' % (this_val-space/2.,this_val+space/2.))\n",
    "        denominator = len(tmp_df)\n",
    "        tmp_df = tmp_df.query('n_trigs > 0')\n",
    "        numerator = len(tmp_df)\n",
    "    \n",
    "        if denominator: effs.append(float(numerator)/float(denominator))\n",
    "        else: effs.append(0)\n",
    "    return recoPE_threshs, effs"
   ]
  },
  {
   "cell_type": "code",
   "execution_count": null,
   "metadata": {
    "collapsed": false
   },
   "outputs": [],
   "source": [
    "def plotEffsVsNRecoPE(mytype):\n",
    "    xs, ys = genEffsVsNRecoPE(mytype)\n",
    "    plt.figure(figsize=(10,6))\n",
    "    plt.plot(xs,ys,'ro--')\n",
    "    plt.ylim((0,1))\n",
    "    plt.xlabel('Reconstructed PE: OpHit Amp/20. within 100ns of True Interaction Time')\n",
    "    plt.ylabel('Trigger Efficiency')\n",
    "    plt.title('Trigger Efficiency vs. Reco PE: %s'%mytype)\n",
    "    plt.grid(True)"
   ]
  },
  {
   "cell_type": "code",
   "execution_count": null,
   "metadata": {
    "collapsed": true
   },
   "outputs": [],
   "source": [
    "def plotAllEffsVsNRecoPE():\n",
    "    plt.figure(figsize=(10,6))\n",
    "    for mytype in dfs.keys():\n",
    "        xs, ys = genEffsVsNRecoPE(mytype)\n",
    "        plt.plot(xs,ys,'o--',label=mytype)\n",
    "        plt.ylim((0,1))\n",
    "        plt.xlabel('Reconstructed PE: OpHit Amp/20. within 100ns of True Interaction Time')\n",
    "        plt.ylabel('Trigger Efficiency')\n",
    "        plt.title('Trigger Efficiency vs. Reco PE')\n",
    "        plt.legend()\n",
    "        plt.grid(True)"
   ]
  },
  {
   "cell_type": "code",
   "execution_count": null,
   "metadata": {
    "collapsed": false
   },
   "outputs": [],
   "source": [
    "plotAllEffsVsNRecoPE()"
   ]
  },
  {
   "cell_type": "code",
   "execution_count": null,
   "metadata": {
    "collapsed": true
   },
   "outputs": [],
   "source": [
    "def plotAlldTs():\n",
    "    plt.figure(figsize=(10,6))\n",
    "    mybins = np.linspace(-60,20,80)\n",
    "    for mykey, mydf in dfs.iteritems():\n",
    "        plt.hist(np.array(mydf.query('n_trigs>0')['em_trig_minus_truth_particle_time_ns']),bins=mybins,label=mykey,alpha=0.25)\n",
    "        plt.xlabel('Emulated Trigger Time - True Interaction Time [ns]')\n",
    "        plt.ylabel('Counts')\n",
    "        plt.title('Emulated Trigger Time Offset')\n",
    "        plt.legend()\n",
    "        plt.grid(True)    "
   ]
  },
  {
   "cell_type": "code",
   "execution_count": null,
   "metadata": {
    "collapsed": false
   },
   "outputs": [],
   "source": [
    "plotAlldTs()"
   ]
  },
  {
   "cell_type": "code",
   "execution_count": null,
   "metadata": {
    "collapsed": true
   },
   "outputs": [],
   "source": [
    "def genEffsVsXPos(mytype):\n",
    "    space = 8\n",
    "    num_points = 40\n",
    "    x_threshs = np.linspace(-10,num_points*space,num_points)\n",
    "    effs = []\n",
    "    for index in xrange(len(x_threshs)):\n",
    "        \n",
    "        this_val = x_threshs[index]   \n",
    "        tmp_df = dfs[mytype].query('%g < x_pos and x_pos < %g' % (this_val-space/2.,this_val+space/2.))\n",
    "        #tmp_df = tmp_df.query('energy<0.5')\n",
    "        denominator = len(tmp_df)\n",
    "        tmp_df = tmp_df.query('n_trigs > 0')\n",
    "        numerator = len(tmp_df)\n",
    "    \n",
    "        if denominator: effs.append(float(numerator)/float(denominator))\n",
    "        else: effs.append(0)\n",
    "    return x_threshs, effs"
   ]
  },
  {
   "cell_type": "code",
   "execution_count": null,
   "metadata": {
    "collapsed": true
   },
   "outputs": [],
   "source": [
    "def plotEffsVsXPos(mytype):\n",
    "    xs, ys = genEffsVsXPos(mytype)\n",
    "    plt.figure(figsize=(10,6))\n",
    "    plt.plot(xs,ys,'ro--')\n",
    "    #plt.ylim((0,1))\n",
    "    plt.xlabel('X-Position of Interacting Particle')\n",
    "    plt.ylabel('Trigger Efficiency')\n",
    "    plt.title('Trigger Efficiency vs. X-Position: %s'%mytype)\n",
    "    plt.grid(True)"
   ]
  },
  {
   "cell_type": "code",
   "execution_count": null,
   "metadata": {
    "collapsed": false
   },
   "outputs": [],
   "source": [
    "def plotAllEffsVsXPos():\n",
    "    plt.figure(figsize=(10,6))\n",
    "    for mytype in dfs.keys():\n",
    "        xs, ys = genEffsVsXPos(mytype)\n",
    "        plt.plot(xs,ys,'o--',label=mytype)\n",
    "        plt.ylim((0,1))\n",
    "        plt.xlabel('X-Position of Interacting Particle')\n",
    "        plt.ylabel('Trigger Efficiency')\n",
    "        plt.title('Trigger Efficiency vs. X-Position')\n",
    "        plt.legend()\n",
    "        plt.grid(True)"
   ]
  },
  {
   "cell_type": "code",
   "execution_count": null,
   "metadata": {
    "collapsed": false
   },
   "outputs": [],
   "source": [
    "plotAllEffsVsXPos()"
   ]
  },
  {
   "cell_type": "code",
   "execution_count": null,
   "metadata": {
    "collapsed": true
   },
   "outputs": [],
   "source": []
  }
 ],
 "metadata": {
  "kernelspec": {
   "display_name": "Python 2",
   "language": "python",
   "name": "python2"
  },
  "language_info": {
   "codemirror_mode": {
    "name": "ipython",
    "version": 2
   },
   "file_extension": ".py",
   "mimetype": "text/x-python",
   "name": "python",
   "nbconvert_exporter": "python",
   "pygments_lexer": "ipython2",
   "version": "2.7.5"
  }
 },
 "nbformat": 4,
 "nbformat_minor": 0
}
