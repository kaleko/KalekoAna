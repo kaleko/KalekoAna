{
 "cells": [
  {
   "cell_type": "code",
   "execution_count": 1,
   "metadata": {
    "collapsed": false
   },
   "outputs": [],
   "source": [
    "%matplotlib inline\n",
    "import numpy as np\n",
    "import pandas as pd\n",
    "import matplotlib.pyplot as plt\n",
    "from root_numpy import root2array\n",
    "from collections import OrderedDict"
   ]
  },
  {
   "cell_type": "code",
   "execution_count": 2,
   "metadata": {
    "collapsed": false
   },
   "outputs": [],
   "source": [
    "phmaxes = [ 70, 90, 190, 390, 410 ]\n",
    "mytypes = [ 'p', 'e' ]\n",
    "names = { 'e': 'Single Electron', 'p': 'Single Proton'}\n",
    "masses = { 'e' : 0.000511, 'p' : 0.938 }\n",
    "filebase, filemiddle, fileend = 'output/','_reco_smallwindow_thres','.root'\n",
    "\n",
    "type_phmax_file = OrderedDict()\n",
    "for phmax in phmaxes:\n",
    "    for mytype in mytypes:\n",
    "        type_phmax_file.update( { (mytype,phmax) : filebase + mytype + filemiddle + str(phmax) + fileend } )  "
   ]
  },
  {
   "cell_type": "code",
   "execution_count": null,
   "metadata": {
    "collapsed": false
   },
   "outputs": [],
   "source": [
    "dfs = OrderedDict()\n",
    "for mytypephmax, myfile in type_phmax_file.iteritems():\n",
    "    dfs.update( { mytypephmax : pd.DataFrame( root2array( myfile, 'ana_tree' ) ) } )"
   ]
  },
  {
   "cell_type": "code",
   "execution_count": null,
   "metadata": {
    "collapsed": true
   },
   "outputs": [],
   "source": [
    "def genEffsVsEandXpos(mytype, myphmax):\n",
    "    \n",
    "    df = dfs[(mytype,myphmax)]  \n",
    "    mass = masses[mytype]\n",
    "    nbins = 40\n",
    "    \n",
    "    myx = df['x_pos']\n",
    "    myy = (df['energy'] - mass)*1000.\n",
    "    \n",
    "    plt.figure(figsize=(5,3))\n",
    "    denominator, meaningless, variable, here = plt.hist2d(myx, myy, bins=nbins)\n",
    "    plt.title('Denominator')\n",
    "    plt.colorbar()\n",
    "    \n",
    "    df = df.query('n_trigs > 0')\n",
    "    myx = df['x_pos']\n",
    "    myy = (df['energy'] - mass)*1000.\n",
    "    \n",
    "    plt.figure(figsize=(5,3))\n",
    "    numerator, meaningless, variable, here = plt.hist2d(myx, myy, bins=nbins)\n",
    "    plt.colorbar()\n",
    "    plt.title('Numerator')\n",
    "   \n",
    "    plt.figure(figsize=(10,6))\n",
    "    plt.imshow((numerator/denominator).T, \\\n",
    "               extent=(myx.min(), myx.max(), myy.min(), myy.max()), \\\n",
    "               origin='lower', interpolation='none', \\\n",
    "               vmin=0, vmax=1.)\n",
    "    plt.colorbar()\n",
    "    plt.xlabel('Distance from PMT Plane [cm]',fontsize=14)\n",
    "    plt.ylabel('Kinetic Energy [MeV]',fontsize=14)\n",
    "    plt.title('%s Efficiency, PE > %0.1f Cut'%(names[mytype], myphmax/20.),fontsize=20)\n",
    "    plt.grid(True)\n",
    "\n",
    "def plotAllEffsVsEandXpos():\n",
    "    plt.figure(figsize=(10,6))\n",
    "    for mytype in ['p', 'e']:\n",
    "        for myphmax in phmaxes:\n",
    "            genEffsVsEandXpos(mytype,myphmax)"
   ]
  },
  {
   "cell_type": "code",
   "execution_count": null,
   "metadata": {
    "collapsed": false,
    "scrolled": false
   },
   "outputs": [],
   "source": [
    "plotAllEffsVsEandXpos()"
   ]
  },
  {
   "cell_type": "code",
   "execution_count": null,
   "metadata": {
    "collapsed": true
   },
   "outputs": [],
   "source": []
  }
 ],
 "metadata": {
  "kernelspec": {
   "display_name": "Python 2",
   "language": "python",
   "name": "python2"
  },
  "language_info": {
   "codemirror_mode": {
    "name": "ipython",
    "version": 2
   },
   "file_extension": ".py",
   "mimetype": "text/x-python",
   "name": "python",
   "nbconvert_exporter": "python",
   "pygments_lexer": "ipython2",
   "version": "2.7.5"
  }
 },
 "nbformat": 4,
 "nbformat_minor": 0
}
