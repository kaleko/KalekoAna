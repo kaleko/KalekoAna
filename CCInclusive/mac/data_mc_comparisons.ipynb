{
 "cells": [
  {
   "cell_type": "code",
   "execution_count": null,
   "metadata": {
    "collapsed": true
   },
   "outputs": [],
   "source": [
    "%matplotlib inline\n",
    "from ROOT import TFile, TTree\n",
    "\n",
    "import numpy as np\n",
    "import matplotlib.pylab as plt\n",
    "import pandas as pd\n",
    "import re\n",
    "\n",
    "from root_numpy import root2array\n"
   ]
  },
  {
   "cell_type": "code",
   "execution_count": null,
   "metadata": {
    "collapsed": false
   },
   "outputs": [],
   "source": [
    "filedir = '/Users/davidkaleko/larlite/UserDev/KalekoAna/CCInclusive/mac/polished_output/'\n",
    "!ls $filedir"
   ]
  },
  {
   "cell_type": "code",
   "execution_count": null,
   "metadata": {
    "collapsed": false
   },
   "outputs": [],
   "source": [
    "mcnu = 'XiaoEventAna_out_mcc7_BNBcosmic_NOFILTER.root'\n",
    "mcbkg = 'XiaoEventAna_out_INTIMECOSMIC.root'\n",
    "datanu = 'XiaoEventAna_out_BNBFilter.root'\n",
    "databkg = 'XiaoEventAna_out_BNBEXT.root'\n",
    "\n",
    "files = { 'mcnu' : filedir + mcnu, \n",
    "          'mcbkg' : filedir + mcbkg,\n",
    "         'datanu' : filedir + datanu, \n",
    "         'databkg' : filedir + databkg }\n",
    "\n",
    "mycuts = ['nu_E_estimate > 2.5','second_longest_trk_len > 16.',\n",
    "          'longest_tracks_dotprod_trkendpoints > -0.5']\n",
    "#mcbkgcut = 'correct_ID == 0'\n",
    "#bkgnorm = 1.2"
   ]
  },
  {
   "cell_type": "code",
   "execution_count": null,
   "metadata": {
    "collapsed": false
   },
   "outputs": [],
   "source": [
    "df_dict, n_evts_analyzed = {}, {}\n",
    "\n",
    "for sample, filepath in files.iteritems():\n",
    "    f = open(filepath[:-5]+'_log.txt')\n",
    "    for line in f:\n",
    "        if 'Processed' not in line: continue\n",
    "        m = re.search('(\\d+)\\/(\\d+)', line)\n",
    "        assert m\n",
    "        n_evts_analyzed[sample] = int(m.group(1))\n",
    "    f.close()\n",
    "\n",
    "    df_dict[sample] = pd.DataFrame( root2array ( filepath, 'tree' ) )"
   ]
  },
  {
   "cell_type": "code",
   "execution_count": null,
   "metadata": {
    "collapsed": false
   },
   "outputs": [],
   "source": [
    "pot_per_sample = { 'mcnu' : (1.2105e15) * n_evts_analyzed['mcnu'],\n",
    "                   'datanu' : 4.88e19 }\n",
    "pot_per_sample['databkg'] = pot_per_sample['datanu'] * 0.844 * \\\n",
    "                  float(n_evts_analyzed['datanu'])/n_evts_analyzed['databkg']\n",
    "pot_per_sample['mcbkg'] = pot_per_sample['databkg'] * (1./0.336) * \\\n",
    "                  float(n_evts_analyzed['mcbkg'])/n_evts_analyzed['databkg'] "
   ]
  },
  {
   "cell_type": "code",
   "execution_count": null,
   "metadata": {
    "collapsed": false
   },
   "outputs": [],
   "source": [
    "print n_evts_analyzed\n",
    "print pot_per_sample"
   ]
  },
  {
   "cell_type": "code",
   "execution_count": null,
   "metadata": {
    "collapsed": false
   },
   "outputs": [],
   "source": [
    "print df_dict.keys()"
   ]
  },
  {
   "cell_type": "code",
   "execution_count": null,
   "metadata": {
    "collapsed": false
   },
   "outputs": [],
   "source": [
    "print df_dict['datanu'].columns.values\n",
    "vars_to_try = ['longest_trk_len','nu_E_estimate','longest_trk_theta',\\\n",
    "               'longest_trk_MCS_mom', 'n_associated_tracks']\n",
    "#df_dict['mcnu'].hist('fndecay')"
   ]
  },
  {
   "cell_type": "code",
   "execution_count": null,
   "metadata": {
    "collapsed": false
   },
   "outputs": [],
   "source": [
    "def plotVariableComparison(myvar, mybins, myquery, mytitle, myshapeonly = False, myylims = None,\\\n",
    "                           myxlabel = 'test', myylabel = 'test'):\n",
    "\n",
    "    plt.figure(figsize=(10,6))\n",
    "    poop = plt.grid(True)\n",
    "    plt.title(mytitle,fontsize=16)\n",
    "    #plt.ylabel('Events: 5e19 POT Normalized',fontsize=16)\n",
    "    \n",
    "    mydict = df_dict['mcnu']\n",
    "    if myquery: mydict = df_dict['mcnu'].query(myquery)\n",
    "    #myvals = mydict[myvar].values\n",
    "    myweight = (5.e19) / pot_per_sample['mcnu']\n",
    "    \n",
    "    myvals_pion = mydict.query('fndecay >= 10 and correct_ID == 1')[myvar].values\n",
    "    myvals_kaon = mydict.query('fndecay < 10 and correct_ID == 1')[myvar].values\n",
    "    myvals_cosm = mydict.query('correct_ID == 0')[myvar].values\n",
    "    #integral = float(len(myvals))*myweight\n",
    "    nphist = np.histogram(myvals_cosm,bins=mybins,\n",
    "                          weights=[myweight]*len(myvals_cosm),\n",
    "                          normed=myshapeonly)\n",
    "    integral_cosm = np.sum(nphist[0])  \n",
    "    nphist = np.histogram(myvals_pion,bins=mybins,\n",
    "                          weights=[myweight]*len(myvals_pion),\n",
    "                          normed=myshapeonly)\n",
    "    integral_pion = np.sum(nphist[0])   \n",
    "    nphist = np.histogram(myvals_kaon,bins=mybins,\n",
    "                          weights=[myweight]*len(myvals_kaon),\n",
    "                          normed=myshapeonly)\n",
    "    integral_kaon = np.sum(nphist[0])\n",
    "\n",
    "    #mydict_intime = df_dict['mcbkg']\n",
    "    #if myquery: mydict_intime = df_dict['mcbkg'].query(myquery)\n",
    "    #myweight_intime = (5.e19) / pot_per_sample['mcbkg']\n",
    "    #myvals_intime = mydict_intime[myvar].values\n",
    "    #nphist = np.histogram(myvals_intime,bins=mybins,\n",
    "    #                      weights=[myweight_intime]*len(myvals_intime),\n",
    "    #                      normed=myshapeonly)\n",
    "    #integral_intime = np.sum(nphist[0])\n",
    "    \n",
    "    poop = plt.hist([myvals_cosm,myvals_pion,myvals_kaon],bins=mybins,\n",
    "                    label=[#'MC: Cosmic Bkg. from In Time Cosmic Entries = %0.2f' % integral_intime,\\\n",
    "                           'MC: Cosmic Bkg. from BNB+Cosmic Entries = %0.2f' % integral_cosm, \\\n",
    "                           'MC: Numu from Pion Bkg. Entries = %0.2f' % integral_pion, \\\n",
    "                           'MC: Kaon Signal. Entries = %0.2f\\n    Total MC = (%0.2f)' \\\n",
    "                           % (integral_kaon,integral_cosm+integral_pion+integral_kaon)],\n",
    "                    alpha=0.5,\n",
    "                    weights=[#[myweight_intime]*len(myvals_intime),\n",
    "                             [myweight]*len(myvals_cosm),\n",
    "                             [myweight]*len(myvals_pion),\n",
    "                             [myweight]*len(myvals_kaon)],\n",
    "                             normed=myshapeonly,\n",
    "                   color=['r','b','g'],\n",
    "                    stacked=True,\n",
    "                   rwidth=1.)\n",
    "\n",
    "    mybnbdict = df_dict['datanu']    \n",
    "    if myquery: mybnbdict = df_dict['datanu'].query(myquery)\n",
    "    mybnbvals = mybnbdict[myvar].values\n",
    "    mybnbweight = (5.e19) / pot_per_sample['datanu']\n",
    "    \n",
    "    blah = plt.hist(mybnbvals,bins=mybins,color='g',\n",
    "                    alpha=0,weights=[mybnbweight]*len(mybnbvals),normed=myshapeonly)\n",
    "    \n",
    "    ybnbvals = blah[0]\n",
    "    xbnbvals = [blah[1][i]+(blah[1][i+1]-blah[1][i])/2. for i in xrange(len(blah[1][:-1]))]\n",
    "    bnbintegral = np.sum(blah[0])\n",
    "    #awefia = plt.plot(xbnbvals,ybnbvals,'bo',\n",
    "    #                  label='BNB DATA: Entries = %0.2f' % bnbintegral\n",
    "    #                 )\n",
    "\n",
    "    myextvals = df_dict['databkg'][myvar].values\n",
    "    if myquery: myextvals = df_dict['databkg'].query(myquery)[myvar].values\n",
    "    myextweight = (5.e19) / pot_per_sample['databkg']\n",
    "    extintegral = 0.\n",
    "    if len(myextvals):\n",
    "        blah = plt.hist(myextvals,bins=mybins,color='g',\n",
    "                        alpha=0,weights=[myextweight]*len(myextvals),normed=myshapeonly)\n",
    "    \n",
    "        yextvals = blah[0]\n",
    "        xextvals = [blah[1][i]+(blah[1][i+1]-blah[1][i])/2. for i in xrange(len(blah[1][:-1]))]\n",
    "        yerrs = np.sqrt(np.array(yextvals)*myextweight)\n",
    "        #extintegral = float(len(myextvals))*myextweight\n",
    "        extintegral = np.sum(blah[0])\n",
    "        #awefia = plt.errorbar(xextvals,yextvals,fmt='ro', yerr=yerrs,\n",
    "        #                  label='BNB EXT DATA: Entries = %0.2f' % extintegral\n",
    "        #                 )\n",
    "\n",
    "        diffintegral = bnbintegral-extintegral\n",
    "        yerrs = np.sqrt(np.array(ybnbvals)*mybnbweight + np.array(yextvals)*myextweight)\n",
    "        #if yerrs is zero, set equal to 1 event\n",
    "        yerrs = [x if x else 1 for x in yerrs]\n",
    "        awefia = plt.errorbar(xextvals,ybnbvals-yextvals,fmt='mo',yerr = yerrs,\n",
    "                          label='BNB DATA - BNB EXT DATA (%0.2f)' % diffintegral\n",
    "                         )\n",
    "    else:\n",
    "        diffintegral = bnbintegral\n",
    "        yerrs = np.sqrt(np.array(ybnbvals)*mybnbweight)\n",
    "        #if yerrs is zero, set equal to 1 event\n",
    "        yerrs = [x if x else 1 for x in yerrs]\n",
    "        awefia = plt.errorbar(xbnbvals,ybnbvals,fmt='mo',yerr = yerrs,\n",
    "                          label='BNB DATA - BNB EXT DATA (%0.2f)' % diffintegral\n",
    "                         )\n",
    "    plt.ylim((0, plt.ylim()[1]))\n",
    "    if myylims is not None:\n",
    "        plt.ylim(myylims)\n",
    "    leg = plt.legend()\n",
    "    plt.xlabel(myxlabel,fontsize=16)\n",
    "    plt.ylabel(myylabel,fontsize=16)\n",
    "    leg.get_frame().set_alpha(0.5)"
   ]
  },
  {
   "cell_type": "code",
   "execution_count": null,
   "metadata": {
    "collapsed": true
   },
   "outputs": [],
   "source": [
    "def loopCutsPlots(myvar, mybins, mytitlebase, myshapeonly, myxlabel, myylabel):\n",
    "\n",
    "    myquery = ''\n",
    "    mytitle = mytitlebase + ': NO CUTS'\n",
    "    plotVariableComparison(myvar,mybins,myquery,mytitle,myshapeonly,\\\n",
    "                          myxlabel=myxlabel,myylabel=myylabel)\n",
    "    \n",
    "    for myquery in mycuts:\n",
    "        mytitle = mytitlebase + ': %s' % myquery\n",
    "        plotVariableComparison(myvar,mybins,myquery,mytitle,myshapeonly,\\\n",
    "                              myxlabel=myxlabel,myylabel=myylabel)\n",
    "\n",
    "    myquery = str.join(' and ',mycuts)\n",
    "    mytitle = mytitlebase + ': ALL CUTS'\n",
    "    plotVariableComparison(myvar,mybins,myquery,mytitle,myshapeonly,\\\n",
    "                           myxlabel=myxlabel,myylabel=myylabel)"
   ]
  },
  {
   "cell_type": "code",
   "execution_count": null,
   "metadata": {
    "collapsed": false,
    "scrolled": false
   },
   "outputs": [],
   "source": [
    "myvar = 'longest_trk_len'\n",
    "mybins = np.linspace(0,1000,20)\n",
    "mytitlebase = 'Longest Track Length'\n",
    "myshapeonly = False\n",
    "myxlabel = 'Length of Longest Associated Track [cm]'\n",
    "myylabel = 'Events (5e19 POT Normalized)'\n",
    "loopCutsPlots(myvar,mybins,mytitlebase,myshapeonly,myxlabel=myxlabel,myylabel=myylabel)"
   ]
  },
  {
   "cell_type": "code",
   "execution_count": null,
   "metadata": {
    "collapsed": false,
    "scrolled": false
   },
   "outputs": [],
   "source": [
    "myvar = 'nu_E_estimate'\n",
    "mybins = np.linspace(0,5,50)\n",
    "mytitlebase = 'Estimated Nu Energy'\n",
    "myshapeonly = False\n",
    "myxlabel = 'Cruedly Reconstructed Neutrino Energy [GeV]'\n",
    "myylabel = 'Events (5e19 POT Normalized)'\n",
    "loopCutsPlots(myvar,mybins,mytitlebase,myshapeonly,myxlabel,myylabel)"
   ]
  },
  {
   "cell_type": "code",
   "execution_count": null,
   "metadata": {
    "collapsed": false,
    "scrolled": false
   },
   "outputs": [],
   "source": [
    "myvar = 'longest_trk_theta'\n",
    "mybins = np.linspace(0,3.1415/2.,20)\n",
    "mytitlebase = 'Longest Track Theta'\n",
    "myshapeonly = False\n",
    "myxlabel = 'Theta Angle of Longest Track (w.r.t. Beam) [Radians]'\n",
    "myylabel = 'Events (5e19 POT Normalized)'\n",
    "loopCutsPlots(myvar,mybins,mytitlebase,myshapeonly,myxlabel,myylabel)"
   ]
  },
  {
   "cell_type": "code",
   "execution_count": null,
   "metadata": {
    "collapsed": false,
    "scrolled": false
   },
   "outputs": [],
   "source": [
    "myvar = 'longest_trk_MCS_mom'\n",
    "mybins = np.linspace(0,3000,50)\n",
    "mytitlebase = 'Longest Track MCS Momentum'\n",
    "myshapeonly = False\n",
    "myxlabel = 'Longest Track MCS Momentum [MeV]'\n",
    "myylabel = 'Events (5e19 POT Normalized)'\n",
    "loopCutsPlots(myvar,mybins,mytitlebase,myshapeonly,myxlabel,myylabel)"
   ]
  },
  {
   "cell_type": "code",
   "execution_count": null,
   "metadata": {
    "collapsed": false,
    "scrolled": false
   },
   "outputs": [],
   "source": [
    "myvar = 'n_associated_tracks'\n",
    "mybins = np.linspace(-0.5,7.5,9)\n",
    "mytitlebase = 'Track Multiplicity'\n",
    "myshapeonly = False\n",
    "myxlabel = 'Track Multiplicity'\n",
    "myylabel = 'Events (5e19 POT Normalized)'\n",
    "loopCutsPlots(myvar,mybins,mytitlebase,myshapeonly,myxlabel,myylabel)"
   ]
  },
  {
   "cell_type": "code",
   "execution_count": null,
   "metadata": {
    "collapsed": false
   },
   "outputs": [],
   "source": [
    "def computeCutImpact(myquery1 = None, myquery2 = None):\n",
    "    \"\"\"\n",
    "    Query 1 is first query (for example, NO cuts)\n",
    "    Query 2 is the second query, whose impact you are quantifying\n",
    "    \"\"\"\n",
    "    print\n",
    "    print \"COMPUTING CUT IMPACT!\"\n",
    "    print \"Base Query = %s\" % ('No Cuts' if not myquery1 else myquery1)\n",
    "    print \"Placing Cut = %s\" % myquery2\n",
    "    print\n",
    "    mydict = df_dict['mcnu']\n",
    "    if myquery1 is not None: mydict = df_dict['mcnu'].query(myquery1)\n",
    "    myweight = (5.e19) / pot_per_sample['mcnu']  \n",
    "    myinum_pion = len(mydict.query('fndecay >= 10 and correct_ID == 1'))*float(myweight)\n",
    "    myinum_kaon = len(mydict.query('fndecay < 10 and correct_ID == 1'))*float(myweight)\n",
    "    myinum_cosm = len(mydict.query('correct_ID == 0'))*float(myweight)\n",
    "    \n",
    "    myfnum_pion = len(mydict.query('fndecay >= 10 and correct_ID == 1 and %s'%myquery2))*float(myweight)\n",
    "    myfnum_kaon = len(mydict.query('fndecay < 10 and correct_ID == 1 and %s'%myquery2))*float(myweight)\n",
    "    myfnum_cosm = len(mydict.query('correct_ID == 0 and %s'%myquery2))*float(myweight)\n",
    "\n",
    "    mydict = df_dict['datanu']\n",
    "    if myquery1 is not None: mydict = df_dict['datanu'].query(myquery1)\n",
    "    myweight = (5.e19) / pot_per_sample['datanu']  \n",
    "    myinum_bnb = len(mydict)\n",
    "    myfnum_bnb = len(mydict.query(myquery2))\n",
    "    \n",
    "    mydict = df_dict['databkg']\n",
    "    if myquery1 is not None: mydict = df_dict['databkg'].query(myquery1)\n",
    "    myweight = (5.e19) / pot_per_sample['databkg']  \n",
    "    myinum_ext = len(mydict)\n",
    "    myfnum_ext = len(mydict.query(myquery2)) \n",
    "    \n",
    "    print \"\\tN_Pion\\tN_Cosm\\tN_Kaon\\tN_BNB\\tN_EXT\\tN_MCTot\\tN_Sig-Bkg\"\n",
    "    print \"N_EVTS\\t%0.1f\\t%0.1f\\t%0.1f\\t%0.1f\\t%0.1f\\t%0.1f\\t%0.1f\" % \\\n",
    "    (myinum_pion,myinum_cosm,myinum_kaon,myinum_bnb,myinum_ext,\\\n",
    "     myinum_pion+myinum_cosm+myinum_kaon,myinum_bnb-myinum_ext)\n",
    "    print \"AFTER\\t%0.1f\\t%0.1f\\t%0.1f\\t%0.1f\\t%0.1f\\t%0.1f\\t%0.1f\" % \\\n",
    "    (myfnum_pion,myfnum_cosm,myfnum_kaon,myfnum_bnb,myfnum_ext,\\\n",
    "     myfnum_pion+myfnum_cosm+myfnum_kaon,myfnum_bnb-myfnum_ext)\n",
    "    print \"Remain\\t%0.1f%%\\t%0.1f%%\\t%0.1f%%\\t%0.1f%%\\t%0.1f%%\\t%0.1f%%\\t%0.1f%%\" % \\\n",
    "    (100.*myfnum_pion/myinum_pion,100.*myfnum_cosm/myinum_cosm,\\\n",
    "     100.*myfnum_kaon/myinum_kaon,100.*myfnum_bnb/myinum_bnb,\\\n",
    "     100.*myfnum_ext/myinum_ext,\\\n",
    "    100.*(myfnum_pion+myfnum_cosm+myfnum_kaon)/(myinum_pion+myinum_cosm+myinum_kaon),\\\n",
    "     100.*(myfnum_bnb-myfnum_ext)/(myinum_bnb-myinum_ext))\n",
    "    print\n",
    "    \n",
    "    ipdiff = 100.*(((myinum_pion+myinum_cosm+myinum_kaon)-(myinum_bnb-myinum_ext))/(myinum_bnb-myinum_ext))\n",
    "    fpdiff = 100.*(((myfnum_pion+myfnum_cosm+myfnum_kaon)-(myfnum_bnb-myfnum_ext))/(myfnum_bnb-myfnum_ext)) \n",
    "    print \"Before cuts, percent difference b/t data and MC is %0.1f%%\" % ipdiff\n",
    "    print \"After cuts, percent difference b/t data and MC is %0.1f%%\" % fpdiff\n",
    "       \n",
    "    "
   ]
  },
  {
   "cell_type": "code",
   "execution_count": null,
   "metadata": {
    "collapsed": false
   },
   "outputs": [],
   "source": [
    "for cut in mycuts:\n",
    "    computeCutImpact(myquery1=None,myquery2=cut)"
   ]
  },
  {
   "cell_type": "code",
   "execution_count": null,
   "metadata": {
    "collapsed": false
   },
   "outputs": [],
   "source": [
    "print list(df_dict['datanu'].columns.values)\n",
    "print mycuts"
   ]
  },
  {
   "cell_type": "code",
   "execution_count": null,
   "metadata": {
    "collapsed": false
   },
   "outputs": [],
   "source": [
    "myvar = 'longest_tracks_dotprod_trkendpoints'\n",
    "mybins = np.linspace(-1,1,20)\n",
    "mytitle = myvar\n",
    "myshapeonly = False\n",
    "myquery = ''\n",
    "myylims = (0,350)\n",
    "plotVariableComparison(myvar,mybins,myquery,mytitle,myshapeonly,myylims)\n",
    "plt.axvline(x=-0.5, ymin=0, ymax=350, linewidth=4,color='red')\n",
    "\n",
    "myvar = 'nu_E_estimate'\n",
    "mybins = np.linspace(0,5,20)\n",
    "mytitle = 'Estimated Nu Energy'\n",
    "myshapeonly = False\n",
    "myxlabel = 'Cruedly Reconstructed Neutrino Energy [GeV]'\n",
    "myylabel = 'Events (5e19 POT Normalized)'\n",
    "myquery = ''\n",
    "myylims = (0,1000)\n",
    "plotVariableComparison(myvar,mybins,myquery,mytitle,myshapeonly,myylims)\n",
    "plt.axvline(x=2.5, ymin=0, ymax=1000, linewidth=4,color='red')\n",
    "\n",
    "myvar = 'nu_E_estimate'\n",
    "mybins = np.linspace(2.5,5,20)\n",
    "mytitle = 'Estimated Nu Energy'\n",
    "myshapeonly = False\n",
    "myxlabel = 'Cruedly Reconstructed Neutrino Energy [GeV]'\n",
    "myylabel = 'Events (5e19 POT Normalized)'\n",
    "myquery = ''\n",
    "myylims = (0,20)\n",
    "plotVariableComparison(myvar,mybins,myquery,mytitle,myshapeonly,myylims)\n",
    "plt.axvline(x=2.5, ymin=0, ymax=1000, linewidth=4,color='red')\n",
    "\n",
    "myvar = 'second_longest_trk_len'\n",
    "mybins = np.linspace(0,150,40)\n",
    "mytitle = 'Second Longest Track Length'\n",
    "myshapeonly = False\n",
    "myquery = ''\n",
    "myylims = (0,600)\n",
    "myxlabel = 'Second Longest Track Length [cm]'\n",
    "myylabel = 'Events (5e19 POT Normalized)'\n",
    "plotVariableComparison(myvar,mybins,myquery,mytitle,myshapeonly,myylims)\n",
    "line = plt.axvline(x=16, ymin=0, ymax=600, linewidth=4,color='red')"
   ]
  },
  {
   "cell_type": "code",
   "execution_count": null,
   "metadata": {
    "collapsed": true
   },
   "outputs": [],
   "source": []
  },
  {
   "cell_type": "code",
   "execution_count": null,
   "metadata": {
    "collapsed": true
   },
   "outputs": [],
   "source": [
    "def plotVariableComparisonBkg(myvar, mybins, myquery, mytitle, myshapeonly = False, myylims = None,\\\n",
    "                           myxlabel = 'test', myylabel = 'test'):\n",
    "\n",
    "    plt.figure(figsize=(10,6))\n",
    "    poop = plt.grid(True)\n",
    "    plt.title(mytitle,fontsize=16)\n",
    "  \n",
    "    mydict_intime = df_dict['mcbkg']\n",
    "    if myquery: mydict_intime = df_dict['mcbkg'].query(myquery)\n",
    "    myweight_intime = (5.e19) / pot_per_sample['mcbkg']\n",
    "    myvals_intime = mydict_intime[myvar].values\n",
    "    nphist = np.histogram(myvals_intime,bins=mybins,\n",
    "                          weights=[myweight_intime]*len(myvals_intime),\n",
    "                          normed=myshapeonly)\n",
    "    integral_intime = np.sum(nphist[0])\n",
    "    \n",
    "    poop = plt.hist(myvals_intime,bins=mybins,\n",
    "                    label='MC: Cosmic Bkg. from In Time Cosmic Entries = %0.2f' % integral_intime,\n",
    "                    alpha=0.5,\n",
    "                    weights=[myweight_intime]*len(myvals_intime),\n",
    "                    color='cyan',\n",
    "                    stacked=False,\n",
    "                    rwidth=1.)\n",
    "\n",
    "    myextvals = df_dict['databkg'][myvar].values\n",
    "    if myquery: myextvals = df_dict['databkg'].query(myquery)[myvar].values\n",
    "    myextweight = (5.e19) / pot_per_sample['databkg']\n",
    "    extintegral = 0.\n",
    "    if len(myextvals):\n",
    "        blah = plt.hist(myextvals,bins=mybins,color='g',\n",
    "                        alpha=0,weights=[myextweight]*len(myextvals),normed=myshapeonly)\n",
    "    \n",
    "        yextvals = blah[0]\n",
    "        xextvals = [blah[1][i]+(blah[1][i+1]-blah[1][i])/2. for i in xrange(len(blah[1][:-1]))]\n",
    "        yerrs = np.sqrt(np.array(yextvals)*myextweight)\n",
    "        extintegral = np.sum(blah[0])\n",
    "        awefia = plt.errorbar(xextvals,yextvals,fmt='ro', yerr=yerrs,\n",
    "                          label='BNB EXT DATA: Entries = %0.2f' % extintegral\n",
    "                         )\n",
    "\n",
    "    plt.ylim((0, plt.ylim()[1]))\n",
    "    if myylims is not None:\n",
    "        plt.ylim(myylims)\n",
    "    leg = plt.legend()\n",
    "    plt.xlabel(myxlabel,fontsize=16)\n",
    "    plt.ylabel(myylabel,fontsize=16)\n",
    "    dummy = leg.get_frame().set_alpha(0.5)"
   ]
  },
  {
   "cell_type": "code",
   "execution_count": null,
   "metadata": {
    "collapsed": false
   },
   "outputs": [],
   "source": [
    "myvar = 'longest_tracks_dotprod_trkendpoints'\n",
    "mybins = np.linspace(-1,1,20)\n",
    "mytitle = 'Longest Two Tracks: Direction Dot-Product'\n",
    "myshapeonly = False\n",
    "myquery = ''\n",
    "myxlabel = 'Dot Product of Longest Two Track Directions'\n",
    "myylabel = 'Events (5e19 POT Normalized)'\n",
    "myylims = (0,80)\n",
    "plotVariableComparisonBkg(myvar,mybins,myquery,mytitle,myshapeonly,myylims,myxlabel,myylabel)\n",
    "plt.axvline(x=-0.5, ymin=0, ymax=350, linewidth=4,color='red')\n",
    "\n",
    "myvar = 'nu_E_estimate'\n",
    "mybins = np.linspace(0,5,20)\n",
    "mytitle = 'Estimated Nu Energy'\n",
    "myshapeonly = False\n",
    "myxlabel = 'Cruedly Reconstructed Neutrino Energy [GeV]'\n",
    "myylabel = 'Events (5e19 POT Normalized)'\n",
    "myquery = ''\n",
    "myylims = (0,300)\n",
    "plotVariableComparisonBkg(myvar,mybins,myquery,mytitle,myshapeonly,myylims,myxlabel,myylabel)\n",
    "plt.axvline(x=2.5, ymin=0, ymax=1000, linewidth=4,color='red')\n",
    "\n",
    "myvar = 'nu_E_estimate'\n",
    "mybins = np.linspace(2.5,5,20)\n",
    "mytitle = 'Estimated Nu Energy'\n",
    "myshapeonly = False\n",
    "myxlabel = 'Cruedly Reconstructed Neutrino Energy [GeV]'\n",
    "myylabel = 'Events (5e19 POT Normalized)'\n",
    "myquery = ''\n",
    "myylims = (0,10)\n",
    "plotVariableComparisonBkg(myvar,mybins,myquery,mytitle,myshapeonly,myylims,myxlabel,myylabel)\n",
    "plt.axvline(x=2.5, ymin=0, ymax=1000, linewidth=4,color='red')\n",
    "\n",
    "myvar = 'second_longest_trk_len'\n",
    "mybins = np.linspace(0,150,40)\n",
    "mytitle = 'Second Longest Track Length'\n",
    "myshapeonly = False\n",
    "myquery = ''\n",
    "myylims = (0,250)\n",
    "myxlabel = 'Second Longest Track Length [cm]'\n",
    "myylabel = 'Events (5e19 POT Normalized)'\n",
    "plotVariableComparisonBkg(myvar,mybins,myquery,mytitle,myshapeonly,myylims,myxlabel,myylabel)\n",
    "line = plt.axvline(x=16, ymin=0, ymax=600, linewidth=4,color='red')"
   ]
  },
  {
   "cell_type": "code",
   "execution_count": null,
   "metadata": {
    "collapsed": false
   },
   "outputs": [],
   "source": []
  }
 ],
 "metadata": {
  "kernelspec": {
   "display_name": "Python 2",
   "language": "python",
   "name": "python2"
  },
  "language_info": {
   "codemirror_mode": {
    "name": "ipython",
    "version": 2
   },
   "file_extension": ".py",
   "mimetype": "text/x-python",
   "name": "python",
   "nbconvert_exporter": "python",
   "pygments_lexer": "ipython2",
   "version": "2.7.5"
  }
 },
 "nbformat": 4,
 "nbformat_minor": 0
}
