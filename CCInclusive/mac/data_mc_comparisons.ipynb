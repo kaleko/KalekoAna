{
 "cells": [
  {
   "cell_type": "code",
   "execution_count": null,
   "metadata": {
    "collapsed": true
   },
   "outputs": [],
   "source": [
    "%matplotlib inline\n",
    "from ROOT import TFile, TTree\n",
    "\n",
    "import numpy as np\n",
    "import matplotlib.pylab as plt\n",
    "from matplotlib import gridspec\n",
    "import pandas as pd\n",
    "import re\n",
    "from scipy import stats\n",
    "\n",
    "from root_numpy import root2array"
   ]
  },
  {
   "cell_type": "code",
   "execution_count": null,
   "metadata": {
    "collapsed": false
   },
   "outputs": [],
   "source": [
    "#filedir = '/Users/davidkaleko/Data/larlite/080116_selection_output/'\n",
    "#filedir = '/Users/davidkaleko/Data/larlite/loosestitch_selection_output/'\n",
    "filedir = '/Users/davidkaleko/Data/larlite/082416_selection_output/'\n",
    "#filedir = '/Users/davidkaleko/Data/larlite/082916_selection_output/'\n",
    "#filedir = '/Users/davidkaleko/Data/larlite/090616_selection_output/'\n",
    "#filedir = '/Users/davidkaleko/Data/larlite/090816_MCSresscan_output/'\n",
    "#filedir = '/Users/davidkaleko/Data/larlite/090916_selection_output/'\n",
    "#filedir = '/Users/davidkaleko/Data/larlite/100316_selection_output/'\n",
    "#filedir = '/Users/davidkaleko/larlite/UserDev/KalekoAna/CCInclusive/mac/MCS_debug_output/'\n",
    "!ls -ltra $filedir | tail -n 10"
   ]
  },
  {
   "cell_type": "code",
   "execution_count": null,
   "metadata": {
    "collapsed": true
   },
   "outputs": [],
   "source": [
    "track_producer = 'pandoraNuPMA'\n",
    "#track_producer = 'pandoraNuKHit'\n",
    "#track_producer = 'pandoraNu'\n",
    "#track_producer = 'KalekopandoraNuPMAPlustrackkalmanhit'\n",
    "#track_producer = 'KalekopandoraNuPlustrackkalmanhit'\n",
    "vtx_producer = 'pmtrack'\n",
    "#vtx_producer = 'pandoraNu'"
   ]
  },
  {
   "cell_type": "code",
   "execution_count": null,
   "metadata": {
    "collapsed": false
   },
   "outputs": [],
   "source": [
    "mcnu = 'ana_out_trk%s_vtx%s_mcc71ext2bnb3_1_20cmseg_yscatteronly_2res_0mradsmear.root'%(track_producer,vtx_producer) #_20cmseg_yscatteronly_2res_0mradsmear.root'% \\\n",
    "    \n",
    "datanu =  'ana_out_trk%s_vtx%s_mcc71ext2bnb3_3_20cmseg_yscatteronly_2res_0mradsmear.root'%(track_producer,vtx_producer)  #_20cmseg_yscatteronly_2res_0mradsmear.root'% \\\n",
    "\n",
    "databkg = 'ana_out_trk%s_vtx%s_mcc71ext2bnb3_2_20cmseg_yscatteronly_2res_0mradsmear.root'% (track_producer,vtx_producer) #_20cmseg_yscatteronly_2res_0mradsmear.root'% \\\n",
    "\n",
    "\n",
    "files = { 'mcnu' : filedir + mcnu, \n",
    "          #'mcbkg' : filedir + mcbkg,\n",
    "         'datanu' : filedir + datanu, \n",
    "         'databkg' : filedir + databkg }\n",
    "\n",
    "mycuts = [#'longest_trk_len_infidvol > 20.',# 'longest_trk_len_infidvol > 50.', 'longest_trk_len_infidvol > 00.', \n",
    "    'longest_trk_len_infidvol > 15.',\n",
    "    #'longest_trk_len_infidvol > 250.',\n",
    "          'nu_E_estimate > 2.5',\n",
    "    #'longest_track_end_y_infidvol < 85. and longest_track_end_y_infidvol > -85.',\n",
    "    #'longest_trk_cosy > -0.5',\n",
    "    #'n_associated_tracks > 2',\n",
    "    #'longest_trk_len > 300.',\n",
    "    #'longest_trk_cosy < 0.25 and longest_trk_cosy > -0.25',\n",
    "    #'longest_trk_cosy < 0.5',\n",
    "    #'longest_trk_theta < 1.5',\n",
    "    #'(longest_trk_len > 100. and longest_trk_contained and not MCS_linecut)',\n",
    "    #'(longest_trk_len > 100. and not longest_trk_contained)',\n",
    "    #'not longest_trk_contained',\n",
    "    #'not MCS_linecut',\n",
    "          #'second_longest_trk_len > 25.',# 'second_longest_trk_len > 16.',\n",
    "          'longest_tracks_dotprod_trkendpoints > -0.995']\n",
    "        #'(longest_track_end_z_infidvol < 600 or longest_track_end_z_infidvol > 800)']\n",
    "        #'(reco_nu_z < 600 or reco_nu_z > 800)']\n",
    "           #'reco_nu_z < 675.']\n",
    "         #'longest_track_end_x < 250. and longest_track_end_x > 10.',\n",
    "        #'longest_track_end_y_infidvol < 80. and longest_track_end_y_infidvol > -80.']\n",
    "          #'not (longest_track_end_z > 650. and longest_track_end_z < 750.)']\n",
    "\n",
    "        "
   ]
  },
  {
   "cell_type": "code",
   "execution_count": null,
   "metadata": {
    "collapsed": false
   },
   "outputs": [],
   "source": [
    "df_dict = {}\n",
    "\n",
    "for sample, filepath in files.iteritems():\n",
    "    df_dict[sample] = pd.DataFrame( root2array ( filepath, 'tree' ) )\n",
    "    \n",
    "    #temp adding column\n",
    "    df_dict[sample]['lephaddiff'] = df_dict[sample]['E_lepton'] - df_dict[sample]['E_hadrons']\n",
    "    df_dict[sample]['lephadratio'] = df_dict[sample]['E_lepton'] / df_dict[sample]['E_hadrons']\n",
    "    df_dict[sample]['longest_tracks_dotprod_trkendpoints_abs'] = \\\n",
    "    np.abs(df_dict[sample]['longest_tracks_dotprod_trkendpoints'])\n",
    "    df_dict[sample]['longest_trk_costheta'] = np.cos(df_dict[sample]['longest_trk_theta'])\n",
    "    df_dict[sample]['longest_trk_MCS_mom_spline_ratio'] = \\\n",
    "        df_dict[sample]['longest_trk_MCS_mom'] / (df_dict[sample]['longest_trk_spline_mom']/1000.)\n",
    "        \n",
    "    #df_dict[sample]['lengthoverLength'] = df_dict[sample]['longest_trk_len_infidvol'] / \\\n",
    "    #    df_dict[sample]['longest_trk_Length_infidvol']\n",
    "    #df_dict[sample]['lengthoverLength_smeared'] = df_dict[sample]['longest_trk_len_infidvol_smeared'] / \\\n",
    "    #    df_dict[sample]['longest_trk_Length_infidvol_smeared']\n",
    "    df_dict[sample]['contained_wellrecod'] = df_dict[sample]['longest_trk_contained'] == True & \\\n",
    "        (df_dict[sample]['longest_trk_MCS_mom'] > 0) & \\\n",
    "        ((df_dict[sample]['longest_trk_MCS_mom'] / df_dict[sample]['longest_trk_spline_mom']) < 1.5)\n",
    "    df_dict[sample]['MCS_ratio'] = df_dict[sample]['E_MCS'] / \\\n",
    "        (df_dict[sample]['E_MCS'] + df_dict[sample]['E_range'])\n",
    "    df_dict[sample]['MCS_linecut'] = df_dict[sample]['longest_trk_MCS_mom'] > \\\n",
    "        (0.25 + 1.25*(df_dict[sample]['longest_trk_spline_mom']/1000.))\n",
    "\n",
    "df_dict['mcnu']['artificial_E'] = df_dict['mcnu']['nu_E_estimate'] * 0.85\n",
    "df_dict['datanu']['artificial_E'] = df_dict['datanu']['nu_E_estimate'] \n",
    "df_dict['databkg']['artificial_E'] = df_dict['databkg']['nu_E_estimate'] \n",
    "\n",
    "df_dict['mcnu']['artificial_E_2'] = df_dict['mcnu']['E_MCS']*0.9546 + df_dict['mcnu']['E_range']\n",
    "df_dict['datanu']['artificial_E_2'] = df_dict['datanu']['E_MCS'] + df_dict['datanu']['E_range'] \n",
    "df_dict['databkg']['artificial_E_2'] = df_dict['databkg']['E_MCS'] + df_dict['databkg']['E_range'] \n",
    "\n",
    "df_dict['mcnu']['artificial_E_3'] = df_dict['mcnu']['E_MCS']*0.90 + df_dict['mcnu']['E_range']\n",
    "df_dict['datanu']['artificial_E_3'] = df_dict['datanu']['E_MCS'] + df_dict['datanu']['E_range'] \n",
    "df_dict['databkg']['artificial_E_3'] = df_dict['databkg']['E_MCS'] + df_dict['databkg']['E_range'] \n",
    "\n",
    "\n",
    "#df_dict['mcnu']['longest_trk_MCS_mom_reweighted_MConly'] = df_dict['mcnu']['longest_trk_MCS_mom_reweighted']\n",
    "#df_dict['datanu']['longest_trk_MCS_mom_reweighted_MConly'] = df_dict['datanu']['longest_trk_MCS_mom']\n",
    "#df_dict['databkg']['longest_trk_MCS_mom_reweighted_MConly'] = df_dict['databkg']['longest_trk_MCS_mom']\n",
    "\n",
    "df_dict['mcnu']['longest_trk_MCS_mom_scaled_MConly'] = df_dict['mcnu']['longest_trk_MCS_mom'] * 0.9546\n",
    "df_dict['datanu']['longest_trk_MCS_mom_scaled_MConly'] = df_dict['datanu']['longest_trk_MCS_mom']\n",
    "df_dict['databkg']['longest_trk_MCS_mom_scaled_MConly'] = df_dict['databkg']['longest_trk_MCS_mom']\n",
    "\n",
    "df_dict['mcnu']['longest_trk_MCS_mom_arbscaled_MConly'] = df_dict['mcnu']['longest_trk_MCS_mom'] * 0.85\n",
    "df_dict['datanu']['longest_trk_MCS_mom_arbscaled_MConly'] = df_dict['datanu']['longest_trk_MCS_mom']\n",
    "df_dict['databkg']['longest_trk_MCS_mom_arbscaled_MConly'] = df_dict['databkg']['longest_trk_MCS_mom']\n",
    "\n",
    "\n",
    "if 'SPACECHARGE' in mcnu:\n",
    "    #Need to change 'correct ID' definition to be looser when spacecharge effect is added\n",
    "    df_dict['mcnu']['correct_ID'] = df_dict['mcnu']['dist_reco_true_vtx'] < 10"
   ]
  },
  {
   "cell_type": "code",
   "execution_count": null,
   "metadata": {
    "collapsed": false
   },
   "outputs": [],
   "source": [
    "n_evts_analyzed = { 'mcnu': 180000, 'databkg' : 380897, 'datanu' : 547617 }\n",
    "#databkg has 372465 for latest selection since some jobs failed!\n",
    "#older selections have 380897\n",
    "\n",
    "if 'SPACECHARGE' in mcnu:\n",
    "    print \"CHANGING MCNU EVENTS SINCE THIS IS SPACECHARGE (SMALLER SAMPLE)!\"\n",
    "    n_evts_analyzed['mcnu'] = 94800\n",
    "if 'MEC' in mcnu:\n",
    "    print \"CHANGING MCNU EVENTS SINCE THIS IS MEC SAMPLE!\"\n",
    "    n_evts_analyzed['mcnu'] = 206400\n",
    "if '082416' in filedir:\n",
    "    print \"WARNING! 082316 in file dir, so changing databkg n_evts_analyzed due to failed jobs!\"\n",
    "    n_evts_analyzed['databkg'] = 372465\n",
    "if '090816' in filedir or '090916' in filedir or '091416' in filedir or '091516' in filedir:\n",
    "    print \"WARNING! 090816 (or 090916) in file dir, so changing databkg n_evts_analyzed due to failed jobs!\"\n",
    "    n_evts_analyzed['databkg'] = 372465\n",
    "if '090616' in filedir or 'CCInclusive' in filedir:\n",
    "    print \"WARNING! 090616 in file dir, so changing databkg n_evts_analyzed due to failed jobs!\"\n",
    "    n_evts_analyzed['databkg'] = 372465\n",
    "if '100316' in filedir: # or 'CCInclusive' in filedir:\n",
    "    print \"WARNING! 100316 in file dir, so changing n_evts_analyzed slightly due to failed jobs!\"\n",
    "    n_evts_analyzed['mcnu'] = n_evts_analyzed['mcnu'] * (187760./180000)\n",
    "    n_evts_analyzed['databkg'] = n_evts_analyzed['databkg'] * (277132./380897)\n",
    "    n_evts_analyzed['datanu'] = n_evts_analyzed['datanu'] * (543502./547617)"
   ]
  },
  {
   "cell_type": "code",
   "execution_count": null,
   "metadata": {
    "collapsed": false
   },
   "outputs": [],
   "source": [
    "pot_per_sample = { 'mcnu' : (1.2105e15) * n_evts_analyzed['mcnu'],\n",
    "                   'datanu' : 4.88e19 }\n",
    "pot_per_sample['databkg'] = pot_per_sample['datanu'] * 0.844 * \\\n",
    "                  float(n_evts_analyzed['datanu'])/n_evts_analyzed['databkg']\n",
    "#pot_per_sample['mcbkg'] = pot_per_sample['databkg'] * (1./0.336) * \\\n",
    "#                  float(n_evts_analyzed['mcbkg'])/n_evts_analyzed['databkg'] \n",
    "\n",
    "if 'MEC' in mcnu:\n",
    "    print \"CHANGING MCNU POT PER EVENT SINCE THIS IS MEC SAMPLE!\"\n",
    "    pot_per_sample['mcnu'] = (1.0385e15) * n_evts_analyzed['mcnu']\n",
    "if 'SPACECHARGE' in mcnu:\n",
    "    print \"CHANGING MCNU POT PER EVENT SINCE THIS IS SPACECHARGE SAMPLE!\"\n",
    "    pot_per_sample['mcnu'] = (1.234e15) * n_evts_analyzed['mcnu']"
   ]
  },
  {
   "cell_type": "code",
   "execution_count": null,
   "metadata": {
    "collapsed": true
   },
   "outputs": [],
   "source": []
  },
  {
   "cell_type": "code",
   "execution_count": null,
   "metadata": {
    "collapsed": false
   },
   "outputs": [],
   "source": [
    "mybins = np.linspace(0,1050,100)\n",
    "blah = df_dict['mcnu'].query('not longest_trk_contained and nu_E_estimate > 2').hist('longest_track_end_z',bins=mybins)\n",
    "blah = df_dict['datanu'].query('not longest_trk_contained and nu_E_estimate > 2').hist('longest_track_end_z',bins=mybins)"
   ]
  },
  {
   "cell_type": "code",
   "execution_count": null,
   "metadata": {
    "collapsed": true
   },
   "outputs": [],
   "source": []
  },
  {
   "cell_type": "code",
   "execution_count": null,
   "metadata": {
    "collapsed": true
   },
   "outputs": [],
   "source": [
    "def computeChiSqPval(beamonhist,beamoffhist,mchist):\n",
    "    \n",
    "    #beamonhist, beamoffhist are vectors of the histogram bin contents\n",
    "    #mchist is vector of the summed MC histograms (cosmic+pion+kaon whatever)\n",
    "    \n",
    "    #it is just, Δχ2 = (number of events signal in Energy bins in a 1D matrix) \n",
    "    #(2D Martix - (statistical uncertainty)^2 in a the diagonal of the matrix)^-1 \n",
    "    #(number of events signal in Energy bins in a 1D matrix)^Transpose\n",
    "\n",
    "    nbins = len(beamonhist)\n",
    "    \n",
    "    #error matrix of stat uncertainty, diagonals only\n",
    "    #diagonal is (beamon-beamoff stat error)^2 + (mchist stat error)^2 [no sqrt]\n",
    "    #mchist stat error is sqrt(N_mc)\n",
    "    #beamon-beamoff stat error is sqrt( sqrt(N_beamon)^2 + sqrt(N_beamoff)^2 )\n",
    "    #  = sqrt( N_beamon + N_beamoff )\n",
    "    emtx   = np.zeros((nbins,nbins))\n",
    "    datavec = np.array(np.array(beamonhist)-np.array(beamoffhist)).reshape((1,nbins))\n",
    "    mcvec  = np.array(mchist)\n",
    "    \n",
    "    for x in xrange(nbins):\n",
    "        emtx[x][x] = beamonhist[x]+beamoffhist[x]+mchist[x]\n",
    "        if not (beamonhist[x]+beamoffhist[x]+mchist[x]):\n",
    "            emtx[x][x] = 1\n",
    "    \n",
    "    emtxinv = np.linalg.inv(emtx)\n",
    "    \n",
    "    chisq = float((datavec-mcvec).dot(emtxinv).dot((datavec-mcvec).T))\n",
    "    #print \"Sqrt of that (==sigma?) is \",np.sqrt(chisq)\n",
    "    pval = stats.chi2.cdf(chisq,nbins)\n",
    "    #return np.sqrt(chisq)\n",
    "    print \"Chisq is %f, DOF is %d, pval is %f\"%(chisq,nbins,pval)\n",
    "    return pval\n",
    "\n",
    "def computeSimpleChiSqPval(beamonhist,beamoffhist,mchist):\n",
    "    nbins = len(beamonhist)\n",
    "    datavec = np.array(np.array(beamonhist)-np.array(beamoffhist)).reshape((1,nbins))\n",
    "    mcvec  = np.array(mchist)\n",
    "    chisq = np.sum(np.square(datavec-mcvec)/mcvec)\n",
    "    #return np.sqrt( chisq )\n",
    "    return stats.chi2.cdf(chisq,nbins)"
   ]
  },
  {
   "cell_type": "code",
   "execution_count": null,
   "metadata": {
    "collapsed": false
   },
   "outputs": [],
   "source": [
    "df_dict['datanu'].hist('longest_track_end_z_infidvol')\n",
    "fart = plt.yscale(\"log\")\n",
    "poop = df_dict['datanu'].hist('reco_nu_z')"
   ]
  },
  {
   "cell_type": "code",
   "execution_count": null,
   "metadata": {
    "collapsed": false
   },
   "outputs": [],
   "source": [
    "fuck = df_dict['datanu']['artificial_E_2'].values\n",
    "me = df_dict['datanu']['nu_E_estimate'].values\n",
    "ugh = plt.hist(fuck-me,bins=np.linspace(-.02,.02))\n",
    "fart = plt.yscale('log')"
   ]
  },
  {
   "cell_type": "code",
   "execution_count": null,
   "metadata": {
    "collapsed": false
   },
   "outputs": [],
   "source": []
  },
  {
   "cell_type": "code",
   "execution_count": null,
   "metadata": {
    "collapsed": false,
    "scrolled": false
   },
   "outputs": [],
   "source": [
    "def plotVariableComparison(myvar, mybins, myquery, mytitle, myshapeonly = False, myylims = None,\\\n",
    "                           myxlabel = 'test', myylabel = 'test', mylogy = None):\n",
    "\n",
    "    fig = plt.figure(figsize=(10,8)) #6\n",
    "    gs=gridspec.GridSpec(2,1,height_ratios=[3,1])\n",
    "    #f, axarr = plt.subplots(2, sharex=True,figsize=(10,12))\n",
    "    \n",
    "    axarr = [fig.add_subplot(gs[0,0]),fig.add_subplot(gs[1,0])]\n",
    "    fig.subplots_adjust(hspace=.1)\n",
    "    \n",
    "    poop = axarr[0].grid(True)\n",
    "    poop = axarr[1].grid(True)\n",
    "    \n",
    "    if myshapeonly:\n",
    "        mytitle = mytitle + ' (SHAPE ONLY)'\n",
    "    axarr[0].set_title(mytitle,fontsize=16)\n",
    "    axarr[0].set_ylabel('Events: 5e19 POT Normalized',fontsize=16)\n",
    "    \n",
    "    mydict = df_dict['mcnu']\n",
    "    if myquery: mydict = df_dict['mcnu'].query(myquery)\n",
    "    #myvals = mydict[myvar].values\n",
    "    myweight = (5.e19) / pot_per_sample['mcnu']\n",
    "    \n",
    "    myvals_pion = mydict.query('fndecay > 10 and true_nu_CCNC == 0 and correct_ID == 1')[myvar].values\n",
    "    myvals_kaon = mydict.query('fndecay <= 10 and true_nu_CCNC == 0 and correct_ID == 1')[myvar].values\n",
    "    myvals_NC   = mydict.query('true_nu_CCNC == 1 and correct_ID == 1')[myvar].values\n",
    "    myvals_cosm = mydict.query('correct_ID == 0')[myvar].values\n",
    "    #integral = float(len(myvals))*myweight\n",
    "    totalhist = None\n",
    "    nphist = None\n",
    "    if not myshapeonly:\n",
    "        nphist = np.histogram(myvals_cosm,bins=mybins,\n",
    "                              weights=[myweight]*len(myvals_cosm),\n",
    "                              normed=myshapeonly)\n",
    "    else:\n",
    "        nphist = np.histogram(myvals_cosm,bins=mybins,\n",
    "                              normed=False)\n",
    "    totalhist = nphist[0]\n",
    "    integral_cosm = np.sum(nphist[0])  \n",
    "\n",
    "    if not myshapeonly:\n",
    "        nphist = np.histogram(myvals_NC,bins=mybins,\n",
    "                              weights=[myweight]*len(myvals_NC),\n",
    "                              normed=myshapeonly)\n",
    "    else:\n",
    "        nphist = np.histogram(myvals_NC,bins=mybins,\n",
    "                              normed=False)\n",
    "    totalhist += nphist[0]\n",
    "    integral_NC = np.sum(nphist[0])  \n",
    "    \n",
    "    \n",
    "    if not myshapeonly:\n",
    "        nphist = np.histogram(myvals_pion,bins=mybins,\n",
    "                              weights=[myweight]*len(myvals_pion),\n",
    "                              normed=myshapeonly)\n",
    "    else:\n",
    "        nphist = np.histogram(myvals_pion,bins=mybins,\n",
    "                              normed=False)\n",
    "    totalhist += nphist[0]\n",
    "    integral_pion = np.sum(nphist[0])   \n",
    "    \n",
    "    if not myshapeonly:\n",
    "        nphist = np.histogram(myvals_kaon,bins=mybins,\n",
    "                              weights=[myweight]*len(myvals_kaon),\n",
    "                              normed=myshapeonly)\n",
    "    else:\n",
    "        nphist = np.histogram(myvals_kaon,bins=mybins,\n",
    "                              normed=False)\n",
    "        #totalhist = np.concatenate([totalhist,nphist[0]])\n",
    "    totalhist += nphist[0]\n",
    "    integral_kaon = np.sum(nphist[0])\n",
    " \n",
    "\n",
    "    #mydict_intime = df_dict['mcbkg']\n",
    "    #if myquery: mydict_intime = df_dict['mcbkg'].query(myquery)\n",
    "    #myweight_intime = (5.e19) / pot_per_sample['mcbkg']\n",
    "    #myvals_intime = mydict_intime[myvar].values\n",
    "    #nphist = np.histogram(myvals_intime,bins=mybins,\n",
    "    #                      weights=[myweight_intime]*len(myvals_intime),\n",
    "    #                      normed=myshapeonly)\n",
    "    #integral_intime = np.sum(nphist[0])\n",
    "    \n",
    "    poop = None\n",
    "    if not myshapeonly:\n",
    "        poop = axarr[0].hist([myvals_cosm,myvals_NC,myvals_pion,myvals_kaon],bins=mybins,\n",
    "                        label=[#'MC: Cosmic Bkg. from In Time Cosmic Entries = %0.2f' % integral_intime,\\\n",
    "                               'MC: Cosmic Bkg. from BNB+Cosmic Entries = %0.2f' % integral_cosm, \\\n",
    "                               'MC: NC Bkg. Entries = %0.2f' % integral_NC,\\\n",
    "                               'MC: Numu from Pion Bkg. Entries = %0.2f' % integral_pion, \\\n",
    "                               'MC: Kaon Signal. Entries = %0.2f\\n    Total MC = (%0.2f)' \\\n",
    "                               % (integral_kaon,integral_cosm+integral_NC+integral_pion+integral_kaon)],\n",
    "                        alpha=0.5,\n",
    "                        weights=[#[myweight_intime]*len(myvals_intime),\n",
    "                                 [myweight]*len(myvals_cosm),\n",
    "                                 [myweight]*len(myvals_NC),\n",
    "                                 [myweight]*len(myvals_pion),\n",
    "                                 [myweight]*len(myvals_kaon)],\n",
    "                                 normed=myshapeonly,\n",
    "                       color=['r','y','b','g'],\n",
    "                        stacked=True,\n",
    "                       rwidth=1.)\n",
    "    else:\n",
    "        if not (integral_cosm + integral_NC + integral_pion + integral_kaon):\n",
    "            print \"Divide by zero error.\"\n",
    "            return\n",
    "        \n",
    "        thisweight = 1./(integral_cosm + integral_NC + integral_pion + integral_kaon)\n",
    "        #all 3 integrals are the same, cosm pion kaon when normmed is true\n",
    "        poop = axarr[0].hist([myvals_cosm,myvals_NC,myvals_pion,myvals_kaon],bins=mybins,\n",
    "                        label=[#'MC: Cosmic Bkg. from In Time Cosmic Entries = %0.2f' % integral_intime,\\\n",
    "                               'MC: Cosmic Bkg. from BNB+Cosmic', \\\n",
    "                               'MC: NC Bkg.',\\\n",
    "                               'MC: Numu from Pion Bkg.', \\\n",
    "                               'MC: Kaon Signal.'],\n",
    "                        alpha=0.5,\n",
    "                        weights=[#[thisweight_intime]*len(myvals_intime),\n",
    "                                 [thisweight]*len(myvals_cosm),\n",
    "                                 [thisweight]*len(myvals_NC),\n",
    "                                 [thisweight]*len(myvals_pion),\n",
    "                                 [thisweight]*len(myvals_kaon)],\n",
    "                                 normed=False,\n",
    "                       color=['r','y','b','g'],\n",
    "                        stacked=True,\n",
    "                       rwidth=1.)\n",
    "\n",
    "    mybnbdict = df_dict['datanu']    \n",
    "    if myquery: mybnbdict = df_dict['datanu'].query(myquery)\n",
    "    mybnbvals = mybnbdict[myvar].values\n",
    "    mybnbweight = (5.e19) / pot_per_sample['datanu']\n",
    "    \n",
    "    blah = plt.hist(mybnbvals,bins=mybins,color='g',\n",
    "                    alpha=0,weights=[mybnbweight]*len(mybnbvals),normed=False)\n",
    "    \n",
    "    ybnbvals = blah[0]\n",
    "    xbnbvals = [blah[1][i]+(blah[1][i+1]-blah[1][i])/2. for i in xrange(len(blah[1][:-1]))]\n",
    "    bnbintegral = np.sum(blah[0])\n",
    "    #awefia = plt.plot(xbnbvals,ybnbvals,'bo',\n",
    "    #                  label='BNB DATA: Entries = %0.2f' % bnbintegral\n",
    "    #                 )\n",
    "    \n",
    "    myextvals = df_dict['databkg'][myvar].values\n",
    "    if myquery: myextvals = df_dict['databkg'].query(myquery)[myvar].values\n",
    "    myextweight = (5.e19) / pot_per_sample['databkg']\n",
    "    extintegral = 0.\n",
    "    if len(myextvals):\n",
    "        blah = plt.hist(myextvals,bins=mybins,color='g',\n",
    "                        alpha=0,weights=[myextweight]*len(myextvals),normed=False)\n",
    "    \n",
    "        yextvals = blah[0]\n",
    "        xextvals = [blah[1][i]+(blah[1][i+1]-blah[1][i])/2. for i in xrange(len(blah[1][:-1]))]\n",
    "        yerrs = np.sqrt(np.array(yextvals)*myextweight)\n",
    "        #extintegral = float(len(myextvals))*myextweight\n",
    "        extintegral = np.sum(blah[0])\n",
    "        #awefia = plt.errorbar(xextvals,yextvals,fmt='ro', yerr=yerrs,\n",
    "        #                  label='BNB EXT DATA: Entries = %0.2f' % extintegral\n",
    "        #                 )\n",
    "   \n",
    "        diffintegral = bnbintegral-extintegral\n",
    "        yerrs = np.sqrt(np.array(ybnbvals)*mybnbweight + np.array(yextvals)*myextweight)\n",
    "        yexterrs = np.sqrt(np.array(yextvals)*myextweight)\n",
    "        #if yerrs is zero, set equal to 1 event\n",
    "        yerrs = [x if x else 1 for x in yerrs]\n",
    "        yexterrors = [x if x else 1 for x in yexterrs]\n",
    "        if not myshapeonly:\n",
    "            awefia = axarr[0].errorbar(xextvals,ybnbvals-yextvals,fmt='mo',yerr = yerrs,\n",
    "                              label='BNB DATA - BNB EXT DATA (%0.2f - %0.2f = %0.2f)' % \\\n",
    "                                  (bnbintegral,extintegral,diffintegral)\n",
    "                             )\n",
    "            awefia = axarr[0].errorbar(xextvals,yextvals,fmt='co',yerr = yexterrs,\n",
    "                              label='EXT Data (For Reference)')\n",
    "            \n",
    "        else:\n",
    "            if not diffintegral:\n",
    "                print \"Divide by zero error in diffintegral.\"\n",
    "                return\n",
    "            \n",
    "            awefia = axarr[0].errorbar(xextvals,(ybnbvals-yextvals)/diffintegral,fmt='mo',yerr = 0,\n",
    "                          label='BNB DATA - BNB EXT DATA (Shape Only, No Error Bars)'\n",
    "                         )\n",
    "\n",
    "        #myvals_everything = np.concatenate([myvals_cosm,myvals_pion,myvals_kaon])/myweight\n",
    "        #print myweight\n",
    "        #plt.figure(figsize=(6,4))\n",
    "        #plt.hist(myvals_everything)\n",
    "        #plt.figure(figsize=(6,4))\n",
    "        #plt.hist((mybnbvals/mybnbweight)-(yextvals/myextweight))\n",
    "        #kstest = stats.ks_2samp(myvals_everything,(mybnbvals/mybnbweight)-(yextvals/myextweight))\n",
    "        #print \"kstest pval is \",kstest.pvalue\n",
    "        #chis = stats.chisquare(totalhist,ybnbvals-yextvals)\n",
    "        #print \"Chisquare pvalue is\",chis.pvalue\n",
    "        #print \"Chisquare statistic is\",chis.statistic\n",
    "\n",
    "        pval = computeChiSqPval(ybnbvals,yextvals,totalhist)\n",
    "        #print \"chisquare sigma is\",chisq\n",
    "        #print \"simple chisquare sigma is\",computeSimpleSigma(ybnbvals,yextvals,totalhist)\n",
    "        #blah = plt.text(plt.gca().get_xlim()[1]*0.40,plt.gca().get_ylim()[1]*0.52,\n",
    "        #                'ChiSq Pval (BNB, EXT, MC stat errs): %f'%pval,\n",
    "        #                fontsize=14)\n",
    "        \n",
    "        data_mc_ratio = (ybnbvals-yextvals)/totalhist\n",
    "        \n",
    "        ratio_errs = data_mc_ratio * \\\n",
    "                    np.sqrt( (ybnbvals+yextvals)/np.square((ybnbvals-yextvals)) + \\\n",
    "                            1/totalhist\n",
    "                            )\n",
    "        \n",
    "        #print ratio_errs\n",
    "        #ratio_errs = [x if x else 1 for x in ratio_errs]\n",
    "        \n",
    "        #https://www-e815.fnal.gov/wma-lab-web/hint-staterror.html\n",
    "        #these ratio errors aren't using the weights, which they should be\n",
    "        #wrong_errs = data_mc_ratio * np.sqrt( (1/(ybnbvals+yextvals)) + (1/totalhist) )\n",
    "        axarr[1].errorbar(xbnbvals,data_mc_ratio,fmt='ro',yerr=ratio_errs)\n",
    "    else:\n",
    "        diffintegral = bnbintegral\n",
    "        yerrs = np.sqrt(np.array(ybnbvals)*mybnbweight)\n",
    "        #if yerrs is zero, set equal to 1 event\n",
    "        yerrs = [x if x else 1 for x in yerrs]\n",
    "        \n",
    "        data_mc_ratio = (ybnbvals)/totalhist\n",
    "        ratio_errs = data_mc_ratio * \\\n",
    "                    np.sqrt( (ybnbvals)/np.square((ybnbvals)) + \\\n",
    "                            1/totalhist\n",
    "                            )\n",
    "        axarr[1].errorbar(xbnbvals,data_mc_ratio,fmt='ro',yerr=ratio_errs)  \n",
    "        \n",
    "        if not myshapeonly:\n",
    "            awefia = axarr[0].errorbar(xbnbvals,ybnbvals,fmt='mo',yerr = yerrs,\n",
    "                              label='BNB DATA - BNB EXT DATA (%0.2f - %0.2f = %0.2f)' % \\\n",
    "                                  (bnbintegral,extintegral,diffintegral)\n",
    "                             )\n",
    "        else:\n",
    "            awefia = axarr[0].errorbar(xbnbvals,ybnbvals/bnbintegral,fmt='mo',yerr = 0,\n",
    "                              label='BNB DATA - BNB EXT DATA (Shape Only, No Errorbars Drawn)'\n",
    "                             )\n",
    "    if mylogy is None:\n",
    "        axarr[0].set_ylim((0, axarr[0].get_ylim()[1]))\n",
    "        if myylims is not None:\n",
    "            axarr[0].set_ylim(myylims)\n",
    "    leg = axarr[0].legend()\n",
    "    \n",
    "    plt.xlabel(myxlabel,fontsize=16)\n",
    "    plt.ylabel(myylabel,fontsize=16)\n",
    "    leg.get_frame().set_alpha(0.5)\n",
    "    if mylogy is not None:\n",
    "        aewfwa = axarr[0].set_yscale('log', nonposy='clip')\n",
    "        axarr[0].set_ylim((0.1,plt.ylim()[1]))\n",
    "        \n",
    "    #plt.xlim((0,1000))\n",
    "    axarr[1].set_ylim((0,2))\n",
    "    axarr[1].axhline(y=1, xmin=-9999, xmax=axarr[0].get_xlim()[1],\\\n",
    "                     linewidth=1,color='blue',linestyle='--')\n",
    "    axarr[1].set_ylabel('Data/MC',fontsize=14)"
   ]
  },
  {
   "cell_type": "code",
   "execution_count": null,
   "metadata": {
    "collapsed": false
   },
   "outputs": [],
   "source": [
    "def loopCutsPlots(myvar, mybins, mytitlebase, myshapeonly, myxlabel, myylabel, mylogy, myylims = None):\n",
    "\n",
    "    myquery = ''\n",
    "    mytitle = mytitlebase + ': NO CUTS'\n",
    "    plotVariableComparison(myvar,mybins,myquery,mytitle,myshapeonly,myylims,\\\n",
    "                          myxlabel=myxlabel,myylabel=myylabel,mylogy=mylogy)\n",
    "    \n",
    "    for myquery in mycuts:\n",
    "        mytitle = mytitlebase + ': %s' % myquery\n",
    "        plotVariableComparison(myvar,mybins,myquery,mytitle,myshapeonly,myylims,\\\n",
    "                              myxlabel=myxlabel,myylabel=myylabel,mylogy=mylogy)\n",
    "\n",
    "    myquery = str.join(' and ',[x for x in mycuts if 'nu_E_estimate' not in x])\n",
    "    mytitle = mytitlebase + ': all cuts EXCEPT nu_E_estimate'\n",
    "    plotVariableComparison(myvar,mybins,myquery,mytitle,myshapeonly,myylims,\\\n",
    "                          myxlabel=myxlabel,myylabel=myylabel,mylogy=mylogy)\n",
    "    \n",
    "    myquery = str.join(' and ',mycuts)\n",
    "    print myquery\n",
    "    mytitle = mytitlebase + ': ALL CUTS'\n",
    "    plotVariableComparison(myvar,mybins,myquery,mytitle,myshapeonly,myylims,\\\n",
    "                           myxlabel=myxlabel,myylabel=myylabel,mylogy=mylogy)"
   ]
  },
  {
   "cell_type": "code",
   "execution_count": null,
   "metadata": {
    "collapsed": false
   },
   "outputs": [],
   "source": [
    "def plotVariableComparisonEnergyRegions(myvar,mybins,myquery,mytitle,myshapeonly,myylims,\\\n",
    "                          myxlabel='',myylabel='',mylogy=''):\n",
    "    \n",
    "    newquery = myquery + ' and artificial_E < 0.8'\n",
    "    newtitle = mytitle + ' (E < 0.8)'\n",
    "    plotVariableComparison(myvar,mybins,newquery,newtitle,myshapeonly,myylims,\\\n",
    "                          myxlabel=myxlabel,myylabel=myylabel,mylogy=mylogy)\n",
    "    \n",
    "    newquery = myquery + ' and artificial_E > 0.8 and artificial_E < 2.5'\n",
    "    newtitle = mytitle + ' (E in 0.8->2.5)'\n",
    "    plotVariableComparison(myvar,mybins,newquery,newtitle,myshapeonly,myylims,\\\n",
    "                          myxlabel=myxlabel,myylabel=myylabel,mylogy=mylogy)\n",
    "    \n",
    "    newquery = myquery + ' and artificial_E > 2.5'\n",
    "    newtitle = mytitle + ' (E > 2.5)'\n",
    "    plotVariableComparison(myvar,mybins,newquery,newtitle,myshapeonly,myylims,\\\n",
    "                          myxlabel=myxlabel,myylabel=myylabel,mylogy=mylogy)\n",
    "    #\n",
    "    #newquery = myquery + ' and artificial_E < 2.5'\n",
    "    #newtitle = mytitle + ' (E < 2.5)'\n",
    "    #plotVariableComparison(myvar,mybins,newquery,newtitle,myshapeonly,myylims,\\\n",
    "    #                      myxlabel=myxlabel,myylabel=myylabel,mylogy=mylogy)\n",
    "    #\n",
    "    "
   ]
  },
  {
   "cell_type": "code",
   "execution_count": null,
   "metadata": {
    "collapsed": false
   },
   "outputs": [],
   "source": [
    "def plotVariableComparisonLengthRegions(myvar,mybins,myquery,mytitle,myshapeonly,myylims,\\\n",
    "                          myxlabel='',myylabel='',mylogy=''):\n",
    "    \n",
    "    newquery = myquery + ' and longest_trk_len_infidvol > 100.'\n",
    "    newtitle = mytitle + ' (Len > 100 cm)'\n",
    "    plotVariableComparison(myvar,mybins,newquery,newtitle,myshapeonly,myylims,\\\n",
    "                          myxlabel=myxlabel,myylabel=myylabel,mylogy=mylogy)\n",
    "    \n",
    "    newquery = myquery + ' and longest_trk_len_infidvol > 175.'\n",
    "    newtitle = mytitle + ' (Len > 175 cm)'\n",
    "    plotVariableComparison(myvar,mybins,newquery,newtitle,myshapeonly,myylims,\\\n",
    "                          myxlabel=myxlabel,myylabel=myylabel,mylogy=mylogy)\n",
    "    \n",
    "    newquery = myquery + ' and longest_trk_len_infidvol > 250.'\n",
    "    newtitle = mytitle + ' (Len > 250 cm)'\n",
    "    plotVariableComparison(myvar,mybins,newquery,newtitle,myshapeonly,myylims,\\\n",
    "                          myxlabel=myxlabel,myylabel=myylabel,mylogy=mylogy)\n",
    "    \n",
    "    newquery = myquery + ' and longest_trk_len_infidvol > 350.'\n",
    "    newtitle = mytitle + ' (Len > 350 cm)'\n",
    "    plotVariableComparison(myvar,mybins,newquery,newtitle,myshapeonly,myylims,\\\n",
    "                          myxlabel=myxlabel,myylabel=myylabel,mylogy=mylogy)"
   ]
  },
  {
   "cell_type": "code",
   "execution_count": null,
   "metadata": {
    "collapsed": false,
    "scrolled": false
   },
   "outputs": [],
   "source": [
    "#rosie\n",
    "mylogy = None\n",
    "myvar = 'artificial_E'# 'nu_E_estimate'# 'artificial_E_2'\n",
    "mybins = np.linspace(0,4,40)\n",
    "#mybins = np.linspace(2,8,30)\n",
    "mytitlebase = 'Crude Reco Nu Energy'\n",
    "myshapeonly = False\n",
    "myxlabel = 'Crude Reco Nu Energy [GeV]'\n",
    "myylabel = 'Events (5e19 POT Normalized)'\n",
    "myylims = None#(0,0.2)\n",
    "myquery = str.join(' and ',[x for x in mycuts if 'nu_E_estimate' not in x])\n",
    "#myquery += ' and longest_trk_len_infidvol > 100'\n",
    "myquery += ' and longest_trk_cosy > -0.5 and longest_trk_cosy < 0.5'\n",
    "#myquery += ' and longest_trk_wiggle < 0.02'\n",
    "#myquery += ' and reco_nu_z < 600'\n",
    "#myquery += ' and reco_nu_z > 200'\n",
    "#myquery += ' and longest_track_end_z < 600'\n",
    "\n",
    "myquery += ' and not longest_trk_contained'\n",
    "\n",
    "#myquery += ' and not MCS_linecut'\n",
    "#myquery += ' and longest_trk_contained'\n",
    "#myquery += ' and longest_track_end_x_infidvol > 125.'\n",
    "\n",
    "print myquery\n",
    "mytitle = mytitlebase\n",
    "plotVariableComparison(myvar,mybins,myquery,mytitle,myshapeonly,myylims,\\\n",
    "                          myxlabel=myxlabel,myylabel=myylabel,mylogy=mylogy)\n",
    "\n",
    "mybins = np.linspace(1,2,21)\n",
    "plotVariableComparison(myvar,mybins,myquery,mytitle,myshapeonly,myylims,\\\n",
    "                          myxlabel=myxlabel,myylabel=myylabel,mylogy=mylogy)\n",
    "    \n",
    "mybins = np.linspace(2.5,8,15)\n",
    "plotVariableComparison(myvar,mybins,myquery,mytitle,myshapeonly,myylims,\\\n",
    "                          myxlabel=myxlabel,myylabel=myylabel,mylogy=mylogy)\n",
    "\n",
    "#\n",
    "#myvar = 'artificial_E_2'\n",
    "#mybins = np.linspace(0,1.5,20)\n",
    "#mytitlebase = '15% Inflated (MCS ENERGY, DATA ONLY) Energy'\n",
    "#myxlabel = mytitlebase\n",
    "#mytitle = mytitlebase\n",
    "#plotVariableComparison(myvar,mybins,myquery,mytitle,myshapeonly,myylims,\\\n",
    "#                          myxlabel=myxlabel,myylabel=myylabel,mylogy=mylogy)\n",
    "#\n",
    "#mybins = np.linspace(1.5,2.5,20)\n",
    "#plotVariableComparison(myvar,mybins,myquery,mytitle,myshapeonly,myylims,\\\n",
    "#                          myxlabel=myxlabel,myylabel=myylabel,mylogy=mylogy)\n",
    "#\n",
    "#mybins = np.linspace(0,3,32)\n",
    "#plotVariableComparison(myvar,mybins,myquery,mytitle,myshapeonly,myylims,\\\n",
    "#                          myxlabel=myxlabel,myylabel=myylabel,mylogy=mylogy)\n",
    "#\n",
    "#mybins = np.linspace(1.5,3,20)\n",
    "#plotVariableComparison(myvar,mybins,myquery,mytitle,myshapeonly,myylims,\\\n",
    "#                          myxlabel=myxlabel,myylabel=myylabel,mylogy=mylogy)\n",
    "#\n",
    "#mybins = np.linspace(2.5,7,10)\n",
    "#plotVariableComparison(myvar,mybins,myquery,mytitle,myshapeonly,myylims,\\\n",
    "#                          myxlabel=myxlabel,myylabel=myylabel,mylogy=mylogy)"
   ]
  },
  {
   "cell_type": "code",
   "execution_count": null,
   "metadata": {
    "collapsed": false
   },
   "outputs": [],
   "source": [
    "mylogy = None\n",
    "myvar = 'longest_trk_MCS_mom'#arbscaled_MConly'#_scaled_MConly#chopped_straightened'#smeared_MC'# 'artificial_E'\n",
    "mybins = np.linspace(0,3,35)\n",
    "#mybins = np.linspace(2.5,5,20)\n",
    "mytitlebase = myvar\n",
    "myshapeonly = False\n",
    "myxlabel = myvar\n",
    "myylabel = 'Events (5e19 POT Normalized)'\n",
    "myylims = None#(0,0.2)\n",
    "myquery = str.join(' and ',[x for x in mycuts if 'nu_E_estimate' not in x])\n",
    "#myquery += ' and longest_trk_len_infidvol > 100'\n",
    "#myquery += ' and second_longest_trk_len > 50'\n",
    "#myquery += ' and reco_nu_z > 200'\n",
    "#myquery += ' and longest_track_end_z < 900'\n",
    "#myquery += ' and longest_track_end_z < 1000'\n",
    "#myquery += ' and longest_track_end_y > -80'\n",
    "#myquery += ' and longest_track_end_y < 80'\n",
    "#myquery += ' and (longest_track_end_x > 220 or longest_track_end_x < 20)'\n",
    "#myquery += ' and longest_track_end_x > 30 and longest_track_end_x < 210'\n",
    "#myquery += ' and reco_nu_x > 30 and reco_nu_x < 210'\n",
    "\n",
    "#myquery += ' and (longest_track_end_y > 80 or longest_track_end_y < -80)'\n",
    "#myquery += ' and longest_track_end_y > -80 and longest_track_end_y < 80'\n",
    "#myquery += ' and (longest_track_end_z < 50 or longest_track_end_z > 950)'\n",
    "#myquery += ' and longest_track_end_z < 950'\n",
    "\n",
    "#myquery += ' and longest_trk_cosy > -0.5 and longest_trk_cosy < 0.5'\n",
    "#myquery += ' and longest_trk_wiggle < 0.02'\n",
    "#myquery += ' and longest_trk_theta < 0.5'\n",
    "myquery += ' and longest_trk_contained'\n",
    "myquery += ' and not MCS_linecut'\n",
    "#myquery += ' and longest_track_end_x_infidvol > 125.'\n",
    "print myquery\n",
    "mytitle = mytitlebase\n",
    "plotVariableComparison(myvar,mybins,myquery,mytitle,myshapeonly,myylims,\\\n",
    "                          myxlabel=myxlabel,myylabel=myylabel,mylogy=mylogy)\n",
    "\n",
    "mybins = np.linspace(1.5,4,40)\n",
    "plotVariableComparison(myvar,mybins,myquery,mytitle,myshapeonly,myylims,\\\n",
    "                          myxlabel=myxlabel,myylabel=myylabel,mylogy=mylogy)\n",
    "\n",
    "#mybins = np.linspace(2.0,10,20)\n",
    "#plotVariableComparison(myvar,mybins,myquery,mytitle,myshapeonly,myylims,\\\n",
    "#                          myxlabel=myxlabel,myylabel=myylabel,mylogy=mylogy)\n"
   ]
  },
  {
   "cell_type": "code",
   "execution_count": null,
   "metadata": {
    "collapsed": true
   },
   "outputs": [],
   "source": []
  },
  {
   "cell_type": "code",
   "execution_count": null,
   "metadata": {
    "collapsed": true
   },
   "outputs": [],
   "source": []
  },
  {
   "cell_type": "code",
   "execution_count": null,
   "metadata": {
    "collapsed": false
   },
   "outputs": [],
   "source": [
    "print [x for x in df_dict['mcnu'].columns.values if 'length' in x]\n",
    "mylogy = None\n",
    "myvar = 'lengthoverLength'# 'artificial_E'\n",
    "mybins = np.linspace(0.992,1.001,20)\n",
    "#mybins = np.linspace(0.95,1,20)\n",
    "mytitlebase = myvar\n",
    "myshapeonly = False\n",
    "myxlabel = myvar\n",
    "myylabel = 'Events (5e19 POT Normalized)'\n",
    "myylims = None#(0,0.2)\n",
    "myquery = str.join(' and ',[x for x in mycuts if 'nu_E_estimate' not in x])\n",
    "myquery += ' and longest_trk_len_infidvol > 100'\n",
    "myquery += ' and reco_nu_z > 200'\n",
    "#myquery += ' and longest_track_end_z_infidvol < 600'\n",
    "#myquery += ' and longest_trk_cosy > -0.5 and longest_trk_cosy < 0.5'\n",
    "#myquery += ' and longest_trk_theta < 0.5'\n",
    "#myquery += ' and not longest_trk_contained'\n",
    "#myquery += ' and longest_track_end_x_infidvol > 125.'\n",
    "print myquery\n",
    "mytitle = mytitlebase\n",
    "plotVariableComparison(myvar,mybins,myquery,mytitle,myshapeonly,myylims,\\\n",
    "                          myxlabel=myxlabel,myylabel=myylabel,mylogy=mylogy)"
   ]
  },
  {
   "cell_type": "code",
   "execution_count": null,
   "metadata": {
    "collapsed": true
   },
   "outputs": [],
   "source": [
    "### mylogy = None\n",
    "myvar = 'longest_trk_MCS_mom'# 'artificial_E'\n",
    "mybins = np.linspace(0,5,30)\n",
    "mytitlebase = myvar\n",
    "myshapeonly = False\n",
    "myxlabel = myvar\n",
    "myylabel = 'Events (5e19 POT Normalized)'\n",
    "myylims = None#(0,0.2)\n",
    "myquery = str.join(' and ',[x for x in mycuts if 'nu_E_estimate' not in x])\n",
    "myquery += ' and longest_trk_len_infidvol > 250'\n",
    "myquery += ' and longest_trk_cosy > -0.1 and longest_trk_cosy < 0.1'\n",
    "myquery += ' and longest_trk_theta < 0.1'\n",
    "#myquery += ' and not longest_trk_contained'\n",
    "#myquery += ' and longest_track_end_x_infidvol > 125.'\n",
    "print myquery\n",
    "mytitle = mytitlebase\n",
    "plotVariableComparison(myvar,mybins,myquery,mytitle,myshapeonly,myylims,\\\n",
    "                          myxlabel=myxlabel,myylabel=myylabel,mylogy=mylogy)\n"
   ]
  },
  {
   "cell_type": "code",
   "execution_count": null,
   "metadata": {
    "collapsed": true
   },
   "outputs": [],
   "source": [
    "### mylogy = None\n",
    "myvar = 'nu_E_estimate'# 'artificial_E'\n",
    "mybins = np.linspace(0,1.5,17)\n",
    "mytitlebase = 'Crude Reco Nu Energy'\n",
    "myshapeonly = False\n",
    "myxlabel = 'Crude Reco Nu Energy [GeV]'\n",
    "myylabel = 'Events (5e19 POT Normalized)'\n",
    "myylims = None#(0,0.2)\n",
    "myquery = str.join(' and ',[x for x in mycuts if 'nu_E_estimate' not in x])\n",
    "print myquery\n",
    "mytitle = mytitlebase\n",
    "plotVariableComparison(myvar,mybins,myquery,mytitle,myshapeonly,myylims,\\\n",
    "                          myxlabel=myxlabel,myylabel=myylabel,mylogy=mylogy)\n",
    "\n",
    "mybins = np.linspace(1.5,2.5,20)\n",
    "plotVariableComparison(myvar,mybins,myquery,mytitle,myshapeonly,myylims,\\\n",
    "                          myxlabel=myxlabel,myylabel=myylabel,mylogy=mylogy)\n",
    "\n",
    "mybins = np.linspace(0,3,32)\n",
    "plotVariableComparison(myvar,mybins,myquery,mytitle,myshapeonly,myylims,\\\n",
    "                          myxlabel=myxlabel,myylabel=myylabel,mylogy=mylogy)\n",
    "\n",
    "mybins = np.linspace(2.5,8,10)\n",
    "plotVariableComparison(myvar,mybins,myquery,mytitle,myshapeonly,myylims,\\\n",
    "                          myxlabel=myxlabel,myylabel=myylabel,mylogy=mylogy)\n",
    "\n",
    "\n",
    "\n",
    "myvar = 'artificial_E_3'\n",
    "mybins = np.linspace(0,1.5,20)\n",
    "mytitlebase = '5% DEFLATED (MCS ENERGY, MC ONLY) Energy'\n",
    "myxlabel = mytitlebase\n",
    "mytitle = mytitlebase\n",
    "plotVariableComparison(myvar,mybins,myquery,mytitle,myshapeonly,myylims,\\\n",
    "                          myxlabel=myxlabel,myylabel=myylabel,mylogy=mylogy)\n",
    "\n",
    "mybins = np.linspace(1.5,2.5,20)\n",
    "plotVariableComparison(myvar,mybins,myquery,mytitle,myshapeonly,myylims,\\\n",
    "                          myxlabel=myxlabel,myylabel=myylabel,mylogy=mylogy)\n",
    "\n",
    "mybins = np.linspace(0,3,32)\n",
    "plotVariableComparison(myvar,mybins,myquery,mytitle,myshapeonly,myylims,\\\n",
    "                          myxlabel=myxlabel,myylabel=myylabel,mylogy=mylogy)\n",
    "\n",
    "mybins = np.linspace(1.5,3,20)\n",
    "plotVariableComparison(myvar,mybins,myquery,mytitle,myshapeonly,myylims,\\\n",
    "                          myxlabel=myxlabel,myylabel=myylabel,mylogy=mylogy)\n",
    "\n",
    "mybins = np.linspace(2.5,8,10)\n",
    "plotVariableComparison(myvar,mybins,myquery,mytitle,myshapeonly,myylims,\\\n",
    "                          myxlabel=myxlabel,myylabel=myylabel,mylogy=mylogy)"
   ]
  },
  {
   "cell_type": "code",
   "execution_count": null,
   "metadata": {
    "collapsed": false
   },
   "outputs": [],
   "source": [
    "fuck = 'longest_trk_len_infidvol > 100. and longest_trk_cosy < 0.7 '\n",
    "fuck += 'and longest_trk_cosy > -0.7 and longest_tracks_dotprod_trkendpoints > -0.995'\n",
    "df_dict['mcnu'].query(fuck + ' and not correct_ID').hist('longest_trk_cosy')"
   ]
  },
  {
   "cell_type": "code",
   "execution_count": null,
   "metadata": {
    "collapsed": false,
    "scrolled": false
   },
   "outputs": [],
   "source": [
    "# mycuts = ['longest_trk_len_infidvol > 15.',\n",
    "#          'nu_E_estimate > 2.5',\n",
    "#          'longest_tracks_dotprod_trkendpoints > -0.995',\n",
    "#         'not longest_trk_contained',\n",
    "#         '(longest_track_end_z_infidvol < 600 or longest_track_end_z_infidvol > 800)']\n",
    "\n",
    "mylogy = None\n",
    "myvar = 'longest_track_end_y_infidvol'\n",
    "mybins = np.linspace(-150,150,20)\n",
    "mytitlebase = myvar\n",
    "myshapeonly = False\n",
    "myxlabel = myvar\n",
    "myylabel = 'Events (5e19 POT Normalized)'\n",
    "myylims = None#(0,0.2)\n",
    "myquery = str.join(' and ',[x for x in mycuts if 'nu_E_estimate' not in x])\n",
    "myquery += ' and longest_track_end_z < 600'\n",
    "print myquery\n",
    "mytitle = mytitlebase\n",
    "plotVariableComparison(myvar,mybins,myquery,mytitle,myshapeonly,myylims,\\\n",
    "                          myxlabel=myxlabel,myylabel=myylabel,mylogy=mylogy)\n",
    "\n",
    "mylogy = None\n",
    "myvar = 'longest_track_end_z_infidvol'\n",
    "mybins = np.linspace(0,1100,20)\n",
    "mytitlebase = myvar\n",
    "myshapeonly = False\n",
    "myxlabel = myvar\n",
    "myylabel = 'Events (5e19 POT Normalized)'\n",
    "myylims = None#(0,0.2)\n",
    "myquery = str.join(' and ',[x for x in mycuts if 'nu_E_estimate' not in x])\n",
    "myquery += ' and longest_track_end_z < 600'\n",
    "print myquery\n",
    "mytitle = mytitlebase\n",
    "plotVariableComparison(myvar,mybins,myquery,mytitle,myshapeonly,myylims,\\\n",
    "                          myxlabel=myxlabel,myylabel=myylabel,mylogy=mylogy)\n",
    "\n",
    "mylogy = None\n",
    "myvar = 'longest_track_end_x_infidvol'\n",
    "mybins = np.linspace(-100,350,20)\n",
    "mytitlebase = myvar\n",
    "myshapeonly = False\n",
    "myxlabel = myvar\n",
    "myylabel = 'Events (5e19 POT Normalized)'\n",
    "myylims = None#(0,0.2)\n",
    "myquery = str.join(' and ',[x for x in mycuts if 'nu_E_estimate' not in x])\n",
    "myquery += ' and longest_track_end_z < 600'\n",
    "print myquery\n",
    "mytitle = mytitlebase\n",
    "plotVariableComparison(myvar,mybins,myquery,mytitle,myshapeonly,myylims,\\\n",
    "                          myxlabel=myxlabel,myylabel=myylabel,mylogy=mylogy)\n"
   ]
  },
  {
   "cell_type": "code",
   "execution_count": null,
   "metadata": {
    "collapsed": false,
    "scrolled": false
   },
   "outputs": [],
   "source": [
    "#mycuts = ['longest_trk_len_infidvol > 15.',\n",
    "#          'nu_E_estimate > 2.5',\n",
    "#          'longest_tracks_dotprod_trkendpoints > -0.995',\n",
    "#         #'not longest_trk_contained',\n",
    "#         '(longest_track_end_z_infidvol < 600 or longest_track_end_z_infidvol > 800)',\n",
    "#         '(reco_nu_z < 600 or reco_nu_z > 800)']\n",
    "\n",
    "mylogy = None\n",
    "myvar = 'reco_nu_y'\n",
    "mybins = np.linspace(-150,150,40)\n",
    "mytitlebase = myvar\n",
    "myshapeonly = False\n",
    "myxlabel = myvar\n",
    "myylabel = 'Events (5e19 POT Normalized)'\n",
    "myylims = None#(0,0.2)\n",
    "myquery = str.join(' and ',[x for x in mycuts if 'nu_E_estimate' not in x])\n",
    "print myquery\n",
    "mytitle = mytitlebase\n",
    "plotVariableComparison(myvar,mybins,myquery,mytitle,myshapeonly,myylims,\\\n",
    "                          myxlabel=myxlabel,myylabel=myylabel,mylogy=mylogy)\n",
    "\n",
    "mylogy = None\n",
    "myvar = 'reco_nu_z'\n",
    "mybins = np.linspace(0,1100,40)\n",
    "mytitlebase = myvar\n",
    "myshapeonly = False\n",
    "myxlabel = myvar\n",
    "myylabel = 'Events (5e19 POT Normalized)'\n",
    "myylims = None#(0,0.2)\n",
    "myquery = str.join(' and ',[x for x in mycuts if 'nu_E_estimate' not in x])\n",
    "print myquery\n",
    "mytitle = mytitlebase\n",
    "plotVariableComparison(myvar,mybins,myquery,mytitle,myshapeonly,myylims,\\\n",
    "                          myxlabel=myxlabel,myylabel=myylabel,mylogy=mylogy)\n",
    "\n",
    "mylogy = None\n",
    "myvar = 'reco_nu_x'\n",
    "mybins = np.linspace(-100,350,40)\n",
    "mytitlebase = myvar\n",
    "myshapeonly = False\n",
    "myxlabel = myvar\n",
    "myylabel = 'Events (5e19 POT Normalized)'\n",
    "myylims = None#(0,0.2)\n",
    "myquery = str.join(' and ',[x for x in mycuts if 'nu_E_estimate' not in x])\n",
    "print myquery\n",
    "mytitle = mytitlebase\n",
    "plotVariableComparison(myvar,mybins,myquery,mytitle,myshapeonly,myylims,\\\n",
    "                          myxlabel=myxlabel,myylabel=myylabel,mylogy=mylogy)"
   ]
  },
  {
   "cell_type": "code",
   "execution_count": null,
   "metadata": {
    "collapsed": false,
    "scrolled": false
   },
   "outputs": [],
   "source": [
    "mylogy = None\n",
    "myvar = 'longest_trk_len_infidvol'\n",
    "mybins = np.linspace(0,850,10)\n",
    "mytitlebase = myvar\n",
    "myshapeonly = False\n",
    "myxlabel = 'Length of Portion of Longest Track Contained in Fid Vol [cm]'\n",
    "myylabel = 'Events (5e19 POT Normalized)'\n",
    "myylims = None#(0,0.2)\n",
    "myquery = str.join(' and ',[x for x in mycuts if 'nu_E_estimate' not in x])\n",
    "myquery += ' and longest_trk_wiggle < 0.02'\n",
    "myquery += ' and longest_trk_cosy > -0.35 and longest_trk_cosy < 0.35'\n",
    "myquery += ' and longest_track_end_z_infidvol < 600'\n",
    "#myquery += ' and longest_trk_theta < 0.5'\n",
    "print myquery\n",
    "mytitle = mytitlebase\n",
    "plotVariableComparison(myvar,mybins,myquery,mytitle,myshapeonly,myylims,\\\n",
    "                          myxlabel=myxlabel,myylabel=myylabel,mylogy=mylogy)\n",
    "\n"
   ]
  },
  {
   "cell_type": "code",
   "execution_count": null,
   "metadata": {
    "collapsed": false
   },
   "outputs": [],
   "source": [
    "print df_dict['mcnu'].columns.values"
   ]
  },
  {
   "cell_type": "code",
   "execution_count": null,
   "metadata": {
    "collapsed": false,
    "scrolled": false
   },
   "outputs": [],
   "source": [
    "mylogy = None\n",
    "myvar = 'longest_trk_cosy'\n",
    "mybins = np.linspace(-1.1,1.1,26)\n",
    "mybins = np.linspace(-0.4,0.4,26)\n",
    "mytitlebase = 'Longest Track Y- Direction Component'\n",
    "myshapeonly = False\n",
    "myxlabel = mytitlebase\n",
    "myylabel = 'Events (5e19 POT Normalized)'\n",
    "myylims = None#(0,0.2)\n",
    "myquery = str.join(' and ',[x for x in mycuts if 'nu_E_estimate' not in x])\n",
    "myquery += ' and longest_trk_len_infidvol > 200.'\n",
    "myquery += ' and n_associated_tracks > 2'\n",
    "myquery += ' and second_longest_trk_len > 30'\n",
    "print myquery\n",
    "\n",
    "mytitle = mytitlebase\n",
    "plotVariableComparison(myvar,mybins,myquery,mytitle,myshapeonly,myylims,\\\n",
    "                          myxlabel=myxlabel,myylabel=myylabel,mylogy=mylogy)\n"
   ]
  },
  {
   "cell_type": "code",
   "execution_count": null,
   "metadata": {
    "collapsed": false,
    "scrolled": false
   },
   "outputs": [],
   "source": [
    "mylogy = None\n",
    "myvar = 'longest_trk_len'\n",
    "mybins = np.linspace(0,1000,40)\n",
    "mytitlebase = 'Longest Track Length'\n",
    "myshapeonly = False\n",
    "myxlabel = mytitlebase\n",
    "myylabel = 'Events (5e19 POT Normalized)'\n",
    "myylims = None#(0,0.2)\n",
    "myquery = str.join(' and ',[x for x in mycuts if 'nu_E_estimate' not in x])\n",
    "mytitle = mytitlebase\n",
    "plotVariableComparisonEnergyRegions(myvar,mybins,myquery,mytitle,myshapeonly,myylims,\\\n",
    "                          myxlabel=myxlabel,myylabel=myylabel,mylogy=mylogy)\n",
    "\n",
    "\n",
    "\n",
    "mylogy = None\n",
    "myvar = 'second_longest_trk_len'\n",
    "mybins = np.linspace(0,100,20)\n",
    "mytitlebase = 'Second Longest Track Length'\n",
    "myshapeonly = False\n",
    "myxlabel = mytitlebase\n",
    "myylabel = 'Events (5e19 POT Normalized)'\n",
    "myylims = None#(0,0.2)\n",
    "myquery = str.join(' and ',[x for x in mycuts if 'nu_E_estimate' not in x])\n",
    "mytitle = mytitlebase\n",
    "plotVariableComparisonEnergyRegions(myvar,mybins,myquery,mytitle,myshapeonly,myylims,\\\n",
    "                          myxlabel=myxlabel,myylabel=myylabel,mylogy=mylogy)\n"
   ]
  },
  {
   "cell_type": "code",
   "execution_count": null,
   "metadata": {
    "collapsed": false,
    "scrolled": false
   },
   "outputs": [],
   "source": [
    "mylogy = None\n",
    "myvar = 'longest_trk_theta'\n",
    "mybins = np.linspace(0,3.5,26)\n",
    "mybins = np.linspace(0,0.5,10)\n",
    "mytitlebase = 'Longest Track Theta (w.r.t beam)'\n",
    "myshapeonly = False\n",
    "myxlabel = mytitlebase\n",
    "myylabel = 'Events (5e19 POT Normalized)'\n",
    "myylims = None#(0,0.2)\n",
    "myquery = str.join(' and ',[x for x in mycuts if 'nu_E_estimate' not in x])\n",
    "myquery += ' and longest_trk_len_infidvol > 200.'\n",
    "myquery += ' and n_associated_tracks > 2'\n",
    "myquery += ' and second_longest_trk_len > 30'\n",
    "mytitle = mytitlebase\n",
    "plotVariableComparison(myvar,mybins,myquery,mytitle,myshapeonly,myylims,\\\n",
    "                          myxlabel=myxlabel,myylabel=myylabel,mylogy=mylogy)\n"
   ]
  },
  {
   "cell_type": "code",
   "execution_count": null,
   "metadata": {
    "collapsed": false,
    "scrolled": false
   },
   "outputs": [],
   "source": [
    "mylogy = None\n",
    "myvar = 'longest_trk_phi'\n",
    "mybins = np.linspace(-3.15,3.15,30)\n",
    "mytitlebase = 'Longest Track Phi'\n",
    "myshapeonly = False\n",
    "myxlabel = mytitlebase\n",
    "myylabel = 'Events (5e19 POT Normalized)'\n",
    "myylims = None#(0,0.2)\n",
    "myquery = str.join(' and ',[x for x in mycuts if 'nu_E_estimate' not in x])\n",
    "mytitle = mytitlebase\n",
    "plotVariableComparisonEnergyRegions(myvar,mybins,myquery,mytitle,myshapeonly,myylims,\\\n",
    "                          myxlabel=myxlabel,myylabel=myylabel,mylogy=mylogy)\n"
   ]
  },
  {
   "cell_type": "code",
   "execution_count": null,
   "metadata": {
    "collapsed": false,
    "scrolled": false
   },
   "outputs": [],
   "source": [
    "scalefactor = 1.0#0.95#.875\n",
    "df_dict['mcnu']['temp_scaled_MCS'] = df_dict['mcnu']['longest_trk_MCS_mom'] * scalefactor\n",
    "df_dict['datanu']['temp_scaled_MCS'] = df_dict['datanu']['longest_trk_MCS_mom'] \n",
    "df_dict['databkg']['temp_scaled_MCS'] = df_dict['databkg']['longest_trk_MCS_mom'] \n",
    "\n",
    "mylogy = None\n",
    "myvar = 'temp_scaled_MCS'\n",
    "mybins = np.linspace(0,8,20)\n",
    "mytitlebase = 'Longest Track MCS Momentum [MC SCALED %s]' % scalefactor\n",
    "myshapeonly = False\n",
    "myxlabel = mytitlebase\n",
    "myylabel = 'Events (5e19 POT Normalized)'\n",
    "myylims = None#(0,0.2)\n",
    "myquery = 'longest_trk_len_infidvol > 100. and longest_trk_cosy < 0.7 and longest_trk_cosy > -0.7'\n",
    "myquery += ' and longest_tracks_dotprod_trkendpoints > -0.995'\n",
    "myquery += ' and longest_trk_theta < 0.5'\n",
    "#myquery = str.join(' and ',[x for x in mycuts if 'nu_E_estimate' not in x])\n",
    "#myquery += ' and longest_trk_len_infidvol > 200.'\n",
    "#myquery += ' and second_longest_trk_len > 20'\n",
    "#myquery += ' and nu_E_estimate > 2.5'\n",
    "\n",
    "print myquery\n",
    "mytitle = mytitlebase\n",
    "plotVariableComparison(myvar,mybins,myquery,mytitle,myshapeonly,myylims,\\\n",
    "                          myxlabel=myxlabel,myylabel=myylabel,mylogy=mylogy)\n"
   ]
  },
  {
   "cell_type": "code",
   "execution_count": null,
   "metadata": {
    "collapsed": false,
    "scrolled": false
   },
   "outputs": [],
   "source": [
    "mylogy = None\n",
    "myvar = 'E_lepton'\n",
    "mybins = np.linspace(0,3,40)\n",
    "mytitlebase = 'Longest Track Energy'\n",
    "myshapeonly = False\n",
    "myxlabel = mytitlebase\n",
    "myylabel = 'Events (5e19 POT Normalized)'\n",
    "myylims = None#(0,0.2)\n",
    "myquery = str.join(' and ',[x for x in mycuts if 'nu_E_estimate' not in x])\n",
    "mytitle = mytitlebase\n",
    "plotVariableComparisonEnergyRegions(myvar,mybins,myquery,mytitle,myshapeonly,myylims,\\\n",
    "                          myxlabel=myxlabel,myylabel=myylabel,mylogy=mylogy)\n"
   ]
  },
  {
   "cell_type": "code",
   "execution_count": null,
   "metadata": {
    "collapsed": false,
    "scrolled": false
   },
   "outputs": [],
   "source": [
    "mylogy = None\n",
    "myvar = 'E_hadrons'\n",
    "mybins = np.linspace(0,1.0,26)\n",
    "mytitlebase = 'Hadron Energy (E sans longest track)'\n",
    "myshapeonly = False\n",
    "myxlabel = mytitlebase\n",
    "myylabel = 'Events (5e19 POT Normalized)'\n",
    "myylims = None#(0,0.2)\n",
    "myquery = str.join(' and ',[x for x in mycuts if 'nu_E_estimate' not in x])\n",
    "mytitle = mytitlebase\n",
    "plotVariableComparisonLengthRegions(myvar,mybins,myquery,mytitle,myshapeonly,myylims,\\\n",
    "                          myxlabel=myxlabel,myylabel=myylabel,mylogy=mylogy)\n"
   ]
  },
  {
   "cell_type": "code",
   "execution_count": null,
   "metadata": {
    "collapsed": false,
    "scrolled": false
   },
   "outputs": [],
   "source": [
    "mylogy = None\n",
    "myvar = 'n_associated_tracks'\n",
    "mybins = np.linspace(0.5,7.5,8)\n",
    "mytitlebase = 'Multiplicity'\n",
    "myshapeonly = False\n",
    "myxlabel = 'Multiplicity'\n",
    "myylabel = 'Events (5e19 POT Normalized)'\n",
    "myylims = None\n",
    "myquery = str.join(' and ',[x for x in mycuts if 'nu_E_estimate' not in x])\n",
    "#myquery += ' and nu_E_estimate > 1'\n",
    "mytitle = mytitlebase\n",
    "\n",
    "#def loopCutsPlots(myvar, mybins, mytitlebase, myshapeonly, myxlabel, myylabel, mylogy, myylims = None):\n",
    "\n",
    "loopCutsPlots(myvar,mybins,mytitlebase,myshapeonly,myxlabel,myylabel,mylogy,myylims)\n",
    "#plotVariableComparison(myvar,mybins,myquery,mytitle,myshapeonly,myylims,\\\n",
    "#                          myxlabel=myxlabel,myylabel=myylabel,mylogy=mylogy)\n"
   ]
  },
  {
   "cell_type": "code",
   "execution_count": null,
   "metadata": {
    "collapsed": false,
    "scrolled": false
   },
   "outputs": [],
   "source": [
    "mylogy = None\n",
    "myvar = 'n_associated_tracks'\n",
    "mybins = np.linspace(0.5,7.5,8)\n",
    "mytitlebase = 'Multiplicity'\n",
    "myshapeonly = True\n",
    "myxlabel = 'Multiplicity'\n",
    "myylabel = 'Events (5e19 POT Normalized)'\n",
    "myylims = None\n",
    "for mycut in [0, 0.5, 1.0, 1.5, 2.0, 2.5]:\n",
    "    myquery = 'nu_E_estimate > %0.2f' % mycut\n",
    "    mytitle = mytitlebase + '(%s)'%myquery\n",
    "    \n",
    "    plotVariableComparison(myvar,mybins,myquery,mytitle,myshapeonly,myylims,\\\n",
    "                         myxlabel=myxlabel,myylabel=myylabel,mylogy=mylogy)\n"
   ]
  },
  {
   "cell_type": "code",
   "execution_count": null,
   "metadata": {
    "collapsed": false
   },
   "outputs": [],
   "source": [
    "goodquery = 'n_associated_tracks > 2 and nu_E_estimate > 2.5 and correct_ID'\n",
    "badquery = 'n_associated_tracks > 2 and nu_E_estimate > 2.5 and not correct_ID'\n",
    "print len(df_dict['mcnu'].query(goodquery))\n",
    "print len(df_dict['mcnu'].query(badquery))"
   ]
  },
  {
   "cell_type": "code",
   "execution_count": null,
   "metadata": {
    "collapsed": false
   },
   "outputs": [],
   "source": [
    "mylogy = None\n",
    "myvar = 'longest_trk_contained'\n",
    "mybins = np.linspace(-0.5,1.5,3)\n",
    "mytitlebase = 'Longest Track Contained'\n",
    "myshapeonly = False\n",
    "myxlabel = 'Longest Track Contained'\n",
    "myylabel = 'Events (5e19 POT Normalized)'\n",
    "myylims = None\n",
    "myquery = str.join(' and ',[x for x in mycuts if 'nu_E_estimate' not in x])\n",
    "mytitle = mytitlebase\n",
    "plotVariableComparison(myvar,mybins,myquery,mytitle,myshapeonly,myylims,\\\n",
    "                          myxlabel=myxlabel,myylabel=myylabel,mylogy=mylogy)\n",
    "\n",
    "#kazu"
   ]
  },
  {
   "cell_type": "code",
   "execution_count": null,
   "metadata": {
    "collapsed": true
   },
   "outputs": [],
   "source": []
  },
  {
   "cell_type": "code",
   "execution_count": null,
   "metadata": {
    "collapsed": true
   },
   "outputs": [],
   "source": []
  },
  {
   "cell_type": "code",
   "execution_count": null,
   "metadata": {
    "collapsed": true
   },
   "outputs": [],
   "source": []
  },
  {
   "cell_type": "code",
   "execution_count": null,
   "metadata": {
    "collapsed": true
   },
   "outputs": [],
   "source": []
  },
  {
   "cell_type": "code",
   "execution_count": null,
   "metadata": {
    "collapsed": true
   },
   "outputs": [],
   "source": []
  },
  {
   "cell_type": "code",
   "execution_count": null,
   "metadata": {
    "collapsed": false,
    "scrolled": false
   },
   "outputs": [],
   "source": [
    "mylogy = None\n",
    "myvar = 'MCS_ratio'\n",
    "mybins = np.linspace(0,1,26)\n",
    "mytitlebase = myvar\n",
    "myshapeonly = False\n",
    "myxlabel = 'Fraction of nu Energy from MCS'\n",
    "myylabel = 'Events (5e19 POT Normalized)'\n",
    "myylims = None#(0,75)\n",
    "myquery = str.join(' and ',[x for x in mycuts if 'nu_E_estimate' not in x])\n",
    "mytitle = mytitlebase\n",
    "plotVariableComparison(myvar,mybins,myquery,mytitle,myshapeonly,myylims,\\\n",
    "                          myxlabel=myxlabel,myylabel=myylabel,mylogy=mylogy)\n"
   ]
  },
  {
   "cell_type": "code",
   "execution_count": null,
   "metadata": {
    "collapsed": true
   },
   "outputs": [],
   "source": []
  },
  {
   "cell_type": "code",
   "execution_count": null,
   "metadata": {
    "collapsed": true
   },
   "outputs": [],
   "source": []
  },
  {
   "cell_type": "code",
   "execution_count": null,
   "metadata": {
    "collapsed": true
   },
   "outputs": [],
   "source": []
  },
  {
   "cell_type": "code",
   "execution_count": null,
   "metadata": {
    "collapsed": true
   },
   "outputs": [],
   "source": []
  },
  {
   "cell_type": "code",
   "execution_count": null,
   "metadata": {
    "collapsed": true
   },
   "outputs": [],
   "source": []
  },
  {
   "cell_type": "code",
   "execution_count": null,
   "metadata": {
    "collapsed": true
   },
   "outputs": [],
   "source": []
  },
  {
   "cell_type": "code",
   "execution_count": null,
   "metadata": {
    "collapsed": true
   },
   "outputs": [],
   "source": []
  },
  {
   "cell_type": "code",
   "execution_count": null,
   "metadata": {
    "collapsed": true
   },
   "outputs": [],
   "source": []
  },
  {
   "cell_type": "code",
   "execution_count": null,
   "metadata": {
    "collapsed": false,
    "scrolled": false
   },
   "outputs": [],
   "source": [
    "\n",
    "mylogy = None\n",
    "myvar = 'nu_E_estimate'\n",
    "mybins = np.linspace(0,2.5,26)\n",
    "mytitlebase = 'Crude Reco Nu Energy'\n",
    "myshapeonly = False\n",
    "myxlabel = 'Crude Reco Nu Energy [GeV]'\n",
    "myylabel = 'Events (5e19 POT Normalized)'\n",
    "myylims = None#(0,0.2)\n",
    "loopCutsPlots(myvar,mybins,mytitlebase,myshapeonly,myxlabel=myxlabel,myylabel=myylabel,mylogy=mylogy,myylims=myylims)\n",
    "\n",
    "\n",
    "mylogy = None\n",
    "myvar = 'nu_E_estimate'\n",
    "mybins = np.linspace(1.,2.5,16)\n",
    "mytitlebase = 'Crude Reco Nu Energy'\n",
    "myshapeonly = False\n",
    "myxlabel = 'Crude Reco Nu Energy [GeV]'\n",
    "myylabel = 'Events (5e19 POT Normalized)'\n",
    "myylims = None#(0,0.2)\n",
    "loopCutsPlots(myvar,mybins,mytitlebase,myshapeonly,myxlabel=myxlabel,myylabel=myylabel,mylogy=mylogy,myylims=myylims)\n",
    "\n",
    "mylogy = None\n",
    "myvar = 'nu_E_estimate'\n",
    "mybins = np.linspace(2.5,10,10)\n",
    "mytitlebase = 'Crude Reco Nu Energy'\n",
    "myshapeonly = False\n",
    "myxlabel = 'Crude Reco Nu Energy [GeV]'\n",
    "myylabel = 'Events (5e19 POT Normalized)'\n",
    "myylims = None#(0,0.55)\n",
    "loopCutsPlots(myvar,mybins,mytitlebase,myshapeonly,myxlabel=myxlabel,myylabel=myylabel,mylogy=mylogy,myylims=myylims)\n"
   ]
  },
  {
   "cell_type": "code",
   "execution_count": null,
   "metadata": {
    "collapsed": false
   },
   "outputs": [],
   "source": [
    "myquery = str.join(' and ',[x for x in mycuts if 'nu_E_estimate' not in x])\n",
    "myquery += ' and nu_E_estimate > 0'\n",
    "mybins = np.linspace(300,1000,50)\n",
    "df_dict['mcnu'].query(myquery).hist('longest_trk_len_infidvol',bins=mybins)\n",
    "df_dict['datanu'].query(myquery).hist('longest_trk_len_infidvol',bins=mybins)"
   ]
  },
  {
   "cell_type": "code",
   "execution_count": null,
   "metadata": {
    "collapsed": false
   },
   "outputs": [],
   "source": [
    "df_dict['mcnu'].hist('E_lepton')"
   ]
  },
  {
   "cell_type": "code",
   "execution_count": null,
   "metadata": {
    "collapsed": false,
    "scrolled": false
   },
   "outputs": [],
   "source": [
    "\n",
    "mylogy = True\n",
    "myvar = 'E_hadrons'\n",
    "mybins = np.linspace(0,1.5,30)\n",
    "mytitlebase = myvar\n",
    "myshapeonly = False\n",
    "myxlabel = myvar\n",
    "myylabel = 'Events (5e19 POT Normalized)'\n",
    "myylims = None#(0,0.55)\n",
    "loopCutsPlots(myvar,mybins,mytitlebase,myshapeonly,myxlabel=myxlabel,myylabel=myylabel,mylogy=mylogy,myylims=myylims)\n",
    "\n",
    "\n",
    "mylogy = True\n",
    "myvar = 'E_lepton'\n",
    "mybins = np.linspace(0,4,30)\n",
    "mytitlebase = myvar\n",
    "myshapeonly = False\n",
    "myxlabel = myvar\n",
    "myylabel = 'Events (5e19 POT Normalized)'\n",
    "myylims = None#(0,0.55)\n",
    "loopCutsPlots(myvar,mybins,mytitlebase,myshapeonly,myxlabel=myxlabel,myylabel=myylabel,mylogy=mylogy,myylims=myylims)\n"
   ]
  },
  {
   "cell_type": "code",
   "execution_count": null,
   "metadata": {
    "collapsed": false,
    "scrolled": false
   },
   "outputs": [],
   "source": [
    "#mylogy = None\n",
    "#myvar = 'longest_track_end_x_infidvol'\n",
    "#mybins = np.linspace(-10,270,30)\n",
    "#mytitlebase = myvar\n",
    "#myshapeonly = False\n",
    "#myxlabel = myvar\n",
    "#myylabel = 'Events (5e19 POT Normalized)'\n",
    "#loopCutsPlots(myvar,mybins,mytitlebase,myshapeonly,myxlabel=myxlabel,myylabel=myylabel,mylogy=mylogy)\n",
    "#\n",
    "#mylogy = None\n",
    "#myvar = 'longest_track_end_y_infidvol'\n",
    "#mybins = np.linspace(-150,150,30)\n",
    "#mytitlebase = myvar\n",
    "#myshapeonly = False\n",
    "#myxlabel = myvar\n",
    "#myylabel = 'Events (5e19 POT Normalized)'\n",
    "#loopCutsPlots(myvar,mybins,mytitlebase,myshapeonly,myxlabel=myxlabel,myylabel=myylabel,mylogy=mylogy)\n",
    "#\n",
    "#mylogy = None\n",
    "#myvar = 'longest_track_end_z_infidvol'\n",
    "#mybins = np.linspace(0,1100,100)\n",
    "#mytitlebase = myvar\n",
    "#myshapeonly = False\n",
    "#myxlabel = myvar\n",
    "#myylabel = 'Events (5e19 POT Normalized)'\n",
    "#loopCutsPlots(myvar,mybins,mytitlebase,myshapeonly,myxlabel=myxlabel,myylabel=myylabel,mylogy=mylogy)\n",
    "#\n"
   ]
  },
  {
   "cell_type": "code",
   "execution_count": null,
   "metadata": {
    "collapsed": false,
    "scrolled": false
   },
   "outputs": [],
   "source": [
    "mylogy = None\n",
    "myvar = 'n_associated_tracks'\n",
    "mybins = np.linspace(-0.5,10.5,12)\n",
    "mytitlebase = myvar\n",
    "myshapeonly = False\n",
    "myxlabel = myvar\n",
    "myylabel = 'Events (5e19 POT Normalized)'\n",
    "myylims = None#(0,0.8)\n",
    "loopCutsPlots(myvar,mybins,mytitlebase,myshapeonly,myxlabel=myxlabel,myylabel=myylabel,mylogy=mylogy,myylims=myylims)\n"
   ]
  },
  {
   "cell_type": "code",
   "execution_count": null,
   "metadata": {
    "collapsed": false,
    "scrolled": false
   },
   "outputs": [],
   "source": [
    "mylogy = None\n",
    "myvar = 'longest_tracks_dotprod_trkendpoints'\n",
    "mybins = np.linspace(-5000000,5000000,50)\n",
    "mytitlebase = myvar\n",
    "myshapeonly = False\n",
    "myxlabel = myvar\n",
    "myylabel = 'Events (5e19 POT Normalized)'\n",
    "#loopCutsPlots(myvar,mybins,mytitlebase,myshapeonly,myxlabel=myxlabel,myylabel=myylabel,mylogy=mylogy)\n"
   ]
  },
  {
   "cell_type": "code",
   "execution_count": null,
   "metadata": {
    "collapsed": false,
    "scrolled": false
   },
   "outputs": [],
   "source": [
    "mylogy = None\n",
    "myvar = 'longest_trk_MCS_mom'\n",
    "mybins = np.linspace(0,5,30)\n",
    "mytitlebase = myvar\n",
    "myshapeonly = False\n",
    "myxlabel = myvar\n",
    "myylabel = 'Events (5e19 POT Normalized)'\n",
    "loopCutsPlots(myvar,mybins,mytitlebase,myshapeonly,myxlabel=myxlabel,myylabel=myylabel,mylogy=mylogy)\n"
   ]
  },
  {
   "cell_type": "code",
   "execution_count": null,
   "metadata": {
    "collapsed": false,
    "scrolled": false
   },
   "outputs": [],
   "source": [
    "mylogy = None\n",
    "myvar = 'longest_trk_theta'\n",
    "mybins = np.linspace(0,3.14,30)\n",
    "mytitlebase = myvar\n",
    "myshapeonly = False\n",
    "myxlabel = myvar\n",
    "myylabel = 'Events (5e19 POT Normalized)'\n",
    "loopCutsPlots(myvar,mybins,mytitlebase,myshapeonly,myxlabel=myxlabel,myylabel=myylabel,mylogy=mylogy)\n"
   ]
  },
  {
   "cell_type": "code",
   "execution_count": null,
   "metadata": {
    "collapsed": false,
    "scrolled": false
   },
   "outputs": [],
   "source": [
    "mylogy = None\n",
    "myvar = 'longest_trk_phi'\n",
    "mybins = np.linspace(-3.141,3.141,30)\n",
    "mytitlebase = myvar\n",
    "myshapeonly = False\n",
    "myxlabel = myvar\n",
    "myylabel = 'Events (5e19 POT Normalized)'\n",
    "loopCutsPlots(myvar,mybins,mytitlebase,myshapeonly,myxlabel=myxlabel,myylabel=myylabel,mylogy=mylogy)\n"
   ]
  },
  {
   "cell_type": "code",
   "execution_count": null,
   "metadata": {
    "collapsed": false,
    "scrolled": false
   },
   "outputs": [],
   "source": [
    "mylogy = None\n",
    "myvar = 'CCQE_E'\n",
    "mybins = np.linspace(0,8,30)\n",
    "mytitlebase = 'CCQE_E'\n",
    "myshapeonly = False\n",
    "myxlabel = 'CCQE_E'\n",
    "myylabel = 'Events (5e19 POT Normalized)'\n",
    "loopCutsPlots(myvar,mybins,mytitlebase,myshapeonly,myxlabel=myxlabel,myylabel=myylabel,mylogy=mylogy)\n"
   ]
  },
  {
   "cell_type": "code",
   "execution_count": null,
   "metadata": {
    "collapsed": false,
    "scrolled": false
   },
   "outputs": [],
   "source": [
    "mylogy = None\n",
    "myvar = 'longest_trk_len'\n",
    "mybins = np.linspace(0,1000,41)\n",
    "mytitlebase = 'Longest Track Length'\n",
    "myshapeonly = False\n",
    "myxlabel = 'Length of Longest Associated Track [cm]'\n",
    "myylabel = 'Events (5e19 POT Normalized)'\n",
    "myylims = None#(0,0.35)\n",
    "loopCutsPlots(myvar,mybins,mytitlebase,myshapeonly,myxlabel=myxlabel,myylabel=myylabel,mylogy=mylogy,myylims=myylims)"
   ]
  },
  {
   "cell_type": "code",
   "execution_count": null,
   "metadata": {
    "collapsed": false,
    "scrolled": false
   },
   "outputs": [],
   "source": [
    "mylogy = True\n",
    "myvar = 'longest_trk_len_infidvol'\n",
    "mybins = np.linspace(0,1000,51)\n",
    "mytitlebase = 'Longest Track Length (Contained in Fid Vol)'\n",
    "myshapeonly = False\n",
    "myxlabel = 'Length of Longest Associated Track (Portion Contained) [cm]'\n",
    "myylabel = 'Events (5e19 POT Normalized)'\n",
    "myylims = None#(0,0.125)\n",
    "loopCutsPlots(myvar,mybins,mytitlebase,myshapeonly,myxlabel=myxlabel,myylabel=myylabel,mylogy=mylogy,myylims=myylims)\n"
   ]
  },
  {
   "cell_type": "code",
   "execution_count": null,
   "metadata": {
    "collapsed": false,
    "scrolled": false
   },
   "outputs": [],
   "source": [
    "mylogy = None\n",
    "myvar = 'longest_trk_contained'\n",
    "mybins = np.linspace(-0.5,1.5,3)\n",
    "mytitlebase = 'Longest Track Contained in Fid Vol?'\n",
    "myshapeonly = False\n",
    "myxlabel = 'Longest Track Contained in Fid Vol?'\n",
    "myylabel = 'Events (5e19 POT Normalized)'\n",
    "loopCutsPlots(myvar,mybins,mytitlebase,myshapeonly,myxlabel=myxlabel,myylabel=myylabel,mylogy=mylogy)\n"
   ]
  },
  {
   "cell_type": "code",
   "execution_count": null,
   "metadata": {
    "collapsed": false,
    "scrolled": false
   },
   "outputs": [],
   "source": [
    "mylogy = None\n",
    "myvar = 'second_longest_trk_len'\n",
    "mybins = np.linspace(0,100,40)\n",
    "mytitlebase = 'Second Longest Track Length'\n",
    "myshapeonly = False\n",
    "myxlabel = 'Length of Second Longest Associated Track [cm]'\n",
    "myylabel = 'Events (5e19 POT Normalized)'\n",
    "loopCutsPlots(myvar,mybins,mytitlebase,myshapeonly,myxlabel=myxlabel,myylabel=myylabel,mylogy=mylogy)\n"
   ]
  },
  {
   "cell_type": "code",
   "execution_count": null,
   "metadata": {
    "collapsed": false,
    "scrolled": false
   },
   "outputs": [],
   "source": []
  },
  {
   "cell_type": "code",
   "execution_count": null,
   "metadata": {
    "collapsed": false
   },
   "outputs": [],
   "source": [
    "querybase = 'nu_E_estimate > 2.5'\n",
    "mcdenom = len(df_dict['mcnu'].query(querybase + ' and correct_ID'))\n",
    "datadenom = len(df_dict['datanu'].query(querybase))\n",
    "bkgdenom = len(df_dict['databkg'].query(querybase))\n",
    "\n",
    "querybasebelow = 'nu_E_estimate < 2.5'\n",
    "mcdenombelow = len(df_dict['mcnu'].query(querybasebelow + ' and correct_ID'))\n",
    "datadenombelow = len(df_dict['datanu'].query(querybasebelow))\n",
    "bkgdenombelow = len(df_dict['databkg'].query(querybasebelow))\n",
    "\n",
    "\n",
    "for mycut in mycuts:\n",
    "    print \"Cut: %s\" % mycut\n",
    "    mcnum = len(df_dict['mcnu'].query(querybase + ' and correct_ID and ' + mycut))\n",
    "    datanum = len(df_dict['datanu'].query(querybase + ' and ' + mycut))\n",
    "    bkgnum = len(df_dict['databkg'].query(querybase + ' and ' + mycut))\n",
    "    mcnumbelow = len(df_dict['mcnu'].query(querybasebelow + ' and correct_ID and ' + mycut))\n",
    "    datanumbelow = len(df_dict['datanu'].query(querybasebelow + ' and ' + mycut))\n",
    "    bkgnumbelow = len(df_dict['databkg'].query(querybasebelow + ' and ' + mycut))\n",
    "    print \"  Fraction MC remaining above 2.5 reco E =\", float(mcnum)/float(mcdenom)\n",
    "    print \"  Fraction MC remaining below 2.5 reco E =\", float(mcnumbelow)/float(mcdenombelow)\n",
    "    if datadenom:\n",
    "        print \"  Fraction data remaining above 2.5 reco E =\", float(datanum)/float(datadenom)\n",
    "    if datadenombelow:\n",
    "        print \"  Fraction data remaining below 2.5 reco E =\", float(datanumbelow)/float(datadenombelow)\n",
    "    if bkgdenom:\n",
    "        print \"  Fraction bkg remaining above 2.5 reco E =\", float(bkgnum)/float(bkgdenom)\n",
    "    if bkgdenombelow:\n",
    "        print \"  Fraction bkg remaining below 2.5 reco E =\", float(bkgnumbelow)/float(bkgdenombelow)\n",
    "    "
   ]
  },
  {
   "cell_type": "code",
   "execution_count": null,
   "metadata": {
    "collapsed": false,
    "scrolled": false
   },
   "outputs": [],
   "source": [
    "mylogy = None\n",
    "myvar = 'longest_trk_len'\n",
    "mybins = np.linspace(0,1000,20)\n",
    "mytitlebase = 'Longest Track Length'\n",
    "myshapeonly = False\n",
    "myxlabel = 'Length of Longest Associated Track [cm]'\n",
    "myylabel = 'Events (5e19 POT Normalized)'\n",
    "loopCutsPlots(myvar,mybins,mytitlebase,myshapeonly,myxlabel=myxlabel,myylabel=myylabel,mylogy=mylogy)\n",
    "\n",
    "myvar = 'longest_trk_len'\n",
    "mybins = np.linspace(0,1000,10)\n",
    "dummy = 'Longest Track Length (Misc Cuts)'\n",
    "myshapeonly = False\n",
    "myxlabel = 'Length of Longest Associated Track [cm]'\n",
    "myylabel = 'Events (5e19 POT Normalized)'\n",
    "#myquery = 'longest_trk_cosy < 0.5 and longest_trk_cosy > -0.5'\n",
    "myquery = ' longest_tracks_dotprod_trkendpoints > -0.5'\n",
    "#myquery += ' and longest_trk_len > 100.'\n",
    "#myquery += ' and second_longest_trk_len > 16.'\n",
    "myquery += ' and nu_E_estimate > 2.5'\n",
    "#myquery += ' and n_reco_nu_in_evt == 1'\n",
    "plotVariableComparison(myvar,mybins,myquery,dummy,myshapeonly,myxlabel=myxlabel,myylabel=myylabel)"
   ]
  },
  {
   "cell_type": "code",
   "execution_count": null,
   "metadata": {
    "collapsed": false,
    "scrolled": false
   },
   "outputs": [],
   "source": [
    "mylogy = True\n",
    "myvar = 'n_associated_tracks'\n",
    "mytitlebase = myvar\n",
    "mybins = np.linspace(-0.5,8.5,10)\n",
    "dummy = 'Multiplicity'\n",
    "myshapeonly = False\n",
    "myxlabel = 'Multiplicity'\n",
    "myylabel = 'Events (5e19 POT Normalized)'\n",
    "loopCutsPlots(myvar,mybins,mytitlebase,myshapeonly,myxlabel=myxlabel,myylabel=myylabel,mylogy=mylogy)\n"
   ]
  },
  {
   "cell_type": "code",
   "execution_count": null,
   "metadata": {
    "collapsed": false,
    "scrolled": false
   },
   "outputs": [],
   "source": [
    "\n",
    "mylogy = None\n",
    "myvar = 'E_lepton'\n",
    "mybins = np.linspace(0,8,40)\n",
    "mytitlebase = myvar\n",
    "myshapeonly = False\n",
    "myxlabel = myvar\n",
    "myylabel = 'Events (5e19 POT Normalized)'\n",
    "loopCutsPlots(myvar,mybins,mytitlebase,myshapeonly,myxlabel=myxlabel,myylabel=myylabel,mylogy=mylogy)\n",
    "\n",
    "\n",
    "mylogy = None\n",
    "myvar = 'E_hadrons'\n",
    "mybins = np.linspace(0,3,40)\n",
    "mytitlebase = myvar\n",
    "myshapeonly = False\n",
    "myxlabel = myvar\n",
    "myylabel = 'Events (5e19 POT Normalized)'\n",
    "loopCutsPlots(myvar,mybins,mytitlebase,myshapeonly,myxlabel=myxlabel,myylabel=myylabel,mylogy=mylogy)\n",
    "\n"
   ]
  },
  {
   "cell_type": "code",
   "execution_count": null,
   "metadata": {
    "collapsed": false,
    "scrolled": false
   },
   "outputs": [],
   "source": [
    "\n",
    "myvar = 'longest_trk_MCS_mom'\n",
    "mybins = np.linspace(1,6,30)\n",
    "dummy = 'longest_trk_MCS_mom'\n",
    "myshapeonly = True\n",
    "myxlabel = 'longest_trk_MCS_mom [GEV]'\n",
    "myylabel = 'Events (5e19 POT Normalized)'\n",
    "mytitlebase = 'longest_trk_MCS_mom'\n",
    "myylims = (0,0.3)\n",
    "mylogy = None\n",
    "\n",
    "loopCutsPlots(myvar,mybins,mytitlebase,myshapeonly,myxlabel,myylabel,mylogy=mylogy,myylims=myylims)"
   ]
  },
  {
   "cell_type": "code",
   "execution_count": null,
   "metadata": {
    "collapsed": false
   },
   "outputs": [],
   "source": [
    "mcnum = float(np.sum(df_dict['mcnu']['longest_trk_contained'].values))\n",
    "mcdenom = float(len(df_dict['mcnu']['longest_trk_contained'].values))\n",
    "datanum = float(np.sum(df_dict['datanu']['longest_trk_contained'].values))\n",
    "datadenom = float(len(df_dict['datanu']['longest_trk_contained'].values))\n",
    "\n",
    "print \"Fraction of MC events with longest track contained: %f\" % (mcnum/mcdenom)\n",
    "print \"Fraction of Data events with longest track contained: %f\" % (datanum/datadenom)"
   ]
  },
  {
   "cell_type": "code",
   "execution_count": null,
   "metadata": {
    "collapsed": true
   },
   "outputs": [],
   "source": []
  },
  {
   "cell_type": "code",
   "execution_count": null,
   "metadata": {
    "collapsed": false
   },
   "outputs": [],
   "source": [
    "\n",
    "myvar = 'longest_trk_contained'\n",
    "mybins = np.linspace(-0.5,1.5,3)\n",
    "dummy = 'Longest Track Contained'\n",
    "myshapeonly = False\n",
    "myxlabel = 'Longest Track Contained'\n",
    "myylabel = 'Events (5e19 POT Normalized)'\n",
    "myquery = 'longest_trk_cosy < 0.5 and longest_trk_cosy > -0.5'\n",
    "#myquery += ' and longest_tracks_dotprod_trkendpoints > -0.5'\n",
    "#myquery += ' and longest_trk_len > 100.'\n",
    "#myquery += ' and second_longest_trk_len > 16.'\n",
    "#myquery += ' and nu_E_estimate > 2.5'\n",
    "plotVariableComparison(myvar,mybins,myquery,dummy,myshapeonly,myxlabel=myxlabel,myylabel=myylabel,mylogy=None)"
   ]
  },
  {
   "cell_type": "code",
   "execution_count": null,
   "metadata": {
    "collapsed": true
   },
   "outputs": [],
   "source": []
  },
  {
   "cell_type": "code",
   "execution_count": null,
   "metadata": {
    "collapsed": true
   },
   "outputs": [],
   "source": []
  },
  {
   "cell_type": "code",
   "execution_count": null,
   "metadata": {
    "collapsed": false,
    "scrolled": false
   },
   "outputs": [],
   "source": [
    "mylogy = None\n",
    "myvar = 'nu_E_estimate'\n",
    "mybins = np.linspace(0,10,30)\n",
    "dummy = 'Estimated Nu Energy (Tight y- Fid Vol)'\n",
    "myshapeonly = False\n",
    "myxlabel = 'Cruedly Reconstructed Neutrino Energy [GeV]'\n",
    "myylabel = 'Events (5e19 POT Normalized)'\n",
    "myquery = 'longest_track_end_y > -70 and longest_track_end_y < 70'\n",
    "#plotVariableComparison(myvar,mybins,myquery,dummy,myshapeonly,myxlabel=myxlabel,myylabel=myylabel,mylogy=mylogy)\n",
    "\n",
    "myvar = 'nu_E_estimate'\n",
    "mybins = np.linspace(0,10,30)\n",
    "dummy = 'Estimated Nu Energy (Tight z- Fid Vol)'\n",
    "myshapeonly = False\n",
    "myxlabel = 'Cruedly Reconstructed Neutrino Energy [GeV]'\n",
    "myylabel = 'Events (5e19 POT Normalized)'\n",
    "myquery = 'longest_track_end_z > 30 and longest_track_end_z < 900'\n",
    "#plotVariableComparison(myvar,mybins,myquery,dummy,myshapeonly,myxlabel=myxlabel,myylabel=myylabel,mylogy=mylogy)\n",
    "\n",
    "myvar = 'nu_E_estimate'\n",
    "mybins = np.linspace(0,10,30)\n",
    "mytitlebase = 'Estimated Nu Energy'\n",
    "myshapeonly = False\n",
    "myxlabel = 'Cruedly Reconstructed Neutrino Energy [GeV]'\n",
    "myylabel = 'Events (5e19 POT Normalized)'\n",
    "loopCutsPlots(myvar,mybins,mytitlebase,myshapeonly,myxlabel,myylabel,mylogy=mylogy)"
   ]
  },
  {
   "cell_type": "code",
   "execution_count": null,
   "metadata": {
    "collapsed": false
   },
   "outputs": [],
   "source": [
    "fuck = 'correct_ID and true_nu_E > 2.5 and not true_nu_CCNC'\n",
    "df_dict['mcnu'].query(fuck).hist('nu_E_estimate',bins=np.linspace(0,7,50))\n",
    "df_dict['mcnu'].query(fuck).hist('true_nu_mode',bins=np.linspace(-0.5,3.5,5))\n",
    "df_dict['mcnu'].query(fuck).hist('longest_trk_MCS_mom',bins=np.linspace(0,10,50))\n",
    "df_dict['mcnu'].query(fuck).hist('true_lepton_momentum',bins=np.linspace(0,10,50))\n",
    "print df_dict['mcnu'].columns.values"
   ]
  },
  {
   "cell_type": "code",
   "execution_count": null,
   "metadata": {
    "collapsed": true
   },
   "outputs": [],
   "source": []
  },
  {
   "cell_type": "code",
   "execution_count": null,
   "metadata": {
    "collapsed": true
   },
   "outputs": [],
   "source": []
  },
  {
   "cell_type": "code",
   "execution_count": null,
   "metadata": {
    "collapsed": false
   },
   "outputs": [],
   "source": [
    "plt.figure(figsize=(10,6))\n",
    "mybins=np.linspace(0,2000,30)\n",
    "fuck = df_dict['mcnu'].query('correct_ID').hist('brightest_BSW_flash_PE',bins=mybins)\n",
    "plt.figure(figsize=(10,6))\n",
    "myquery = str.join(' and ',mycuts)\n",
    "print myquery\n",
    "fuck = df_dict['mcnu'].query('correct_ID and %s'%myquery).hist('brightest_BSW_flash_PE',bins=mybins)"
   ]
  },
  {
   "cell_type": "code",
   "execution_count": null,
   "metadata": {
    "collapsed": false,
    "scrolled": false
   },
   "outputs": [],
   "source": [
    "myvar = 'brightest_BSW_flash_PE'\n",
    "mylogy = None\n",
    "mybins = np.linspace(0,2000,30)\n",
    "mytitlebase = 'PE of Brightest Flash in BSW'\n",
    "myshapeonly = False\n",
    "myxlabel = 'PE of Brightest Flash in BSW'\n",
    "myylabel = 'Events (5e19 POT Normalized)'\n",
    "loopCutsPlots(myvar,mybins,mytitlebase,myshapeonly,myxlabel,myylabel,mylogy=mylogy)\n",
    "\n",
    "\n",
    "#BSW_flash_z_range"
   ]
  },
  {
   "cell_type": "code",
   "execution_count": null,
   "metadata": {
    "collapsed": false,
    "scrolled": false
   },
   "outputs": [],
   "source": [
    "myvar = 'BSW_flash_z_range'\n",
    "mylogy = None\n",
    "mybins = np.linspace(0,1000,300)\n",
    "mytitlebase = 'Z-Range of All Flashes in BSW'\n",
    "myshapeonly = False\n",
    "myxlabel = 'Z-Range of All Flashes in BSW [cm]'\n",
    "myylabel = 'Events (5e19 POT Normalized)'\n",
    "loopCutsPlots(myvar,mybins,mytitlebase,myshapeonly,myxlabel,myylabel,mylogy=mylogy)"
   ]
  },
  {
   "cell_type": "code",
   "execution_count": null,
   "metadata": {
    "collapsed": false
   },
   "outputs": [],
   "source": [
    "print 2.1*200*29000*0.01*0.01"
   ]
  },
  {
   "cell_type": "code",
   "execution_count": null,
   "metadata": {
    "collapsed": true
   },
   "outputs": [],
   "source": []
  },
  {
   "cell_type": "code",
   "execution_count": null,
   "metadata": {
    "collapsed": false,
    "scrolled": false
   },
   "outputs": [],
   "source": [
    "myvar = 'longest_trk_costheta'\n",
    "mylogy = None\n",
    "mybins = np.linspace(-1,1,20)\n",
    "mytitlebase = 'Longest Track CosTheta'\n",
    "myshapeonly = False\n",
    "myxlabel = 'Cos(Theta) of Longest Track (w.r.t. Beam)'\n",
    "myylabel = 'Events (5e19 POT Normalized)'\n",
    "loopCutsPlots(myvar,mybins,mytitlebase,myshapeonly,myxlabel,myylabel,mylogy)"
   ]
  },
  {
   "cell_type": "code",
   "execution_count": null,
   "metadata": {
    "collapsed": false
   },
   "outputs": [],
   "source": [
    "mybins = np.linspace(0,6,100)\n",
    "fuck = df_dict['mcnu'].hist('true_nu_E',bins=mybins)\n",
    "fuck = df_dict['mcnu'].query('nu_E_estimate > 2.5').hist('true_nu_E',bins=mybins)\n"
   ]
  },
  {
   "cell_type": "code",
   "execution_count": null,
   "metadata": {
    "collapsed": false,
    "scrolled": false
   },
   "outputs": [],
   "source": [
    "\n",
    "##print df_dict['mcnu'].columns.values\n",
    "#plt.figure(figsize=(10,6))\n",
    "#myx = df_dict['mcnu'].query(querybase + ' and ' + morequery)['true_nu_E']\n",
    "#myy = df_dict['mcnu'].query(querybase + ' and ' + morequery)['tot_E_mctracks']\n",
    "##myy += df_dict['mcnu'].query(querybase + ' and ' + morequery)['tot_E_mcshowers']\n",
    "#fuck = plt.hist2d(x=myx,y=myy,bins=np.linspace(0,6,100),cmin=1)\n",
    "#plt.grid(True)\n",
    "#fart = plt.ylabel(\"MCTrack Energy [GeV]\",fontsize=16)\n",
    "#fart = plt.xlabel(\"True Neutrino Energy [GeV]\",fontsize=16)\n",
    "##penispenis"
   ]
  },
  {
   "cell_type": "code",
   "execution_count": null,
   "metadata": {
    "collapsed": true
   },
   "outputs": [],
   "source": []
  },
  {
   "cell_type": "code",
   "execution_count": null,
   "metadata": {
    "collapsed": false
   },
   "outputs": [],
   "source": [
    "print df_dict['mcnu'].columns.values"
   ]
  },
  {
   "cell_type": "code",
   "execution_count": null,
   "metadata": {
    "collapsed": false,
    "scrolled": false
   },
   "outputs": [],
   "source": [
    "#tonguepunchfartbox\n",
    "plt.figure(figsize=(5,5))\n",
    "myx = df_dict['datanu'].query('longest_trk_contained and longest_trk_len > 100 and not MCS_linecut')['longest_trk_MCS_mom'].values\n",
    "myy = df_dict['datanu'].query('longest_trk_contained and longest_trk_len > 100 and not MCS_linecut')['longest_trk_spline_mom'].values / 1000. + 0.106\n",
    "fuck = plt.hist2d(x=myx,y=myy,bins=np.linspace(0,3,100),cmin=1)\n",
    "plt.xlabel('MCS Momentum [GeV]',fontsize=16)\n",
    "plt.ylabel('Spline Momentum [GeV]',fontsize=16)\n",
    "plt.grid(True)\n",
    "#abcdefg\n",
    "blah = np.polyfit(myx,myy,1)\n",
    "p = np.poly1d(blah)\n",
    "xp = np.linspace(0,3,100)\n",
    "poop = plt.plot(xp, p(xp), 'g-',linewidth=3, label='Linear Poly Fit')\n",
    "print p\n",
    "\n",
    "\n",
    "plt.figure(figsize=(5,5))\n",
    "myx = df_dict['mcnu'].query('longest_trk_contained and longest_trk_len_infidvol > 100 and not MCS_linecut')['longest_trk_MCS_mom'].values\n",
    "#myx *= (0.76997739/0.74431758)\n",
    "myy = df_dict['mcnu'].query('longest_trk_contained and longest_trk_len_infidvol > 100 and not MCS_linecut')['longest_trk_spline_mom'].values / 1000.\n",
    "fuck = plt.hist2d(x=myx,y=myy,bins=np.linspace(0,3,100),cmin=1)\n",
    "plt.xlabel('MCS Momentum [GeV]',fontsize=16)\n",
    "plt.ylabel('Spline Momentum [GeV]',fontsize=16)\n",
    "plt.grid(True)\n",
    "blah = np.polyfit(myx,myy,1)\n",
    "p = np.poly1d(blah)\n",
    "xp = np.linspace(0,3,100)\n",
    "poop = plt.plot(xp, p(xp), 'g-',linewidth=3, label='Linear Poly Fit')\n",
    "print p"
   ]
  },
  {
   "cell_type": "code",
   "execution_count": null,
   "metadata": {
    "collapsed": false
   },
   "outputs": [],
   "source": [
    "plt.figure(figsize=(10,6))\n",
    "mybins = np.linspace(0,8,50)\n",
    "myx1 = df_dict['mcnu'].query('correct_ID and fndecay < 10')['true_nu_E'].values\n",
    "myx2 = df_dict['mcnu'].query('correct_ID and fndecay >= 10')['true_nu_E'].values\n",
    "fuck = plt.hist([myx1,myx2],bins=mybins,alpha=0.8,stacked=True,rwidth=1.,\n",
    "               label=['Numu from Kaons','Numu from Pions'],\n",
    "               color=['g','b'])\n",
    "#plt.yscale('log')\n",
    "plt.grid(True)\n",
    "plt.ylabel('Number of Events [Arb POT]',fontsize=16)\n",
    "plt.legend(loc=0)\n",
    "plt.title('BNB+Cosmic Simulation: Correctly ID\\'d Vertex',fontsize=16)\n",
    "fart = plt.xlabel('True Neutrino Energy [GeV]',fontsize=16)\n",
    "\n",
    "plt.figure(figsize=(10,6))\n",
    "mybins = np.linspace(0,8,20)\n",
    "myx1 = df_dict['mcnu'].query('correct_ID and fndecay < 10 and nu_E_estimate > 2.5')['true_nu_E'].values\n",
    "myx2 = df_dict['mcnu'].query('correct_ID and fndecay >= 10 and nu_E_estimate > 2.5')['true_nu_E'].values\n",
    "fuck = plt.hist([myx1,myx2],bins=mybins,alpha=0.8,stacked=True,rwidth=1.,\n",
    "               label=['Numu from Kaons','Numu from Pions'],\n",
    "               color=['g','b'])\n",
    "#plt.yscale('log')\n",
    "plt.grid(True)\n",
    "plt.ylabel('Number of Events [Arb POT]',fontsize=16)\n",
    "plt.legend(loc=0)\n",
    "plt.title('BNB+Cosmic Simulation: Correctly ID\\'d Vertex: Reco Nu E > 2.5',fontsize=16)\n",
    "fart = plt.xlabel('True Neutrino Energy [GeV]',fontsize=16)"
   ]
  },
  {
   "cell_type": "code",
   "execution_count": null,
   "metadata": {
    "collapsed": false
   },
   "outputs": [],
   "source": [
    "n_pi = len(df_dict['mcnu'].query('correct_ID and fndecay >= 10'))\n",
    "n_pf = len(df_dict['mcnu'].query('correct_ID and fndecay >= 10 and nu_E_estimate > 2.5'))\n",
    "n_ki = len(df_dict['mcnu'].query('correct_ID and fndecay < 10'))\n",
    "n_kf = len(df_dict['mcnu'].query('correct_ID and fndecay < 10 and nu_E_estimate > 2.5'))\n",
    "print \"n_pi = %d, n_pf = %d, n_ki = %d, n_kf = %d\" % (n_pi, n_pf, n_ki, n_kf)\n",
    "print \"Fraction pion removed: %0.4f. Fraction Kaon removed: %0.4f\" % \\\n",
    "(1.-float(n_pf)/n_pi, 1.-float(n_kf)/n_ki)\n",
    "print \"After cuts, sample is %0.3f%% kaons (excluding cosmic MIDs here)\"%\\\n",
    " (100.*float(n_kf)/(n_kf+n_pf))"
   ]
  },
  {
   "cell_type": "code",
   "execution_count": null,
   "metadata": {
    "collapsed": false,
    "scrolled": false
   },
   "outputs": [],
   "source": [
    "#investigating events where reco nu E > 2.5 but true nu_E < 2.5\n",
    "# results: they are mostly numu, mostly CC though non-negligible NC\n",
    "# they are mostly correct_ID FALSE (cosmic MIDs)\n",
    "df = df_dict['mcnu'].query('nu_E_estimate > 2.5 and true_nu_E < 2.5')\n",
    "print \"Total number of these events is\",len(df)\n",
    "print\n",
    "print \"Fraction of these events that have correct_ID == 0 is: \",\\\n",
    "float(len(df.query('correct_ID == 0')))/len(df)\n",
    "print \"Let's investigate these.\"\n",
    "subdf_MID = df.query('correct_ID==0')\n",
    "tmpquery = 'longest_tracks_dotprod_trkendpoints > 0.95 or longest_tracks_dotprod_trkendpoints < -0.95'\n",
    "print \"Fraction of these with direction dotprods abs() > 0.95 is:\", \\\n",
    "float(len(subdf_MID.query(tmpquery)))/len(subdf_MID)\n",
    "print\n",
    "print \"Now let's look at ones that ARE correct IDs:\"\n",
    "subdf_ID = df.query('correct_ID==1')\n",
    "print \"Fraction of these that are CC is\",float(len(subdf_ID.query('true_nu_CCNC == 0')))/len(subdf_ID)\n",
    "vars = ['true_nu_pdg','true_nu_E','nu_E_estimate',\\\n",
    "        'n_associated_tracks','longest_tracks_dotprod_trkendpoints']\n",
    "print \"Fraction of these that have reco nu E > 1.5 * true_nu_E is\",\\\n",
    "float(len(subdf_ID.query('nu_E_estimate > 1.5 * true_nu_E')))/len(subdf_ID)\n",
    "vars = ['nu_E_estimate','true_nu_E','true_lepton_momentum','longest_trk_MCS_mom','longest_trk_len']\n",
    "print subdf_ID.query('nu_E_estimate > 1.5 * true_nu_E')[vars]\n",
    "\n",
    "\n",
    "\n",
    "print subdf_MID.columns.values\n"
   ]
  },
  {
   "cell_type": "code",
   "execution_count": null,
   "metadata": {
    "collapsed": true
   },
   "outputs": [],
   "source": [
    "mybins = np.linspace(0,1,100)\n",
    "fart = df_dict['mcnu'].query('correct_ID and true_nu_E > 2.5')\\\n",
    ".hist('longest_tracks_dotprod_trkendpoints_abs',bins=mybins)\n",
    "fart = df_dict['mcnu'].query('not correct_ID and true_nu_E > 2.5')\\\n",
    ".hist('longest_tracks_dotprod_trkendpoints_abs',bins=mybins)\n",
    "\n",
    "fart = df_dict['datanu']\\\n",
    ".hist('longest_tracks_dotprod_trkendpoints_abs',bins=mybins,normed=True)\n",
    "blah = plt.yscale('log')\n",
    "poop = df_dict['databkg']\\\n",
    ".hist('longest_tracks_dotprod_trkendpoints_abs',bins=mybins,normed=True)\n",
    "blah = plt.yscale('log')\n",
    "\n",
    "mynum = plt.hist(df_dict['datanu']['longest_tracks_dotprod_trkendpoints_abs'].values,\\\n",
    "                 bins=np.linspace(0,1,50),alpha=0,normed=True)\n",
    "mydenom = plt.hist(df_dict['databkg']['longest_tracks_dotprod_trkendpoints_abs'].values,\\\n",
    "                   bins=np.linspace(0,1,50),alpha=0,normed=True)\n",
    "myratio = mynum[0]/mydenom[0];\n",
    "plt.figure(figsize=(10,6))\n",
    "poop = plt.plot(mynum[1][1:],myratio,'ro--')\n",
    "fart = plt.grid(True)"
   ]
  },
  {
   "cell_type": "code",
   "execution_count": null,
   "metadata": {
    "collapsed": true
   },
   "outputs": [],
   "source": [
    "#myvar = 'longest_trk_len_infidvol'\n",
    "#mybins = np.linspace(0,1000,100)\n",
    "#mylabel = 'MC correct ID'\n",
    "#fart = df_dict['mcnu'].query('correct_ID').hist(myvar,bins=mybins,normed=True,label=mylabel)\n",
    "#plt.legend(loc='best')\n",
    "#mylabel = 'MC MID'\n",
    "#fart = df_dict['mcnu'].query('not correct_ID').hist(myvar,bins=mybins,normed=True,label=mylabel)\n",
    "#plt.legend(loc='best')\n",
    "#mylabel = 'Data NU'\n",
    "#fart = df_dict['datanu'].hist(myvar,bins=mybins,normed=True,label=mylabel)\n",
    "#plt.legend(loc='best')\n",
    "#mylabel = 'Data BKG'\n",
    "#fart = df_dict['databkg'].hist(myvar,bins=mybins,normed=True,label=mylabel)\n",
    "#plt.legend(loc='best')\n",
    "#\n",
    "#myvar = 'nu_E_estimate'\n",
    "#mybins = np.linspace(0,10,100)\n",
    "#mylabel = 'MC correct ID'\n",
    "#fart = df_dict['mcnu'].query('correct_ID').hist(myvar,bins=mybins,normed=True,label=mylabel)\n",
    "#plt.legend(loc='best')\n",
    "#mylabel = 'MC MID'\n",
    "#fart = df_dict['mcnu'].query('not correct_ID').hist(myvar,bins=mybins,normed=True,label=mylabel)\n",
    "#plt.legend(loc='best')\n",
    "#mylabel = 'Data NU'\n",
    "#fart = df_dict['datanu'].hist(myvar,bins=mybins,normed=True,label=mylabel)\n",
    "#plt.legend(loc='best')\n",
    "#mylabel = 'Data BKG'\n",
    "#fart = df_dict['databkg'].hist(myvar,bins=mybins,normed=True,label=mylabel)\n",
    "#plt.legend(loc='best')\n",
    "#\n",
    "#myvar = 'second_longest_trk_len'\n",
    "#mybins = np.linspace(0,300,100)\n",
    "#mylabel = 'MC correct ID'\n",
    "#fart = df_dict['mcnu'].query('correct_ID').hist(myvar,bins=mybins,normed=True,label=mylabel)\n",
    "#plt.legend(loc='best')\n",
    "#mylabel = 'MC MID'\n",
    "#fart = df_dict['mcnu'].query('not correct_ID').hist(myvar,bins=mybins,normed=True,label=mylabel)\n",
    "#plt.legend(loc='best')\n",
    "#mylabel = 'Data NU'\n",
    "#fart = df_dict['datanu'].hist(myvar,bins=mybins,normed=True,label=mylabel)\n",
    "#plt.legend(loc='best')\n",
    "#mylabel = 'Data BKG'\n",
    "#fart = df_dict['databkg'].hist(myvar,bins=mybins,normed=True,label=mylabel)\n",
    "#plt.legend(loc='best')\n",
    "#\n",
    "#myvar = 'longest_tracks_dotprod_trkendpoints_abs'\n",
    "#mybins = np.linspace(0.95,1,100)\n",
    "#mylabel = 'MC correct ID'\n",
    "#fart = df_dict['mcnu'].query('correct_ID').hist(myvar,bins=mybins,normed=True,label=mylabel)\n",
    "#plt.legend(loc='best')\n",
    "#mylabel = 'MC MID'\n",
    "#fart = df_dict['mcnu'].query('not correct_ID').hist(myvar,bins=mybins,normed=True,label=mylabel)\n",
    "#plt.legend(loc='best')\n",
    "#mylabel = 'Data NU'\n",
    "#fart = df_dict['datanu'].hist(myvar,bins=mybins,normed=True,label=mylabel)\n",
    "#plt.legend(loc='best')\n",
    "#mylabel = 'Data BKG'\n",
    "#fart = df_dict['databkg'].hist(myvar,bins=mybins,normed=True,label=mylabel)\n",
    "#plt.legend(loc='best')\n",
    "#\n",
    "#\n",
    "#\n",
    "#myvar = 'longest_trk_cosy'\n",
    "#mybins = np.linspace(0,1,100)\n",
    "#mylabel = 'MC correct ID'\n",
    "#fart = df_dict['mcnu'].query('correct_ID').hist(myvar,bins=mybins,normed=True,label=mylabel)\n",
    "#plt.legend(loc='best')\n",
    "#mylabel = 'MC MID'\n",
    "#fart = df_dict['mcnu'].query('not correct_ID').hist(myvar,bins=mybins,normed=True,label=mylabel)\n",
    "#plt.legend(loc='best')\n",
    "#mylabel = 'Data NU'\n",
    "#fart = df_dict['datanu'].hist(myvar,bins=mybins,normed=True,label=mylabel)\n",
    "#plt.legend(loc='best')\n",
    "#mylabel = 'Data BKG'\n",
    "#fart = df_dict['databkg'].hist(myvar,bins=mybins,normed=True,label=mylabel)\n",
    "#plt.legend(loc='best')\n",
    "\n",
    "myvar = 'longest_trk_MCS_mom_spline_ratio'\n",
    "mybins = np.linspace(0,10,100)\n",
    "mylabel = 'MC correct ID'\n",
    "fart = df_dict['mcnu'].query('correct_ID and longest_trk_MCS_mom > 0 and longest_trk_len_infidvol > 100.').hist(myvar,bins=mybins,normed=True,label=mylabel)\n",
    "plt.legend(loc='best')\n",
    "mylabel = 'MC MID'\n",
    "fart = df_dict['mcnu'].query('not correct_ID and longest_trk_MCS_mom > 0 and longest_trk_len_infidvol > 100.').hist(myvar,bins=mybins,normed=True,label=mylabel)\n",
    "plt.legend(loc='best')\n",
    "mylabel = 'Data NU'\n",
    "fart = df_dict['datanu'].query('longest_trk_MCS_mom > 0 and longest_trk_len_infidvol > 100.').hist(myvar,bins=mybins,normed=True,label=mylabel)\n",
    "plt.legend(loc='best')\n",
    "mylabel = 'Data BKG'\n",
    "fart = df_dict['databkg'].query('longest_trk_MCS_mom > 0 and longest_trk_len_infidvol > 100.').hist(myvar,bins=mybins,normed=True,label=mylabel)\n",
    "plt.legend(loc='best')"
   ]
  },
  {
   "cell_type": "code",
   "execution_count": null,
   "metadata": {
    "collapsed": true
   },
   "outputs": [],
   "source": [
    "mybins = np.linspace(0,10,100)\n",
    "fart = df_dict['mcnu'].query('correct_ID')\\\n",
    ".hist('smallest_avg_calo',bins=mybins)\n",
    "fart = df_dict['mcnu'].query('not correct_ID')\\\n",
    ".hist('smallest_avg_calo',bins=mybins)\n",
    "\n",
    "fart = df_dict['datanu']\\\n",
    ".hist('smallest_avg_calo',bins=mybins)\n",
    "fart = df_dict['databkg']\\\n",
    ".hist('smallest_avg_calo',bins=mybins)"
   ]
  },
  {
   "cell_type": "code",
   "execution_count": null,
   "metadata": {
    "collapsed": true
   },
   "outputs": [],
   "source": []
  },
  {
   "cell_type": "code",
   "execution_count": null,
   "metadata": {
    "collapsed": true
   },
   "outputs": [],
   "source": [
    "#reco-true/true\n",
    "def eres_plot(df,cuts=None):\n",
    "    binning = np.linspace(0,5,20)\n",
    "    binwidth = float(binning[1]-binning[0])\n",
    "    bincenters = binning + (binwidth/2)\n",
    "    myreses, mystds = [], []\n",
    "    for x in xrange(len(binning)-1):\n",
    "        binmin = binning[x]\n",
    "        binmax = binning[x+1]\n",
    "        mydf = df\n",
    "        if cuts is not None: \n",
    "            mydf = mydf.query(cuts)\n",
    "        mydf = mydf.query('true_nu_E < %f and true_nu_E > %f'%(binmax,binmin))\n",
    "        true = np.array(mydf['true_nu_E'])\n",
    "        reco = np.array(mydf['nu_E_estimate'])\n",
    "        myreses.append( ((reco-true)/true).mean() )\n",
    "        mystds.append( ((reco-true)/true).std() )\n",
    "    plt.figure(figsize=(10,6))\n",
    "    plt.plot(bincenters[:-1],myreses,'ro--',label='Mean of Distribution')\n",
    "    plt.plot(bincenters[:-1],mystds,'bo--',label='Std of Distribution')\n",
    "    plt.ylabel('$\\\\frac{Reco Energy - True Energy}{True Energy}$: Mean, or Std',fontsize=15)\n",
    "    plt.xlabel('True Neutrino Energy',fontsize=15)\n",
    "    plt.grid(True)\n",
    "    plt.legend(loc=3)"
   ]
  },
  {
   "cell_type": "code",
   "execution_count": null,
   "metadata": {
    "collapsed": false
   },
   "outputs": [],
   "source": [
    "mycuts = 'not true_nu_CCNC and correct_ID and '\n",
    "mycuts += 'longest_trk_len_infidvol > 100. and found_mu_mctrack'\n",
    "eres_plot(df_dict['mcnu'],cuts=mycuts)"
   ]
  },
  {
   "cell_type": "code",
   "execution_count": null,
   "metadata": {
    "collapsed": false
   },
   "outputs": [],
   "source": [
    "#tonguepunch\n",
    "plt.figure(figsize=(10,6))\n",
    "querybase = 'longest_trk_len > 100. and longest_trk_contained and not MCS_linecut'\n",
    "myy = df_dict['mcnu'].query(querybase)['longest_trk_MCS_mom']\n",
    "#myy = np.sqrt(np.square(myy) + np.square(0.106))\n",
    "myx = df_dict['mcnu'].query(querybase)['longest_trk_spline_mom']/1000. + 0.106\n",
    "fuck = plt.hist2d(x=myx,y=myy,bins=(np.linspace(0,2,100),np.linspace(0,2,100)),cmin=1)\n",
    "plt.grid(True)\n",
    "fart = plt.xlabel(\"Range Energy [GeV]\",fontsize=16)\n",
    "fart = plt.ylabel(\"MCS Energy [GeV]\",fontsize=16)\n",
    "fart = plt.title(\"MC CONTAINED TRACKS\",fontsize=16)\n",
    "\n",
    "plt.figure(figsize=(10,6))\n",
    "querybase = 'longest_trk_len > 100. and longest_trk_contained and not MCS_linecut'\n",
    "myy = df_dict['datanu'].query(querybase)['longest_trk_MCS_mom']\n",
    "#myy = np.sqrt(np.square(myy) + np.square(0.106))\n",
    "myx = df_dict['datanu'].query(querybase)['longest_trk_spline_mom']/1000. + 0.106\n",
    "fuck = plt.hist2d(x=myx,y=myy,bins=(np.linspace(0,2,100),np.linspace(0,2,100)),cmin=1)\n",
    "plt.grid(True)\n",
    "fart = plt.xlabel(\"Range Energy [GeV]\",fontsize=16)\n",
    "fart = plt.ylabel(\"MCS Energy [GeV]\",fontsize=16)\n",
    "fart = plt.title(\"DATA CONTAINED TRACKS\",fontsize=16)"
   ]
  },
  {
   "cell_type": "code",
   "execution_count": null,
   "metadata": {
    "collapsed": false
   },
   "outputs": [],
   "source": [
    "#reco-true/true\n",
    "def mcs_res_plot(df,cuts=None):\n",
    "    binning = np.linspace(0,2,12)\n",
    "    binwidth = float(binning[1]-binning[0])\n",
    "    bincenters = binning + (binwidth/2)\n",
    "    myreses, mystds = [], []\n",
    "    for x in xrange(len(binning)-1):\n",
    "        binmin = binning[x]\n",
    "        binmax = binning[x+1]\n",
    "        mydf = df\n",
    "        if cuts is not None: \n",
    "            mydf = mydf.query(cuts)\n",
    "        mydf = mydf.query('longest_trk_spline_mom < %f and longest_trk_spline_mom > %f'\\\n",
    "                          %(binmax*1000.,binmin*1000.))\n",
    "        true = np.array(mydf['longest_trk_spline_mom'])/1000.\n",
    "        reco = np.array(mydf['longest_trk_MCS_mom']) - 0.106\n",
    "        myreses.append( ((reco-true)/true).mean() )\n",
    "        mystds.append( ((reco-true)/true).std() )\n",
    "    plt.figure(figsize=(10,6))\n",
    "    plt.plot(bincenters[:-1],myreses,'ro--',label='Mean of Distribution')\n",
    "    plt.plot(bincenters[:-1],mystds,'bo--',label='Std of Distribution')\n",
    "    plt.ylabel('$\\\\frac{MCS Energy - Range Energy}{Range Energy}$: Mean, or Std',fontsize=15)\n",
    "    plt.xlabel('Range Energy [Contained Tracks]',fontsize=15)\n",
    "    plt.grid(True)\n",
    "    plt.legend(loc=1)\n",
    "    print myreses"
   ]
  },
  {
   "cell_type": "code",
   "execution_count": null,
   "metadata": {
    "collapsed": false
   },
   "outputs": [],
   "source": [
    "mycuts = 'longest_trk_len > 100. and longest_trk_contained'# and not MCS_linecut'\n",
    "mcs_res_plot(df_dict['mcnu'],cuts=mycuts)\n",
    "plt.ylim(0,0.4)\n",
    "mcs_res_plot(df_dict['datanu'],cuts=mycuts)\n",
    "plt.ylim(0,0.4)"
   ]
  },
  {
   "cell_type": "code",
   "execution_count": null,
   "metadata": {
    "collapsed": true
   },
   "outputs": [],
   "source": [
    "#reco-true/true vs max z-position in detector\n",
    "def eres_plot_zpos(df,cuts=None):\n",
    "    binning = np.linspace(100,1100,10)\n",
    "    binwidth = float(binning[1]-binning[0])\n",
    "    bincenters = binning + (binwidth/2)\n",
    "    myreses, mystds = [], []\n",
    "    for x in bincenters:\n",
    "        mydf = df\n",
    "        if cuts is not None: \n",
    "            mydf = mydf.query(cuts)\n",
    "        mydf = mydf.query('true_nu_z < %f'%(x))\n",
    "        true = np.array(mydf['true_nu_E'])\n",
    "        reco = np.array(mydf['nu_E_estimate'])\n",
    "        myreses.append( ((reco-true)/true).mean() )\n",
    "        mystds.append( ((reco-true)/true).std() )\n",
    "    plt.figure(figsize=(10,6))\n",
    "    plt.plot(bincenters,myreses,'ro--',label='Mean of Distribution')\n",
    "    plt.plot(bincenters,mystds,'bo--',label='Std of Distribution')\n",
    "    plt.ylabel('$\\\\frac{Reco Energy - True Energy}{True Energy}$: Mean, or Std',fontsize=15)\n",
    "    plt.xlabel('Max z- Position of Neutrino Vertex',fontsize=15)\n",
    "    plt.grid(True)\n",
    "    plt.legend(loc='best')"
   ]
  },
  {
   "cell_type": "code",
   "execution_count": null,
   "metadata": {
    "collapsed": false
   },
   "outputs": [],
   "source": [
    "eres_plot_zpos(df_dict['mcnu'],cuts='correct_ID')"
   ]
  },
  {
   "cell_type": "code",
   "execution_count": null,
   "metadata": {
    "collapsed": true
   },
   "outputs": [],
   "source": []
  },
  {
   "cell_type": "code",
   "execution_count": null,
   "metadata": {
    "collapsed": true
   },
   "outputs": [],
   "source": []
  },
  {
   "cell_type": "code",
   "execution_count": null,
   "metadata": {
    "collapsed": true
   },
   "outputs": [],
   "source": []
  },
  {
   "cell_type": "code",
   "execution_count": null,
   "metadata": {
    "collapsed": true
   },
   "outputs": [],
   "source": [
    "myquery = 'longest_trk_Length_infidvol > 0'\n",
    "Length = df_dict['mcnu'].query(myquery)['longest_trk_Length_infidvol'].values\n",
    "length = df_dict['mcnu'].query(myquery)['longest_trk_len_infidvol'].values\n",
    "print \"# of Lengths is %d\"%len(Length)\n",
    "divided = length/Length\n",
    "\n",
    "#plt.hist(Length)\n",
    "#plt.hist(length)\n",
    "#fart = plt.hist(Length-length,bins=np.linspace(0,500,100))\n",
    "\n",
    "#poop = plt.hist(divided,bins = np.linspace(0,1.5,100))\n",
    "blah = df_dict['mcnu'].hist('lengthoverLength',bins=np.linspace(-0.1,1.5,100))\n",
    "plt.yscale('log')\n",
    "\n",
    "blah = df_dict['datanu'].hist('lengthoverLength',bins=np.linspace(-0.1,1.5,100))\n",
    "plt.yscale('log')"
   ]
  },
  {
   "cell_type": "code",
   "execution_count": null,
   "metadata": {
    "collapsed": true
   },
   "outputs": [],
   "source": []
  },
  {
   "cell_type": "code",
   "execution_count": null,
   "metadata": {
    "collapsed": false
   },
   "outputs": [],
   "source": [
    "subdf = df_dict['mcnu'].query('true_nu_E > 1. and nu_E_estimate < 0.75 and correct_ID')"
   ]
  },
  {
   "cell_type": "code",
   "execution_count": null,
   "metadata": {
    "collapsed": false
   },
   "outputs": [],
   "source": [
    "fuck = np.linspace(0,2000,50)\n",
    "bigdf = df_dict['mcnu'].query('correct_ID')\n",
    "\n",
    "bigdf.hist('true_lepton_momentum',bins=fuck/1000.)\n",
    "bigdf.hist('longest_trk_MCS_mom',bins=fuck)\n",
    "shitballs = subdf.hist('true_lepton_momentum',bins=fuck/1000.)\n",
    "shitballs = subdf.hist('longest_trk_MCS_mom',bins=fuck)\n"
   ]
  },
  {
   "cell_type": "code",
   "execution_count": null,
   "metadata": {
    "collapsed": true
   },
   "outputs": [],
   "source": []
  },
  {
   "cell_type": "code",
   "execution_count": null,
   "metadata": {
    "collapsed": true
   },
   "outputs": [],
   "source": []
  },
  {
   "cell_type": "code",
   "execution_count": null,
   "metadata": {
    "collapsed": true
   },
   "outputs": [],
   "source": [
    "df_dict['datanu'].\\\n",
    "query('n_associated_tracks == 2').\\\n",
    "hist('second_longest_trk_avg_calo',bins=np.linspace(0,10,50))\n",
    "\n",
    "df_dict['datanu'].\\\n",
    "query('n_associated_tracks == 2').\\\n",
    "hist('longest_trk_avg_calo',bins=np.linspace(0,10,50))"
   ]
  },
  {
   "cell_type": "code",
   "execution_count": null,
   "metadata": {
    "collapsed": false,
    "scrolled": false
   },
   "outputs": [],
   "source": [
    "myvar = 'longest_trk_MCS_mom'\n",
    "mybins = np.linspace(0,3000,50)\n",
    "mytitlebase = 'Longest Track MCS Momentum'\n",
    "myshapeonly = False\n",
    "myxlabel = 'Longest Track MCS Momentum [MeV]'\n",
    "myylabel = 'Events (5e19 POT Normalized)'\n",
    "loopCutsPlots(myvar,mybins,mytitlebase,myshapeonly,myxlabel,myylabel)"
   ]
  },
  {
   "cell_type": "code",
   "execution_count": null,
   "metadata": {
    "collapsed": false,
    "scrolled": false
   },
   "outputs": [],
   "source": [
    "myvar = 'longest_tracks_dotprod_trkendpoints_abs'\n",
    "mylogy = None\n",
    "mybins = np.linspace(0,1.1,50)\n",
    "mytitlebase = 'longest_tracks_dotprod_trkendpoints_abs'\n",
    "myshapeonly = False\n",
    "myxlabel = 'longest_tracks_dotprod_trkendpoints_abs'\n",
    "myylabel = 'Events (5e19 POT Normalized)'\n",
    "loopCutsPlots(myvar,mybins,mytitlebase,myshapeonly,myxlabel,myylabel,mylogy)"
   ]
  },
  {
   "cell_type": "code",
   "execution_count": null,
   "metadata": {
    "collapsed": false,
    "scrolled": false
   },
   "outputs": [],
   "source": [
    "myvar = 'n_associated_tracks'\n",
    "mylogy = None\n",
    "mybins = np.linspace(0.5,7.5,8)\n",
    "mytitlebase = 'Track Multiplicity'\n",
    "myshapeonly = False\n",
    "myxlabel = 'Track Multiplicity'\n",
    "myylabel = 'Events (5e19 POT Normalized)'\n",
    "loopCutsPlots(myvar,mybins,mytitlebase,myshapeonly,myxlabel,myylabel,mylogy)"
   ]
  },
  {
   "cell_type": "code",
   "execution_count": null,
   "metadata": {
    "collapsed": false
   },
   "outputs": [],
   "source": [
    "def computeCutImpact(myquery1 = None, myquery2 = None):\n",
    "    \"\"\"\n",
    "    Query 1 is first query (for example, NO cuts)\n",
    "    Query 2 is the second query, whose impact you are quantifying\n",
    "    \"\"\"\n",
    "    print\n",
    "    print \"COMPUTING CUT IMPACT!\"\n",
    "    print \"Base Query = %s\" % ('No Cuts' if not myquery1 else myquery1)\n",
    "    print \"Placing Cut = %s\" % myquery2\n",
    "    print\n",
    "    mydict = df_dict['mcnu']\n",
    "    if myquery1 is not None: mydict = df_dict['mcnu'].query(myquery1)\n",
    "    myweight = (5.e19) / pot_per_sample['mcnu']  \n",
    "    myinum_pion = len(mydict.query('fndecay >= 10 and correct_ID == 1'))*float(myweight)\n",
    "    myinum_kaon = len(mydict.query('fndecay < 10 and correct_ID == 1'))*float(myweight)\n",
    "    myinum_cosm = len(mydict.query('correct_ID == 0'))*float(myweight)\n",
    "    \n",
    "    myfnum_pion = len(mydict.query('fndecay >= 10 and correct_ID == 1 and %s'%myquery2))*float(myweight)\n",
    "    myfnum_kaon = len(mydict.query('fndecay < 10 and correct_ID == 1 and %s'%myquery2))*float(myweight)\n",
    "    myfnum_cosm = len(mydict.query('correct_ID == 0 and %s'%myquery2))*float(myweight)\n",
    "\n",
    "    mydict = df_dict['datanu']\n",
    "    if myquery1 is not None: mydict = df_dict['datanu'].query(myquery1)\n",
    "    myweight = (5.e19) / pot_per_sample['datanu']  \n",
    "    myinum_bnb = len(mydict)\n",
    "    myfnum_bnb = len(mydict.query(myquery2))\n",
    "    \n",
    "    mydict = df_dict['databkg']\n",
    "    if myquery1 is not None: mydict = df_dict['databkg'].query(myquery1)\n",
    "    myweight = (5.e19) / pot_per_sample['databkg']  \n",
    "    myinum_ext = len(mydict)\n",
    "    myfnum_ext = len(mydict.query(myquery2)) \n",
    "    \n",
    "    print \"\\tN_Pion\\tN_Cosm\\tN_Kaon\\tN_BNB\\tN_EXT\\tN_MCTot\\tN_Sig-Bkg\"\n",
    "    print \"N_EVTS\\t%0.1f\\t%0.1f\\t%0.1f\\t%0.1f\\t%0.1f\\t%0.1f\\t%0.1f\" % \\\n",
    "    (myinum_pion,myinum_cosm,myinum_kaon,myinum_bnb,myinum_ext,\\\n",
    "     myinum_pion+myinum_cosm+myinum_kaon,myinum_bnb-myinum_ext)\n",
    "    print \"AFTER\\t%0.1f\\t%0.1f\\t%0.1f\\t%0.1f\\t%0.1f\\t%0.1f\\t%0.1f\" % \\\n",
    "    (myfnum_pion,myfnum_cosm,myfnum_kaon,myfnum_bnb,myfnum_ext,\\\n",
    "     myfnum_pion+myfnum_cosm+myfnum_kaon,myfnum_bnb-myfnum_ext)\n",
    "    print \"Remain\\t%0.1f%%\\t%0.1f%%\\t%0.1f%%\\t%0.1f%%\\t%0.1f%%\\t%0.1f%%\\t%0.1f%%\" % \\\n",
    "    (100.*myfnum_pion/myinum_pion,100.*myfnum_cosm/myinum_cosm,\\\n",
    "     100.*myfnum_kaon/myinum_kaon,100.*myfnum_bnb/myinum_bnb,\\\n",
    "     100.*myfnum_ext/myinum_ext,\\\n",
    "    100.*(myfnum_pion+myfnum_cosm+myfnum_kaon)/(myinum_pion+myinum_cosm+myinum_kaon),\\\n",
    "     100.*(myfnum_bnb-myfnum_ext)/(myinum_bnb-myinum_ext))\n",
    "    print\n",
    "    \n",
    "    ipdiff = 100.*(((myinum_pion+myinum_cosm+myinum_kaon)-(myinum_bnb-myinum_ext))/(myinum_bnb-myinum_ext))\n",
    "    fpdiff = 100.*(((myfnum_pion+myfnum_cosm+myfnum_kaon)-(myfnum_bnb-myfnum_ext))/(myfnum_bnb-myfnum_ext)) \n",
    "    print \"Before cuts, percent difference b/t data and MC is %0.1f%%\" % ipdiff\n",
    "    print \"After cuts, percent difference b/t data and MC is %0.1f%%\" % fpdiff\n",
    "       \n",
    "    "
   ]
  },
  {
   "cell_type": "code",
   "execution_count": null,
   "metadata": {
    "collapsed": false
   },
   "outputs": [],
   "source": [
    "for cut in mycuts:\n",
    "    computeCutImpact(myquery1=None,myquery2=cut)"
   ]
  },
  {
   "cell_type": "code",
   "execution_count": null,
   "metadata": {
    "collapsed": false
   },
   "outputs": [],
   "source": [
    "print list(df_dict['datanu'].columns.values)\n",
    "print mycuts"
   ]
  },
  {
   "cell_type": "code",
   "execution_count": null,
   "metadata": {
    "collapsed": false
   },
   "outputs": [],
   "source": [
    "myvar = 'longest_tracks_dotprod_trkendpoints'\n",
    "mybins = np.linspace(-1,1,20)\n",
    "mytitle = myvar\n",
    "myshapeonly = False\n",
    "myquery = ''\n",
    "myylims = (0,350)\n",
    "plotVariableComparison(myvar,mybins,myquery,mytitle,myshapeonly,myylims)\n",
    "plt.axvline(x=-0.5, ymin=0, ymax=350, linewidth=4,color='red')\n",
    "\n",
    "myvar = 'nu_E_estimate'\n",
    "mybins = np.linspace(0,5,20)\n",
    "mytitle = 'Estimated Nu Energy'\n",
    "myshapeonly = False\n",
    "myxlabel = 'Cruedly Reconstructed Neutrino Energy [GeV]'\n",
    "myylabel = 'Events (5e19 POT Normalized)'\n",
    "myquery = ''\n",
    "myylims = (0,1000)\n",
    "plotVariableComparison(myvar,mybins,myquery,mytitle,myshapeonly,myylims)\n",
    "plt.axvline(x=2.5, ymin=0, ymax=1000, linewidth=4,color='red')\n",
    "\n",
    "myvar = 'nu_E_estimate'\n",
    "mybins = np.linspace(2.5,5,20)\n",
    "mytitle = 'Estimated Nu Energy'\n",
    "myshapeonly = False\n",
    "myxlabel = 'Cruedly Reconstructed Neutrino Energy [GeV]'\n",
    "myylabel = 'Events (5e19 POT Normalized)'\n",
    "myquery = ''\n",
    "myylims = (0,20)\n",
    "plotVariableComparison(myvar,mybins,myquery,mytitle,myshapeonly,myylims)\n",
    "plt.axvline(x=2.5, ymin=0, ymax=1000, linewidth=4,color='red')\n",
    "\n",
    "myvar = 'second_longest_trk_len'\n",
    "mybins = np.linspace(0,150,40)\n",
    "mytitle = 'Second Longest Track Length'\n",
    "myshapeonly = False\n",
    "myquery = ''\n",
    "myylims = (0,600)\n",
    "myxlabel = 'Second Longest Track Length [cm]'\n",
    "myylabel = 'Events (5e19 POT Normalized)'\n",
    "plotVariableComparison(myvar,mybins,myquery,mytitle,myshapeonly,myylims)\n",
    "line = plt.axvline(x=16, ymin=0, ymax=600, linewidth=4,color='red')"
   ]
  },
  {
   "cell_type": "code",
   "execution_count": null,
   "metadata": {
    "collapsed": true
   },
   "outputs": [],
   "source": [
    "myvar = 'longest_tracks_dotprod_trkendpoints_abs'\n",
    "mybins = np.linspace(.9,1,100)\n",
    "mylabel = 'MC correct ID (true Nu E > 2.5)'\n",
    "fart = df_dict['mcnu'].query('correct_ID and true_nu_E > 2.5').hist(myvar,bins=mybins,normed=True,label=mylabel)\n",
    "plt.legend(loc='best')\n",
    "\n",
    "myvar = 'longest_tracks_dotprod_trkendpoints_abs'\n",
    "mybins = np.linspace(.9,1,100)\n",
    "mylabel = 'MC correct ID'\n",
    "fart = df_dict['mcnu'].query('correct_ID').hist(myvar,bins=mybins,normed=True,label=mylabel)\n",
    "plt.legend(loc='best')\n"
   ]
  },
  {
   "cell_type": "code",
   "execution_count": null,
   "metadata": {
    "collapsed": true
   },
   "outputs": [],
   "source": [
    "def plotVariableComparisonBkg(myvar, mybins, myquery, mytitle, myshapeonly = False, myylims = None,\\\n",
    "                           myxlabel = 'test', myylabel = 'test'):\n",
    "\n",
    "    plt.figure(figsize=(10,6))\n",
    "    poop = plt.grid(True)\n",
    "    plt.title(mytitle,fontsize=16)\n",
    "  \n",
    "    mydict_intime = df_dict['mcbkg']\n",
    "    if myquery: mydict_intime = df_dict['mcbkg'].query(myquery)\n",
    "    myweight_intime = (5.e19) / pot_per_sample['mcbkg']\n",
    "    myvals_intime = mydict_intime[myvar].values\n",
    "    nphist = np.histogram(myvals_intime,bins=mybins,\n",
    "                          weights=[myweight_intime]*len(myvals_intime),\n",
    "                          normed=myshapeonly)\n",
    "    integral_intime = np.sum(nphist[0])\n",
    "    \n",
    "    poop = plt.hist(myvals_intime,bins=mybins,\n",
    "                    label='MC: Cosmic Bkg. from In Time Cosmic Entries = %0.2f' % integral_intime,\n",
    "                    alpha=0.5,\n",
    "                    weights=[myweight_intime]*len(myvals_intime),\n",
    "                    color='cyan',\n",
    "                    stacked=False,\n",
    "                    rwidth=1.)\n",
    "\n",
    "    myextvals = df_dict['databkg'][myvar].values\n",
    "    if myquery: myextvals = df_dict['databkg'].query(myquery)[myvar].values\n",
    "    myextweight = (5.e19) / pot_per_sample['databkg']\n",
    "    extintegral = 0.\n",
    "    if len(myextvals):\n",
    "        blah = plt.hist(myextvals,bins=mybins,color='g',\n",
    "                        alpha=0,weights=[myextweight]*len(myextvals),normed=myshapeonly)\n",
    "    \n",
    "        yextvals = blah[0]\n",
    "        xextvals = [blah[1][i]+(blah[1][i+1]-blah[1][i])/2. for i in xrange(len(blah[1][:-1]))]\n",
    "        yerrs = np.sqrt(np.array(yextvals)*myextweight)\n",
    "        extintegral = np.sum(blah[0])\n",
    "        awefia = plt.errorbar(xextvals,yextvals,fmt='ro', yerr=yerrs,\n",
    "                          label='BNB EXT DATA: Entries = %0.2f' % extintegral\n",
    "                         )\n",
    "\n",
    "    plt.ylim((0, plt.ylim()[1]))\n",
    "    if myylims is not None:\n",
    "        plt.ylim(myylims)\n",
    "    leg = plt.legend()\n",
    "    plt.xlabel(myxlabel,fontsize=16)\n",
    "    plt.ylabel(myylabel,fontsize=16)\n",
    "    dummy = leg.get_frame().set_alpha(0.5)"
   ]
  },
  {
   "cell_type": "code",
   "execution_count": null,
   "metadata": {
    "collapsed": false
   },
   "outputs": [],
   "source": [
    "myvar = 'longest_tracks_dotprod_trkendpoints'\n",
    "mybins = np.linspace(-1,1,20)\n",
    "mytitle = 'Longest Two Tracks: Direction Dot-Product'\n",
    "myshapeonly = False\n",
    "myquery = ''\n",
    "myxlabel = 'Dot Product of Longest Two Track Directions'\n",
    "myylabel = 'Events (5e19 POT Normalized)'\n",
    "myylims = (0,80)\n",
    "plotVariableComparisonBkg(myvar,mybins,myquery,mytitle,myshapeonly,myylims,myxlabel,myylabel)\n",
    "plt.axvline(x=-0.5, ymin=0, ymax=350, linewidth=4,color='red')\n",
    "\n",
    "myvar = 'nu_E_estimate'\n",
    "mybins = np.linspace(0,5,20)\n",
    "mytitle = 'Estimated Nu Energy'\n",
    "myshapeonly = False\n",
    "myxlabel = 'Cruedly Reconstructed Neutrino Energy [GeV]'\n",
    "myylabel = 'Events (5e19 POT Normalized)'\n",
    "myquery = ''\n",
    "myylims = (0,300)\n",
    "plotVariableComparisonBkg(myvar,mybins,myquery,mytitle,myshapeonly,myylims,myxlabel,myylabel)\n",
    "plt.axvline(x=2.5, ymin=0, ymax=1000, linewidth=4,color='red')\n",
    "\n",
    "myvar = 'nu_E_estimate'\n",
    "mybins = np.linspace(2.5,5,20)\n",
    "mytitle = 'Estimated Nu Energy'\n",
    "myshapeonly = False\n",
    "myxlabel = 'Cruedly Reconstructed Neutrino Energy [GeV]'\n",
    "myylabel = 'Events (5e19 POT Normalized)'\n",
    "myquery = ''\n",
    "myylims = (0,10)\n",
    "plotVariableComparisonBkg(myvar,mybins,myquery,mytitle,myshapeonly,myylims,myxlabel,myylabel)\n",
    "plt.axvline(x=2.5, ymin=0, ymax=1000, linewidth=4,color='red')\n",
    "\n",
    "myvar = 'second_longest_trk_len'\n",
    "mybins = np.linspace(0,150,40)\n",
    "mytitle = 'Second Longest Track Length'\n",
    "myshapeonly = False\n",
    "myquery = ''\n",
    "myylims = (0,250)\n",
    "myxlabel = 'Second Longest Track Length [cm]'\n",
    "myylabel = 'Events (5e19 POT Normalized)'\n",
    "plotVariableComparisonBkg(myvar,mybins,myquery,mytitle,myshapeonly,myylims,myxlabel,myylabel)\n",
    "line = plt.axvline(x=16, ymin=0, ymax=600, linewidth=4,color='red')"
   ]
  },
  {
   "cell_type": "code",
   "execution_count": null,
   "metadata": {
    "collapsed": false
   },
   "outputs": [],
   "source": [
    "myvar = 'longest_trk_len'\n",
    "mybins = np.linspace(0,1000,80)\n",
    "mytitle = 'Longest Track Length'\n",
    "myshapeonly = False\n",
    "myquery = ''\n",
    "myylims = (0,200)\n",
    "myxlabel = 'Longest Track Length [cm]'\n",
    "myylabel = 'Events (5e19 POT Normalized)'\n",
    "plotVariableComparisonBkg(myvar,mybins,myquery,mytitle,myshapeonly,myylims,myxlabel,myylabel)"
   ]
  },
  {
   "cell_type": "code",
   "execution_count": null,
   "metadata": {
    "collapsed": true
   },
   "outputs": [],
   "source": []
  },
  {
   "cell_type": "code",
   "execution_count": null,
   "metadata": {
    "collapsed": true
   },
   "outputs": [],
   "source": []
  },
  {
   "cell_type": "code",
   "execution_count": null,
   "metadata": {
    "collapsed": false
   },
   "outputs": [],
   "source": [
    "mybins = np.linspace(0,6,100)\n",
    "fuck = df_dict['mcnu'].query('correct_ID').hist('true_nu_E',bins=mybins)\n",
    "fuck = df_dict['mcnu'].query('nu_E_estimate > 2.5 and correct_ID').hist('true_nu_E',bins=mybins)"
   ]
  },
  {
   "cell_type": "code",
   "execution_count": null,
   "metadata": {
    "collapsed": true
   },
   "outputs": [],
   "source": [
    "#print df_dict['datanu'].columns.values\n",
    "#vars_to_try = ['longest_trk_len_infidvol','nu_E_estimate','longest_trk_theta',\\\n",
    "#               'longest_trk_MCS_mom', 'n_associated_tracks']\n",
    "#fart = df_dict['mcnu'].query('nu_E_estimate > 2.5 and correct_ID').hist('true_nu_E',bins=np.linspace(0,5,50))\n",
    "\n",
    "print np.max(df_dict['mcnu']['longest_trk_len_infidvol'].values)\n",
    "print np.max(df_dict['datanu']['longest_trk_len_infidvol'].values)\n",
    "print np.min(df_dict['mcnu']['longest_trk_len_infidvol'].values)\n",
    "print np.min(df_dict['datanu']['longest_trk_len_infidvol'].values)\n",
    "\n",
    "bins = np.linspace(0,600,20)\n",
    "myx = df_dict['mcnu']['longest_trk_len_infidvol'].values\n",
    "fuck = np.histogram(myx,\n",
    "                    bins=bins,weights=[(5.e19)/pot_per_sample['mcnu']]*len(myx),normed=False)\n",
    "mchist = fuck[0]\n",
    "myx = df_dict['datanu']['longest_trk_len_infidvol'].values\n",
    "fuck = np.histogram(myx,bins=bins,weights=[(5.e19)/pot_per_sample['datanu']]*len(myx),normed=False)\n",
    "datahist = fuck[0]\n",
    "\n",
    "myx = df_dict['databkg']['longest_trk_len_infidvol'].values\n",
    "fuck = np.histogram(myx,bins=bins,weights=[(5.e19)/pot_per_sample['databkg']]*len(myx),normed=False)\n",
    "bkghist = fuck[0]\n",
    "\n",
    "diffhist = datahist - bkghist\n",
    "ratio = mchist/diffhist\n",
    "\n",
    "print \"mchist:\"\n",
    "print mchist\n",
    "print \"datahist:\"\n",
    "print datahist\n",
    "print \"bkghist:\"\n",
    "print bkghist\n",
    "print \"diffhist:\"\n",
    "print diffhist\n",
    "\n",
    "bincenters = []\n",
    "for x in xrange(len(bins)-1):\n",
    "    bincenters.append(bins[x] + (bins[x+1]-bins[x])/2.)\n",
    "    \n",
    "plt.figure(figsize=(10,6))\n",
    "yerrs = np.sqrt(mchist + datahist)\n",
    "plt.plot(bincenters,ratio,'ro--')\n",
    "plt.title(\"Ratio: MC Longest Track Length / (beamOn-beamOff) Longest Track Length\",fontsize=16)\n",
    "plt.grid(True)\n",
    "#plt.xscale('log')\n",
    "awefwaef = plt.ylim((0,2))\n",
    "plt.xlabel('Length of Longest Track [Portion Contained in Fid Vol]',fontsize=16)"
   ]
  },
  {
   "cell_type": "code",
   "execution_count": null,
   "metadata": {
    "collapsed": true
   },
   "outputs": [],
   "source": []
  },
  {
   "cell_type": "code",
   "execution_count": null,
   "metadata": {
    "collapsed": true
   },
   "outputs": [],
   "source": []
  },
  {
   "cell_type": "code",
   "execution_count": null,
   "metadata": {
    "collapsed": true
   },
   "outputs": [],
   "source": []
  },
  {
   "cell_type": "code",
   "execution_count": null,
   "metadata": {
    "collapsed": true
   },
   "outputs": [],
   "source": []
  },
  {
   "cell_type": "code",
   "execution_count": null,
   "metadata": {
    "collapsed": true
   },
   "outputs": [],
   "source": []
  },
  {
   "cell_type": "code",
   "execution_count": null,
   "metadata": {
    "collapsed": true
   },
   "outputs": [],
   "source": [
    "#print df_dict['mcnu'].columns.values\n",
    "plt.figure(figsize=(10,6))\n",
    "myy = df_dict['mcnu'].query('fndecay == 3 or fndecay == 4 or fndecay == 5')['kaon_prod_E'].values\n",
    "myx = df_dict['mcnu'].query('fndecay == 3 or fndecay == 4 or fndecay == 5')['kaon_prod_theta'].values\n",
    "bins = (np.linspace(0,10,20),np.linspace(0,8,20))\n",
    "poop = plt.hist2d(x=myx,y=myy,bins=bins,cmin=1)\n",
    "plt.colorbar()\n",
    "plt.grid(True)\n",
    "plt.xlabel('K+ Production Angle (degrees)',fontsize=16)\n",
    "plt.xlabel('K+ Production Energy [GeV]',fontsize=16)\n",
    "plt.title('All Selected Numu From Kaon Decay',fontsize=16)\n",
    "\n",
    "plt.figure(figsize=(10,6))\n",
    "allcuts = ' and '.join(mycuts)\n",
    "print allcuts\n",
    "\n",
    "myy = df_dict['mcnu'].query('(fndecay == 3 or fndecay == 4 or fndecay == 5) and %s'%allcuts)['kaon_prod_E'].values\n",
    "myx = df_dict['mcnu'].query('(fndecay == 3 or fndecay == 4 or fndecay == 5) and %s'%allcuts)['kaon_prod_theta'].values\n",
    "bins = (np.linspace(0,10,20),np.linspace(0,8,20))\n",
    "poop = plt.hist2d(x=myx,y=myy,bins=bins,cmin=1)\n",
    "plt.colorbar()\n",
    "plt.xlabel('K+ Production Angle (degrees)',fontsize=16)\n",
    "plt.xlabel('K+ Production Energy [GeV]',fontsize=16)\n",
    "plt.title('Selected Numu From Kaon Decay Passing All Cuts',fontsize=16)\n",
    "plt.grid(True)"
   ]
  },
  {
   "cell_type": "code",
   "execution_count": null,
   "metadata": {
    "collapsed": true
   },
   "outputs": [],
   "source": [
    "#print df_dict['mcnu'].columns.values\n",
    "plt.figure(figsize=(10,6))\n",
    "myy = df_dict['mcnu']['longest_trk_len_infidvol'].values\n",
    "myx = df_dict['mcnu']['nu_E_estimate'].values\n",
    "bins = (np.linspace(0,2.5,50),np.linspace(0,800,50))\n",
    "poop = plt.hist2d(x=myx,y=myy,bins=bins,cmin=1)\n",
    "plt.colorbar()\n",
    "plt.grid(True)\n",
    "plt.xlabel('Nu E estimate',fontsize=16)\n",
    "plt.ylabel('Longest track len in fidvol',fontsize=16)\n",
    "plt.title('MC',fontsize=16)\n",
    "\n",
    "plt.figure(figsize=(10,6))\n",
    "myy = df_dict['datanu']['longest_trk_len_infidvol'].values\n",
    "myx = df_dict['datanu']['nu_E_estimate'].values\n",
    "bins = (np.linspace(0,2.5,50),np.linspace(0,800,50))\n",
    "poop = plt.hist2d(x=myx,y=myy,bins=bins,cmin=1)\n",
    "plt.colorbar()\n",
    "plt.grid(True)\n",
    "plt.xlabel('Nu E estimate',fontsize=16)\n",
    "plt.ylabel('Longest track len in fidvol',fontsize=16)\n",
    "plt.title('BEAMON DATA',fontsize=16)\n",
    "\n",
    "plt.figure(figsize=(10,6))\n",
    "myy = df_dict['databkg']['longest_trk_len_infidvol'].values\n",
    "myx = df_dict['databkg']['nu_E_estimate'].values\n",
    "bins = (np.linspace(0,2.5,50),np.linspace(0,800,50))\n",
    "poop = plt.hist2d(x=myx,y=myy,bins=bins,cmin=1)\n",
    "plt.colorbar()\n",
    "plt.grid(True)\n",
    "plt.xlabel('Nu E estimate',fontsize=16)\n",
    "plt.ylabel('Longest track len in fidvol',fontsize=16)\n",
    "plt.title('BEAMOFF DATA',fontsize=16)\n"
   ]
  },
  {
   "cell_type": "code",
   "execution_count": null,
   "metadata": {
    "collapsed": true
   },
   "outputs": [],
   "source": [
    "#print df_dict['mcnu'].columns.values\n",
    "plt.figure(figsize=(10,6))\n",
    "querybase = 'not true_nu_CCNC and correct_ID'\n",
    "#myquery = 'longest_trk_len_infidvol > 100.'\n",
    "morequery = 'longest_trk_len_infidvol > 100. and found_mu_mctrack'\n",
    "#morequery += ' and longest_trk_theta < 1.'\n",
    "morequery += ' and ' + str.join(' and ',[x for x in mycuts if 'nu_E_estimate' not in x])\n",
    "#morequery += ' and lengthoverLength > 0.9'\n",
    "\n",
    "myy = df_dict['mcnu'].query(querybase + ' and ' + morequery)['nu_E_estimate']\n",
    "myx = df_dict['mcnu'].query(querybase + ' and ' + morequery)['true_nu_E']\n",
    "#myy += df_dict['mcnu'].query(querybase + ' and ' + morequery)['tot_E_mcshowers']/1000.\n",
    "fuck = plt.hist2d(x=myx,y=myy,bins=np.linspace(0,8,100),cmin=1)\n",
    "plt.grid(True)\n",
    "fart = plt.xlabel(\"True Neutrino Energy [GeV]\",fontsize=16)\n",
    "fart = plt.ylabel(\"Crude Reco Neutrino Energy [GeV]\",fontsize=16)\n",
    "print querybase + ' and ' + morequery\n",
    "plt.plot([0,8],[0,8],'g--')\n",
    "plt.plot([0,8],[2.5,2.5],'r--')\n",
    "plt.plot([2.5,2.5],[0,8],'r--')"
   ]
  },
  {
   "cell_type": "code",
   "execution_count": null,
   "metadata": {
    "collapsed": true
   },
   "outputs": [],
   "source": [
    "#print df_dict['mcnu'].columns.values\n",
    "plt.figure(figsize=(10,6))\n",
    "querybase = 'not true_nu_CCNC and correct_ID'\n",
    "#myquery = 'longest_trk_len_infidvol > 100.'\n",
    "morequery = 'longest_trk_len_infidvol > 100. and found_mu_mctrack'\n",
    "#morequery += ' and longest_trk_theta < 1.'\n",
    "morequery += ' and ' + str.join(' and ',[x for x in mycuts if 'nu_E_estimate' not in x])\n",
    "#morequery += ' and lengthoverLength > 0.9'\n",
    "\n",
    "myy = df_dict['mcnu'].query(querybase + ' and ' + morequery)['corrected_nu_E_estimate']\n",
    "myx = df_dict['mcnu'].query(querybase + ' and ' + morequery)['nu_E_estimate']\n",
    "#myy += df_dict['mcnu'].query(querybase + ' and ' + morequery)['tot_E_mcshowers']/1000.\n",
    "fuck = plt.hist2d(x=myx,y=myy,bins=np.linspace(0,8,100),cmin=1)\n",
    "plt.grid(True)\n",
    "fart = plt.xlabel(\"Crude Reco Neutrino Energy [GeV]\",fontsize=16)\n",
    "fart = plt.ylabel(\"MCS Bias Corrected Reco Neutrino Energy [GeV]\",fontsize=16)\n",
    "print querybase + ' and ' + morequery\n",
    "plt.plot([0,8],[0,8],'g--')\n",
    "plt.plot([0,8],[2.5,2.5],'r--')\n",
    "plt.plot([2.5,2.5],[0,8],'r--')"
   ]
  },
  {
   "cell_type": "markdown",
   "metadata": {},
   "source": [
    "(onbeam - offbeam)                               vs mcc7bnbcosmic\n",
    "overall, (onbeam - offbeam) has too many short tracks\n",
    "just offbeam has too few short tracks\n",
    "that means onbeam has way too many short tracks\n",
    "\n",
    "let's say onbeam is 50 short tracks, offbeam has 30 short tracks.\n",
    "expect 40 short tracks in offbeam from mc\n",
    "onbeam minus offbeam is 20 short tracks, bnbcosmic has 15 short tracks"
   ]
  },
  {
   "cell_type": "markdown",
   "metadata": {},
   "source": [
    "RUN ON IN TIME COSMICS\n",
    "for events Xiao filter selects, histogram: all track lengths, all mctrack lengths\n",
    "since # tracks and # mctracks don't equal, maybe compare shape\n",
    "    -- this doesn't work because pandora removes its cosmic tracks automatically"
   ]
  },
  {
   "cell_type": "code",
   "execution_count": null,
   "metadata": {
    "collapsed": false
   },
   "outputs": [],
   "source": [
    "x = np.linspace(1,50,200)\n",
    "y = np.sqrt(x)/x\n",
    "blah = plt.plot(x,y)"
   ]
  },
  {
   "cell_type": "code",
   "execution_count": null,
   "metadata": {
    "collapsed": true
   },
   "outputs": [],
   "source": []
  }
 ],
 "metadata": {
  "kernelspec": {
   "display_name": "Python 2",
   "language": "python",
   "name": "python2"
  },
  "language_info": {
   "codemirror_mode": {
    "name": "ipython",
    "version": 2
   },
   "file_extension": ".py",
   "mimetype": "text/x-python",
   "name": "python",
   "nbconvert_exporter": "python",
   "pygments_lexer": "ipython2",
   "version": "2.7.5"
  }
 },
 "nbformat": 4,
 "nbformat_minor": 0
}
