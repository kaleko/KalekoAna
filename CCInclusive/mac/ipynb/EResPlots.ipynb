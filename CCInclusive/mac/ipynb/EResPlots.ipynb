{
 "cells": [
  {
   "cell_type": "code",
   "execution_count": null,
   "metadata": {
    "collapsed": true
   },
   "outputs": [],
   "source": [
    "%matplotlib inline\n",
    "from ROOT import TFile, TTree\n",
    "import numpy as np\n",
    "import matplotlib.pylab as plt\n",
    "import pandas as pd\n",
    "from root_numpy import root2array"
   ]
  },
  {
   "cell_type": "code",
   "execution_count": null,
   "metadata": {
    "collapsed": true
   },
   "outputs": [],
   "source": [
    "myfile = '/Users/davidkaleko/larlite/UserDev/KalekoAna/'\n",
    "myfile += 'CCInclusive/mac/TestKinematicNuReco_ana_out.root'\n",
    "df = pd.DataFrame( root2array( myfile, 'tree' ) )"
   ]
  },
  {
   "cell_type": "code",
   "execution_count": null,
   "metadata": {
    "collapsed": false
   },
   "outputs": [],
   "source": [
    "print df.info()"
   ]
  },
  {
   "cell_type": "code",
   "execution_count": null,
   "metadata": {
    "collapsed": true
   },
   "outputs": [],
   "source": [
    "#reco-true/true\n",
    "def eres_plot(cuts=None):\n",
    "    binning = np.linspace(0,3,20)\n",
    "    binwidth = float(binning[1]-binning[0])\n",
    "    bincenters = binning + (binwidth/2)\n",
    "    myreses, mystds = [], []\n",
    "    for x in xrange(len(binning)-1):\n",
    "        binmin = binning[x]\n",
    "        binmax = binning[x+1]\n",
    "        mydf = df\n",
    "        if cuts is not None: \n",
    "            mydf = mydf.query(cuts)\n",
    "        mydf = mydf.query('true_nu_E < %f and true_nu_E > %f'%(binmax,binmin))\n",
    "        true = np.array(mydf['true_nu_E'])\n",
    "        reco = np.array(mydf['reco_nu_E_frompp'])\n",
    "        myreses.append( ((reco-true)/true).mean() )\n",
    "        mystds.append( ((reco-true)/true).std() )\n",
    "    plt.figure(figsize=(10,6))\n",
    "    plt.plot(bincenters[:-1],myreses,'ro--',label='Mean of Distribution')\n",
    "    plt.plot(bincenters[:-1],mystds,'bo--',label='Std of Distribution')\n",
    "    plt.ylabel('$\\\\frac{Reco Energy - True Energy}{True Energy}$: Mean, or Std',fontsize=15)\n",
    "    plt.xlabel('True Neutrino Energy',fontsize=15)\n",
    "    plt.grid(True)\n",
    "    plt.legend()\n"
   ]
  },
  {
   "cell_type": "code",
   "execution_count": null,
   "metadata": {
    "collapsed": false
   },
   "outputs": [],
   "source": [
    "eres_plot()\n",
    "plt.title('Energy Resolutions: No Constraints Applied',fontsize=16)\n",
    "mycuts = 'plane_Z_anglediff > 80 and plane_Z_anglediff < 100'\n",
    "mycuts +=' and (reco_CCQE_E-reco_nu_E_frompp) > -0.2'\n",
    "mycuts +=' and (reco_CCQE_E-reco_nu_E_frompp) < 0.2'\n",
    "eres_plot(mycuts)\n",
    "plt.title('Energy Resolutions: CCQE & Coplanar Constraints Applied',fontsize=16)"
   ]
  },
  {
   "cell_type": "code",
   "execution_count": null,
   "metadata": {
    "collapsed": true
   },
   "outputs": [],
   "source": []
  }
 ],
 "metadata": {
  "kernelspec": {
   "display_name": "Python 2",
   "language": "python",
   "name": "python2"
  },
  "language_info": {
   "codemirror_mode": {
    "name": "ipython",
    "version": 2
   },
   "file_extension": ".py",
   "mimetype": "text/x-python",
   "name": "python",
   "nbconvert_exporter": "python",
   "pygments_lexer": "ipython2",
   "version": "2.7.5"
  }
 },
 "nbformat": 4,
 "nbformat_minor": 0
}
