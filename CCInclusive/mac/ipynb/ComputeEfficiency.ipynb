{
 "cells": [
  {
   "cell_type": "code",
   "execution_count": 5,
   "metadata": {
    "collapsed": false
   },
   "outputs": [
    {
     "name": "stdout",
     "output_type": "stream",
     "text": [
      "Efficiency: 196/2755 = 7.11%\n"
     ]
    }
   ],
   "source": [
    "infile = 'EfficiencyStudy_ana_out_signalsample.root'\n",
    "issignalsample = 'signal' in infile\n",
    "\n",
    "import pandas as pd\n",
    "from root_numpy import root2array\n",
    "\n",
    "df = pd.DataFrame( root2array( infile, 'evttree' ) )\n",
    "\n",
    "cuts = \"flash_in_bgw and is_areco_vtx_in_fidvol and is_atrack_fromvtx and \"\n",
    "cuts += \"longest_trk_contained and longest_trk_range_longenough and longest_track_nearflash_z\"\n",
    "\n",
    "if issignalsample:\n",
    "    cuts += ' and is_truth_fiducial and is_numuCC and longest_trk_start_near_truth_nu'\n",
    "\n",
    "nocuts = \"is_truth_fiducial and is_numuCC\"\n",
    "\n",
    "num = float(len(df.query(cuts)))\n",
    "\n",
    "denom = len(df) if not issignalsample else len(df.query(nocuts))\n",
    "\n",
    "print \"Efficiency: %d/%d = %0.2f%%\" % (num,denom,100*(num/denom))\n"
   ]
  },
  {
   "cell_type": "code",
   "execution_count": 6,
   "metadata": {
    "collapsed": false
   },
   "outputs": [
    {
     "data": {
      "text/plain": [
       "array(['is_truth_fiducial', 'is_numuCC', 'flash_in_bgw',\n",
       "       'is_areco_vtx_in_fidvol', 'is_atrack_fromvtx',\n",
       "       'longest_track_nearflash_z', 'longest_trk_contained',\n",
       "       'longest_trk_range_longenough', 'longest_trk_start_near_truth_nu'], dtype=object)"
      ]
     },
     "execution_count": 6,
     "metadata": {},
     "output_type": "execute_result"
    }
   ],
   "source": [
    "df.columns.values"
   ]
  },
  {
   "cell_type": "code",
   "execution_count": 7,
   "metadata": {
    "collapsed": false
   },
   "outputs": [
    {
     "data": {
      "text/plain": [
       "10717"
      ]
     },
     "execution_count": 7,
     "metadata": {},
     "output_type": "execute_result"
    }
   ],
   "source": [
    "len(df)\n"
   ]
  },
  {
   "cell_type": "code",
   "execution_count": 8,
   "metadata": {
    "collapsed": false
   },
   "outputs": [
    {
     "name": "stdout",
     "output_type": "stream",
     "text": [
      "flash_in_bgw\n",
      "7027\n",
      "is_areco_vtx_in_fidvol\n",
      "6829\n",
      "is_atrack_fromvtx\n",
      "6829\n",
      "longest_trk_contained\n",
      "468\n",
      "longest_trk_range_longenough\n",
      "443\n",
      "longest_track_nearflash_z\n",
      "295\n"
     ]
    }
   ],
   "source": [
    "cutlist = ['flash_in_bgw','is_areco_vtx_in_fidvol', 'is_atrack_fromvtx',\\\n",
    "           'longest_trk_contained','longest_trk_range_longenough',\\\n",
    "           'longest_track_nearflash_z']\n",
    "tempcuts = ''\n",
    "for x in xrange(len(cutlist)):\n",
    "    print cutlist[x]\n",
    "    if not x: tempcuts += cutlist[x]\n",
    "    else: tempcuts += ' and %s'%cutlist[x]\n",
    "\n",
    "    print len(df.query(tempcuts))\n"
   ]
  },
  {
   "cell_type": "code",
   "execution_count": null,
   "metadata": {
    "collapsed": false
   },
   "outputs": [],
   "source": [
    "%matplotlib inline\n",
    "df.hist('longest_track_nearflash_z')"
   ]
  },
  {
   "cell_type": "code",
   "execution_count": null,
   "metadata": {
    "collapsed": true
   },
   "outputs": [],
   "source": []
  }
 ],
 "metadata": {
  "kernelspec": {
   "display_name": "Python 2",
   "language": "python",
   "name": "python2"
  },
  "language_info": {
   "codemirror_mode": {
    "name": "ipython",
    "version": 2
   },
   "file_extension": ".py",
   "mimetype": "text/x-python",
   "name": "python",
   "nbconvert_exporter": "python",
   "pygments_lexer": "ipython2",
   "version": "2.7.5"
  }
 },
 "nbformat": 4,
 "nbformat_minor": 0
}
