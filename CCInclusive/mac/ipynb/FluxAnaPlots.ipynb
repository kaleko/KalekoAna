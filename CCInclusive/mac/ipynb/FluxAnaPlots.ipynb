{
 "cells": [
  {
   "cell_type": "code",
   "execution_count": null,
   "metadata": {
    "collapsed": true
   },
   "outputs": [],
   "source": [
    "%matplotlib inline\n",
    "from ROOT import TFile, TTree\n",
    "\n",
    "import numpy as np\n",
    "import matplotlib.pylab as plt\n",
    "import pandas as pd\n",
    "import re\n",
    "\n",
    "from root_numpy import root2array"
   ]
  },
  {
   "cell_type": "code",
   "execution_count": null,
   "metadata": {
    "collapsed": false
   },
   "outputs": [],
   "source": [
    "filedir = '/Users/davidkaleko/larlite/UserDev/KalekoAna/CCInclusive/mac'\n",
    "!ls $filedir | grep ana"
   ]
  },
  {
   "cell_type": "code",
   "execution_count": null,
   "metadata": {
    "collapsed": false
   },
   "outputs": [],
   "source": [
    "allfile = filedir+'/FluxAna_ana_out_allbnbcosmic.root'\n",
    "cutfile = '/Users/davidkaleko/Data/larlite/080116_selection_output/'\n",
    "cutfile += 'ana_out_trkpandoraNuPMA_vtxpmtrack_mcc71ext2bnb3_1.root'\n",
    "\n",
    "df_dict = {}\n",
    "df_dict['all'] = pd.DataFrame( root2array ( allfile, 'fluxtree' ) )\n",
    "df_dict['cut'] = pd.DataFrame( root2array ( cutfile, 'tree' ) )"
   ]
  },
  {
   "cell_type": "code",
   "execution_count": null,
   "metadata": {
    "collapsed": false
   },
   "outputs": [],
   "source": [
    "print df_dict['all'].columns.values\n",
    "print df_dict['cut'].columns.values"
   ]
  },
  {
   "cell_type": "markdown",
   "metadata": {},
   "source": [
    "       Decay type\tDecay code\n",
    "       \n",
    "       K0L -> nue pi- e+\t1\n",
    "       K0L -> nuebar pi+ e-\t2\n",
    "       K0L -> numu pi- mu+\t3\n",
    "       K0L -> numubar pi+ mu-\t4\n",
    "       K+ -> numu mu+\t        5\n",
    "       K+ -> nue pi0 e+\t        6\n",
    "       K+ -> numu pi0 mu+\t7\n",
    "       K- -> numubar mu-\t8\n",
    "       K- -> nuebar pi0 e-\t9\n",
    "       K- -> numubar pi0 mu-\t10\n",
    "       mu+ -> numubar nue e+\t11\n",
    "       mu- -> numu nuebar e-\t12\n",
    "       pi+ -> numu mu+\t        13\n",
    "       pi- -> numubar mu-\t14"
   ]
  },
  {
   "cell_type": "code",
   "execution_count": null,
   "metadata": {
    "collapsed": false
   },
   "outputs": [],
   "source": [
    "def kaon_2d_plot(mydf,myquery,mytitle):\n",
    "    plt.figure(figsize=(10,6))\n",
    "    myy = mydf.query(myquery)['kaon_prod_E'].values\n",
    "    myx = mydf.query(myquery)['kaon_prod_theta'].values\n",
    "    bins = (np.linspace(0,12,20),np.linspace(0,8,20))\n",
    "    poop = plt.hist2d(x=myx,y=myy,bins=bins,cmin=1)\n",
    "    plt.colorbar()\n",
    "    plt.grid(True)\n",
    "    plt.xlabel('K+ Production Angle (degrees)',fontsize=16)\n",
    "    plt.ylabel('K+ Production Energy [GeV]',fontsize=16)\n",
    "    plt.title(mytitle,fontsize=16)\n",
    "\n",
    "def kaon_1d_plots(myquery,mytitle):\n",
    "    \n",
    "    #angle plot\n",
    "    plt.figure(figsize=(10,6))\n",
    "    bins = np.linspace(0,10,20)\n",
    "    \n",
    "    thisquery = myquery + ' and nu_in_fidvol'\n",
    "    myx = df_dict['all'].query(thisquery)['kaon_prod_theta'].values\n",
    "    mymean, myrms = np.mean(myx), np.std(myx)\n",
    "    poop = plt.hist(myx,bins=bins,color='r',histtype='step',\n",
    "                    label='All (Mean %0.2f, RMS %0.2f)' % (mymean,myrms))\n",
    "    \n",
    "    thisquery = myquery + ' and correct_ID == 1'\n",
    "    myx = df_dict['cut'].query(thisquery)['kaon_prod_theta'].values\n",
    "    mymean, myrms = np.mean(myx), np.std(myx)\n",
    "    poop = plt.hist(myx,bins=bins,color='b',histtype='step',\n",
    "                    label='Selected (Mean %0.2f, RMS %0.2f)' % (mymean,myrms))\n",
    "    \n",
    "    thisquery = myquery + ' and correct_ID == 1 and nu_E_estimate > 2.5'\n",
    "    myx = df_dict['cut'].query(thisquery)['kaon_prod_theta'].values\n",
    "    mymean, myrms = np.mean(myx), np.std(myx)\n",
    "    poop = plt.hist(myx,bins=bins,color='g',histtype='step',\n",
    "                    label='Selected > 2.5GeV (Mean %0.2f, RMS %0.2f)' % (mymean,myrms))\n",
    "    \n",
    "    plt.grid(True)\n",
    "    plt.xlabel('K+ Production Angle [degrees]',fontsize=16)\n",
    "    plt.legend(loc='best')\n",
    "    plt.title(mytitle,fontsize=16)\n",
    "    \n",
    "    #Energy plot\n",
    "    plt.figure(figsize=(10,6))\n",
    "    bins = np.linspace(0,8,20)\n",
    "    \n",
    "    thisquery = myquery + ' and nu_in_fidvol'\n",
    "    myx = df_dict['all'].query(thisquery)['kaon_prod_E'].values\n",
    "    mymean, myrms = np.mean(myx), np.std(myx)\n",
    "    poop = plt.hist(myx,bins=bins,color='r',histtype='step',\n",
    "                    label='All (Mean %0.2f, RMS %0.2f)' % (mymean,myrms))\n",
    "    \n",
    "    thisquery = myquery + ' and correct_ID == 1'\n",
    "    myx = df_dict['cut'].query(thisquery)['kaon_prod_E'].values\n",
    "    mymean, myrms = np.mean(myx), np.std(myx)\n",
    "    poop = plt.hist(myx,bins=bins,color='b',histtype='step',\n",
    "                    label='Selected (Mean %0.2f, RMS %0.2f)' % (mymean,myrms))\n",
    "    \n",
    "    thisquery = myquery + ' and correct_ID == 1 and nu_E_estimate > 2.5'\n",
    "    myx = df_dict['cut'].query(thisquery)['kaon_prod_E'].values\n",
    "    mymean, myrms = np.mean(myx), np.std(myx)\n",
    "    poop = plt.hist(myx,bins=bins,color='g',histtype='step',\n",
    "                    label='Selected > 2.5GeV (Mean %0.2f, RMS %0.2f)' % (mymean,myrms))\n",
    "    \n",
    "    plt.grid(True)\n",
    "    plt.xlabel('K+ Production Energy [GeV]',fontsize=16)\n",
    "    plt.legend(loc='best')\n",
    "    plt.title(mytitle,fontsize=16)"
   ]
  },
  {
   "cell_type": "code",
   "execution_count": null,
   "metadata": {
    "collapsed": false,
    "scrolled": false
   },
   "outputs": [],
   "source": [
    "# Numu from kaon decay in cryostat: all events\n",
    "mydf = df_dict['all']\n",
    "mybasequery = '(fndecay == 3 or fndecay == 4 or fndecay == 5 or fndecay == 7 or fndecay == 8 or fndecay == 10)'\n",
    "mybasequery += ' and (true_nu_pdg == 14 or true_nu_pdg == -14)'\n",
    "myquery = mybasequery\n",
    "myquery += ' and nu_in_fidvol'\n",
    "mytitle = 'All numu from Kaon Decay Fiducial Volume'\n",
    "kaon_2d_plot(mydf,myquery,mytitle)\n",
    "\n",
    "# Numu from kaon decay in crystat: selected events\n",
    "mydf = df_dict['cut']\n",
    "myquery = mybasequery\n",
    "myquery += ' and correct_ID == 1'\n",
    "mytitle = 'Selected numu from Kaon Decay Fiducial Volume'\n",
    "kaon_2d_plot(mydf,myquery,mytitle)\n",
    "\n",
    "# Numu from kaon decay in crystat: selected events after nu_E_estimate cut\n",
    "mydf = df_dict['cut']\n",
    "myquery = mybasequery\n",
    "myquery += ' and nu_E_estimate > 2.5'\n",
    "myquery += ' and correct_ID == 1'\n",
    "mytitle = 'Selected numu from Kaon Decay Fiducial Volume: After 2.5GeV Reco E Cut'\n",
    "kaon_2d_plot(mydf,myquery,mytitle)\n",
    "\n",
    "\n",
    "mytitle = 'Numu from Kaon Decay in the Fiducial Volume'\n",
    "kaon_1d_plots(mybasequery,mytitle)"
   ]
  },
  {
   "cell_type": "code",
   "execution_count": null,
   "metadata": {
    "collapsed": false,
    "scrolled": false
   },
   "outputs": [],
   "source": [
    "# Nue from kaon decay in cryostat: all events\n",
    "mybasequery = '(fndecay == 1 or fndecay == 2 or fndecay == 6 or fndecay == 9)'\n",
    "mybasequery += ' and (true_nu_pdg == 12 or true_nu_pdg == -12)'\n",
    "mydf = df_dict['all']\n",
    "myquery = mybasequery\n",
    "myquery += ' and nu_in_fidvol'\n",
    "mytitle = 'All nue from Kaon Decay Fiducial Volume'\n",
    "kaon_2d_plot(mydf,myquery,mytitle)\n",
    "\n",
    "# Nue from kaon decay in crystat: selected events\n",
    "mydf = df_dict['cut']\n",
    "myquery = mybasequery\n",
    "myquery += ' and correct_ID == 1'\n",
    "mytitle = 'Selected nue from Kaon Decay Fiducial Volume'\n",
    "kaon_2d_plot(mydf,myquery,mytitle)\n",
    "\n",
    "# Nue from kaon decay in crystat: selected events after nu_E_estimate cut\n",
    "mydf = df_dict['cut']\n",
    "myquery = mybasequery\n",
    "myquery += ' and nu_E_estimate > 2.5'\n",
    "myquery += ' and correct_ID == 1'\n",
    "mytitle = 'Selected nue from Kaon Decay Fiducial Volume: After 2.5GeV Reco E Cut'\n",
    "kaon_2d_plot(mydf,myquery,mytitle)\n",
    "\n",
    "\n",
    "mytitle = 'Nue from Kaon Decay in the Fiducial Volume'\n",
    "kaon_1d_plots(mybasequery,mytitle)"
   ]
  },
  {
   "cell_type": "code",
   "execution_count": null,
   "metadata": {
    "collapsed": true
   },
   "outputs": [],
   "source": []
  }
 ],
 "metadata": {
  "kernelspec": {
   "display_name": "Python 2",
   "language": "python",
   "name": "python2"
  },
  "language_info": {
   "codemirror_mode": {
    "name": "ipython",
    "version": 2
   },
   "file_extension": ".py",
   "mimetype": "text/x-python",
   "name": "python",
   "nbconvert_exporter": "python",
   "pygments_lexer": "ipython2",
   "version": "2.7.5"
  }
 },
 "nbformat": 4,
 "nbformat_minor": 0
}
