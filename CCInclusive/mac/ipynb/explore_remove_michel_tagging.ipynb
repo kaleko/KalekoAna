{
 "cells": [
  {
   "cell_type": "code",
   "execution_count": 1,
   "metadata": {
    "collapsed": true
   },
   "outputs": [],
   "source": [
    "%matplotlib inline\n",
    "from ROOT import TFile, TTree\n",
    "\n",
    "import numpy as np\n",
    "import matplotlib.pylab as plt\n",
    "import pandas as pd\n",
    "\n",
    "from root_numpy import root2array"
   ]
  },
  {
   "cell_type": "code",
   "execution_count": 3,
   "metadata": {
    "collapsed": false
   },
   "outputs": [],
   "source": [
    "filedir = '/Users/davidkaleko/larlite/UserDev/KalekoAna/CCInclusive/mac/'"
   ]
  },
  {
   "cell_type": "code",
   "execution_count": 18,
   "metadata": {
    "collapsed": true
   },
   "outputs": [],
   "source": [
    "def nExpectedEvents(df, mybasequery=None):\n",
    "    basequery = 'nu_E_estimate > 2.5 and second_longest_trk_len > 20.'\n",
    "    basequery += ' and longest_tracks_dotprod_trkendpoints > -0.5'\n",
    "    if mybasequery:\n",
    "        basequery = mybasequery\n",
    "    n_correct = len(df.FilterTrue.query(basequery).query('correct_ID == 1 and fndecay < 10'))\n",
    "    n_pionMID = len(df.FilterTrue.query(basequery).query('correct_ID == 1 and fndecay >= 10'))\n",
    "    n_cosmMID = len(df.FilterTrue.query(basequery).query('correct_ID == 0'))\n",
    "    n_cosmMID += len(df.FilterFlip.query(basequery).query('correct_ID == 0'))\n",
    "    n_correct *= (3./2)\n",
    "    n_pionMID *= (3./2)\n",
    "    n_cosmMID *= 5. * (3./2)\n",
    "    \n",
    "    return (n_correct, n_pionMID, n_cosmMID)"
   ]
  },
  {
   "cell_type": "code",
   "execution_count": 19,
   "metadata": {
    "collapsed": false
   },
   "outputs": [],
   "source": [
    "myfile2 = filedir + 'batch_out/XiaoEventAna_out_filterflip1_radius4.00.root'\n",
    "myfile1 = filedir + 'batch_out/XiaoEventAna_out_filterflip0_radius4.00.root'\n",
    "dflist = [ pd.DataFrame( root2array( myfile1, 'tree' ) ), \n",
    "              pd.DataFrame( root2array( myfile2, 'tree' ) ) ]\n",
    "df_yesmichel = pd.concat(dflist,axis=1,keys=['FilterTrue','FilterFlip'])\n",
    "\n",
    "myfile2 = filedir + 'XiaoEventAna_out_FILTERFLIP_NOMICHELTAGGING.root'\n",
    "myfile1 = filedir + 'XiaoEventAna_out_BNBcosmic_NOMICHELTAGGING.root'\n",
    "dflist = [ pd.DataFrame( root2array( myfile1, 'tree' ) ), \n",
    "              pd.DataFrame( root2array( myfile2, 'tree' ) ) ]\n",
    "df_nomichel = pd.concat(dflist,axis=1,keys=['FilterTrue','FilterFlip'])"
   ]
  },
  {
   "cell_type": "code",
   "execution_count": 20,
   "metadata": {
    "collapsed": false
   },
   "outputs": [
    {
     "name": "stdout",
     "output_type": "stream",
     "text": [
      "(177.0, 33.0, 7.5)\n"
     ]
    }
   ],
   "source": [
    "print nExpectedEvents(df_yesmichel)"
   ]
  },
  {
   "cell_type": "code",
   "execution_count": 21,
   "metadata": {
    "collapsed": false
   },
   "outputs": [
    {
     "name": "stdout",
     "output_type": "stream",
     "text": [
      "(181.5, 36.0, 15.0)\n"
     ]
    }
   ],
   "source": [
    "print nExpectedEvents(df_nomichel)"
   ]
  },
  {
   "cell_type": "code",
   "execution_count": 16,
   "metadata": {
    "collapsed": false
   },
   "outputs": [
    {
     "data": {
      "text/plain": [
       "array(['true_nu_pdg', 'true_nu_E', 'true_nu_CCNC', 'true_nu_mode',\n",
       "       'mu_contained', 'p_phi', 'mu_phi', 'correct_ID', 'mu_end_dedx',\n",
       "       'mu_start_dedx', 'fndecay', 'mu_p_dirdot', 'true_lepton_pdg',\n",
       "       'true_lepton_momentum', 'n_associated_tracks', 'longest_trk_len',\n",
       "       'second_longest_trk_len', 'longest_trk_theta',\n",
       "       'longest_trk_MCS_mom', 'nu_E_estimate', 'true_nu_x', 'true_nu_y',\n",
       "       'true_nu_z', 'dist_reco_true_vtx', 'max_tracks_dotprod',\n",
       "       'longest_tracks_dotprod', 'longest_tracks_dotprod_trkendpoints'], dtype=object)"
      ]
     },
     "execution_count": 16,
     "metadata": {},
     "output_type": "execute_result"
    }
   ],
   "source": [
    "df_yesmichel.FilterFlip.columns.values"
   ]
  },
  {
   "cell_type": "code",
   "execution_count": 17,
   "metadata": {
    "collapsed": false
   },
   "outputs": [
    {
     "data": {
      "text/plain": [
       "array([[<matplotlib.axes._subplots.AxesSubplot object at 0x113309790>]], dtype=object)"
      ]
     },
     "execution_count": 17,
     "metadata": {},
     "output_type": "execute_result"
    },
    {
     "data": {
      "image/png": "[encoded data removed]",
      "text/plain": [
       "<matplotlib.figure.Figure at 0x112e34b50>"
      ]
     },
     "metadata": {},
     "output_type": "display_data"
    },
    {
     "data": {
      "image/png": "[encoded data removed]",
      "text/plain": [
       "<matplotlib.figure.Figure at 0x113057250>"
      ]
     },
     "metadata": {},
     "output_type": "display_data"
    }
   ],
   "source": [
    "mybins = np.linspace(0,100,100)\n",
    "df_yesmichel.FilterFlip.hist('second_longest_trk_len',bins=mybins)\n",
    "df_nomichel.FilterFlip.hist('second_longest_trk_len',bins=mybins)"
   ]
  },
  {
   "cell_type": "code",
   "execution_count": null,
   "metadata": {
    "collapsed": true
   },
   "outputs": [],
   "source": []
  }
 ],
 "metadata": {
  "kernelspec": {
   "display_name": "Python 2",
   "language": "python",
   "name": "python2"
  },
  "language_info": {
   "codemirror_mode": {
    "name": "ipython",
    "version": 2
   },
   "file_extension": ".py",
   "mimetype": "text/x-python",
   "name": "python",
   "nbconvert_exporter": "python",
   "pygments_lexer": "ipython2",
   "version": "2.7.5"
  }
 },
 "nbformat": 4,
 "nbformat_minor": 0
}
